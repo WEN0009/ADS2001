{
 "cells": [
  {
   "cell_type": "markdown",
   "metadata": {},
   "source": [
    "# <span style=\"color:#0b486b\">  FIT3181: Deep Learning (2022)</span>\n",
    "***\n",
    "*CE/Lecturer:* Dr **Trung Le** | trunglm@monash.edu <br/>\n",
    "*Head Tutor:* Mr **Thanh Nguyen** | thanh.nguyen4@monash.edu <br/>\n",
    "<br/>\n",
    "Department of Data Science and AI, Faculty of Information Technology, Monash University, Australia\n",
    "***"
   ]
  },
  {
   "cell_type": "markdown",
   "metadata": {},
   "source": [
    "# <span style=\"color:#0b486b\">  Student Information</span>\n",
    "Surname: **[Wen]**  <br/>\n",
    "Firstname: **[Wen]**    <br/>\n",
    "Student ID: **[31514081]**    <br/>\n",
    "Email: **[wwen0009@student.monash.edu]**    <br/>\n",
    "Your tutorial time: **[FIT3181 Laboratory 01_OnCampus: Thursday 10:00-12:00]**    <br/>\n",
    "***"
   ]
  },
  {
   "cell_type": "markdown",
   "metadata": {},
   "source": [
    "## <span style=\"color:#0b486b\">Assignment 02: Neural Embedding and Sequence Modelling</span>\n",
    "### Due: <span style=\"color:red\">11:59pm 23 October 2022</span>  (Sunday)\n",
    "\n",
    "#### <span style=\"color:red\">Important note:</span> This is an **individual** assignment. It contributes **20%** to you final mark. Read the assignment instruction carefully."
   ]
  },
  {
   "cell_type": "markdown",
   "metadata": {},
   "source": [
    "## <span style=\"color:#0b486b\">Instructions</span>\n",
    "\n",
    "This notebook has been prepared for your to complete Assignment 2. The theme of this assignment is about practical machine learning knowledge and skills in deep neural networks, word embedding and text analytics. Some sections have been partially completed to help you get\n",
    "started. **The total marks for this notebook is 100**."
   ]
  },
  {
   "cell_type": "markdown",
   "metadata": {},
   "source": [
    "* Before you start, read the entire notebook carefully once to understand what you need to do. <br><br>\n",
    "* For each cell marked with **#YOU ARE REQUIRED TO INSERT YOUR CODES IN THIS CELL**, there will be places where you **must** supply your own codes when instructed. <br>\n",
    "\n",
    "This assignment contains **five** parts:\n",
    "\n",
    "* Part 1: Questions on downloading and preprocessing data **[5 points]**\n",
    "* Part 2: Questions on using Word2Vect to transform texts to vectors **[20 points]**\n",
    "* Part 3: Coding assessment on Text CNN for sequence modeling and neural embedding **[10 points]**\n",
    "* Part 4: Coding assessment on BERT for a feature extraction **[10 points]**\n",
    "* Part 5: Coding assessment on RNNs for sequence modeling and neural embedding **[55 points]**\n",
    "\n",
    "\n",
    "**Hint**: This assignment was essentially designed based on the lectures and tutorials sessions covered from Weeks 7 to 10. You are strongly recommended to go through these contents thoroughly which might help you to complete this assignment."
   ]
  },
  {
   "cell_type": "markdown",
   "metadata": {},
   "source": [
    "## <span style=\"color:#0b486b\">What to submit</span>\n",
    "\n",
    "This assignment is to be completed individually and submitted to Moodle unit site. **By the due date, you are required to submit one  <span style=\"color:red; font-weight:bold\">single zip file, named xxx_assignment02_solution.zip</span> where `xxx` is your student ID, to the corresponding Assignment (Dropbox) in Moodle**. "
   ]
  },
  {
   "cell_type": "markdown",
   "metadata": {},
   "source": [
    "***For example, if your student ID is <span style=\"color:red; font-weight:bold\">12356</span>, then gather all of your assignment solution to folder, create a zip file named <span style=\"color:red; font-weight:bold\">123456_assignment02_solution.zip</span> and submit this file.***"
   ]
  },
  {
   "cell_type": "markdown",
   "metadata": {},
   "source": [
    "Within this zip folder, you **must** submit the following files:\n",
    "1.\t**Assignment02_solution.ipynb**:  this is your Python notebook solution source file.\n",
    "1.\t**Assignment02_output.html**: this is the output of your Python notebook solution *exported* in html format.\n",
    "1.\tAny **extra files or folder** needed to complete your assignment (e.g., images used in your answers)."
   ]
  },
  {
   "cell_type": "markdown",
   "metadata": {},
   "source": [
    "## <span style=\"color:#0b486b\">Set random seeds</span>"
   ]
  },
  {
   "cell_type": "markdown",
   "metadata": {},
   "source": [
    "We start with importing tensorflow and numpy and setting random seeds for TF and numpy. You can use any seeds you prefer."
   ]
  },
  {
   "cell_type": "code",
   "execution_count": 2,
   "metadata": {},
   "outputs": [],
   "source": [
    "import numpy as np\n",
    "import tensorflow as tf\n",
    "\n",
    "tf.random.set_seed(6789)\n",
    "np.random.seed(6789)\n",
    "import warnings  # In order not to show warning\n",
    "warnings.filterwarnings(\"ignore\")"
   ]
  },
  {
   "cell_type": "markdown",
   "metadata": {},
   "source": [
    "## <span style=\"color:#0b486b\">Part 1: Download and preprocess the data</span>\n",
    "\n",
    "<div style=\"text-align: right\"><span style=\"color:red; font-weight:bold\">[Total marks for this part: 5 points]<span></div>"
   ]
  },
  {
   "cell_type": "markdown",
   "metadata": {},
   "source": [
    "The dataset we use for this assignment is a question classification dataset for which the train set consists of $5,500$ questions belonging to 6 coarse question categories including:\n",
    "- abbreviation (ABBR), \n",
    "- entity (ENTY), \n",
    "- description (DESC), \n",
    "- human (HUM), \n",
    "- location (LOC) and \n",
    "- numeric (NUM).\n"
   ]
  },
  {
   "cell_type": "markdown",
   "metadata": {},
   "source": [
    "Preprocessing data is an inital and important step in any machine learning or deep learning projects. The following *DataManager* class helps you to download data and preprocess data for the later questions of this assignment. "
   ]
  },
  {
   "cell_type": "code",
   "execution_count": 15,
   "metadata": {},
   "outputs": [],
   "source": [
    "import os\n",
    "import zipfile\n",
    "import collections\n",
    "from six.moves import range\n",
    "from six.moves.urllib.request import urlretrieve\n",
    "from sklearn import preprocessing\n",
    "from sklearn.model_selection import train_test_split\n",
    "import matplotlib.pyplot as plt\n",
    "plt.style.use('ggplot')\n",
    "\n",
    "class DataManager:\n",
    "    def __init__(self, verbose=True, maxlen= 50, random_state=6789):\n",
    "        self.verbose = verbose\n",
    "        self.max_sentence_len = 0\n",
    "        self.str_questions = list()\n",
    "        self.str_labels = list()\n",
    "        self.numeral_labels = list()\n",
    "        self.maxlen = maxlen\n",
    "        self.numeral_data = list()\n",
    "        self.random_state = random_state\n",
    "        self.random = np.random.RandomState(random_state)\n",
    "        \n",
    "    @staticmethod\n",
    "    def maybe_download(dir_name, file_name, url, verbose= True):\n",
    "        if not os.path.exists(dir_name):\n",
    "            os.mkdir(dir_name)\n",
    "        if not os.path.exists(os.path.join(dir_name, file_name)):\n",
    "            urlretrieve(url + file_name, os.path.join(dir_name, file_name))\n",
    "        if verbose:\n",
    "            print(\"Downloaded successfully {}\".format(file_name))\n",
    "    \n",
    "    def read_data(self, dir_name, file_names):\n",
    "        self.str_questions= list(); self.str_labels= list()\n",
    "        for file_name in file_names:\n",
    "            file_path= os.path.join(dir_name, file_name)\n",
    "            with open(file_path, \"r\", encoding=\"latin-1\") as f:\n",
    "                for row in f:\n",
    "                    row_str= row.split(\":\")\n",
    "                    label, question= row_str[0], row_str[1]\n",
    "                    question= question.lower()\n",
    "                    self.str_labels.append(label)\n",
    "                    self.str_questions.append(question[0:-1])\n",
    "                    if self.max_sentence_len < len(self.str_questions[-1]):\n",
    "                        self.max_sentence_len= len(self.str_questions[-1])\n",
    "         \n",
    "        # turns labels into numbers\n",
    "        le= preprocessing.LabelEncoder()\n",
    "        le.fit(self.str_labels)\n",
    "        self.numeral_labels = np.array(le.transform(self.str_labels))\n",
    "        self.str_classes= le.classes_\n",
    "        self.num_classes= len(self.str_classes)\n",
    "        if self.verbose:\n",
    "            print(\"\\nSample questions... \\n\")\n",
    "            print(self.str_questions[0:5])\n",
    "            print(\"Labels {}\\n\\n\".format(self.str_classes))\n",
    "    \n",
    "    def manipulate_data(self):\n",
    "        tokenizer = tf.keras.preprocessing.text.Tokenizer()\n",
    "        tokenizer.fit_on_texts(self.str_questions)\n",
    "        self.numeral_data = tokenizer.texts_to_sequences(self.str_questions)\n",
    "        self.numeral_data = tf.keras.preprocessing.sequence.pad_sequences(self.numeral_data, padding='post', truncating= 'post', maxlen= self.maxlen)\n",
    "        self.word2idx = tokenizer.word_index\n",
    "        self.word2idx = {k:v for k,v in self.word2idx.items()}\n",
    "        self.idx2word = {v:k for k,v in self.word2idx.items()}\n",
    "        self.vocab_size = len(self.word2idx)\n",
    "    \n",
    "    def train_valid_split(self, train_ratio=0.9):\n",
    "        idxs = np.random.permutation(np.arange(len(self.str_questions)))\n",
    "        train_size = int(train_ratio*len(idxs)) +1\n",
    "        self.train_str_questions, self.valid_str_questions = self.str_questions[0:train_size], self.str_questions[train_size:]\n",
    "        self.train_numeral_data, self.valid_numeral_data = self.numeral_data[0:train_size], self.numeral_data[train_size:]\n",
    "        self.train_numeral_labels, self.valid_numeral_labels = self.numeral_labels[0:train_size], self.numeral_labels[train_size:]\n",
    "        self.tf_train_set = tf.data.Dataset.from_tensor_slices((self.train_numeral_data, self.train_numeral_labels))\n",
    "        self.tf_valid_set = tf.data.Dataset.from_tensor_slices((self.valid_numeral_data, self.valid_numeral_labels))"
   ]
  },
  {
   "cell_type": "code",
   "execution_count": 16,
   "metadata": {},
   "outputs": [
    {
     "name": "stdout",
     "output_type": "stream",
     "text": [
      "Loading data...\n",
      "Downloaded successfully train_1000.label\n",
      "Downloaded successfully TREC_10.label\n",
      "\n",
      "Sample questions... \n",
      "\n",
      "['manner how did serfdom develop in and then leave russia ?', 'cremat what films featured the character popeye doyle ?', \"manner how can i find a list of celebrities ' real names ?\", 'animal what fowl grabs the spotlight after the chinese year of the monkey ?', 'exp what is the full form of .com ?']\n",
      "Labels ['ABBR' 'DESC' 'ENTY' 'HUM' 'LOC' 'NUM']\n",
      "\n",
      "\n"
     ]
    }
   ],
   "source": [
    "print('Loading data...')\n",
    "DataManager.maybe_download(\"Data\", \"train_1000.label\", \"http://cogcomp.org/Data/QA/QC/\")\n",
    "DataManager.maybe_download(\"Data\", \"TREC_10.label\", \"http://cogcomp.org/Data/QA/QC/\")\n",
    "\n",
    "dm = DataManager(maxlen=100)\n",
    "dm.read_data(\"Data/\", [\"train_1000.label\", \"TREC_10.label\"])   # read data\n",
    "# If you want to play around with a bigger dataset, you can try train_set.label"
   ]
  },
  {
   "cell_type": "code",
   "execution_count": 17,
   "metadata": {},
   "outputs": [],
   "source": [
    "dm.manipulate_data()\n",
    "dm.train_valid_split(train_ratio=0.8)"
   ]
  },
  {
   "cell_type": "markdown",
   "metadata": {},
   "source": [
    "You now have a data manager, named *dm* containing the training and validiation sets in both text and numeric forms. Your task is to play around and read this code to figure out the meanings of some important attributes that will be used in the next parts."
   ]
  },
  {
   "cell_type": "markdown",
   "metadata": {},
   "source": [
    "#### <span style=\"color:red\">**Question 1.1**</span> \n",
    "**What is the purpose of `self.train_str_questions` and `self.train_numeral_labels`? Write your code to print out the first five questions with labels in the training set.**\n",
    "\n",
    "<div style=\"text-align: right\"><span style=\"color:red\">[1 point]</span></div> "
   ]
  },
  {
   "cell_type": "markdown",
   "metadata": {},
   "source": [
    "The function of DataManager is to divide all the data into 80% for training and 20% for validation.\n",
    "The structure of the training data and the validation data is the same.\n",
    "\n",
    "str_questions is a variable that is converted to a string type for each question in the file\n",
    "train_str_questions means that it is a question in the training data set.\n",
    "\n",
    "numeral_label is the label corresponding to each question, there are 6 labels in total.\n",
    "train_numerical_label means it is a label in the training dataset expressed using numeric forms"
   ]
  },
  {
   "cell_type": "markdown",
   "metadata": {},
   "source": [
    "#Your answer here\n",
    "\n",
    "\n"
   ]
  },
  {
   "cell_type": "code",
   "execution_count": 5,
   "metadata": {},
   "outputs": [
    {
     "name": "stdout",
     "output_type": "stream",
     "text": [
      "manner how did serfdom develop in and then leave russia ?\n",
      "1\n",
      "cremat what films featured the character popeye doyle ?\n",
      "2\n",
      "manner how can i find a list of celebrities ' real names ?\n",
      "1\n",
      "animal what fowl grabs the spotlight after the chinese year of the monkey ?\n",
      "2\n",
      "exp what is the full form of .com ?\n",
      "0\n"
     ]
    }
   ],
   "source": [
    "#Your code here\n",
    "for i in range(5):\n",
    "    print(dm.train_str_questions[i])\n",
    "    print(dm.train_numeral_labels[i])"
   ]
  },
  {
   "cell_type": "markdown",
   "metadata": {},
   "source": [
    "#### <span style=\"color:red\">**Question 1.2**</span> \n",
    "**What is the purpose of `self.train_numeral_data`? Write your code to print out the first five questions in the numeric format with labels in the training set.**\n",
    "\n",
    "<div style=\"text-align: right\"><span style=\"color:red\">[1 point]</span></div> "
   ]
  },
  {
   "cell_type": "markdown",
   "metadata": {},
   "source": [
    "train_numeral_data is the data of train_str_questions after numerical conversion, because neural network model cannot receive string type as input\n",
    "\n",
    "\n"
   ]
  },
  {
   "cell_type": "code",
   "execution_count": 6,
   "metadata": {},
   "outputs": [
    {
     "name": "stdout",
     "output_type": "stream",
     "text": [
      "[  35   11   18 1030 1031    5   25  561 1032  562    0    0    0    0\n",
      "    0    0    0    0    0    0    0    0    0    0    0    0    0    0\n",
      "    0    0    0    0    0    0    0    0    0    0    0    0    0    0\n",
      "    0    0    0    0    0    0    0    0    0    0    0    0    0    0\n",
      "    0    0    0    0    0    0    0    0    0    0    0    0    0    0\n",
      "    0    0    0    0    0    0    0    0    0    0    0    0    0    0\n",
      "    0    0    0    0    0    0    0    0    0    0    0    0    0    0\n",
      "    0    0]\n",
      "[  43    2  563 1033    1  164 1034 1035    0    0    0    0    0    0\n",
      "    0    0    0    0    0    0    0    0    0    0    0    0    0    0\n",
      "    0    0    0    0    0    0    0    0    0    0    0    0    0    0\n",
      "    0    0    0    0    0    0    0    0    0    0    0    0    0    0\n",
      "    0    0    0    0    0    0    0    0    0    0    0    0    0    0\n",
      "    0    0    0    0    0    0    0    0    0    0    0    0    0    0\n",
      "    0    0    0    0    0    0    0    0    0    0    0    0    0    0\n",
      "    0    0]\n",
      "[  35   11   45   40   60    7  389    4 1036   88  295  165    0    0\n",
      "    0    0    0    0    0    0    0    0    0    0    0    0    0    0\n",
      "    0    0    0    0    0    0    0    0    0    0    0    0    0    0\n",
      "    0    0    0    0    0    0    0    0    0    0    0    0    0    0\n",
      "    0    0    0    0    0    0    0    0    0    0    0    0    0    0\n",
      "    0    0    0    0    0    0    0    0    0    0    0    0    0    0\n",
      "    0    0    0    0    0    0    0    0    0    0    0    0    0    0\n",
      "    0    0]\n",
      "[  34    2 1037 1038    1 1039  232    1  564   50    4    1 1040    0\n",
      "    0    0    0    0    0    0    0    0    0    0    0    0    0    0\n",
      "    0    0    0    0    0    0    0    0    0    0    0    0    0    0\n",
      "    0    0    0    0    0    0    0    0    0    0    0    0    0    0\n",
      "    0    0    0    0    0    0    0    0    0    0    0    0    0    0\n",
      "    0    0    0    0    0    0    0    0    0    0    0    0    0    0\n",
      "    0    0    0    0    0    0    0    0    0    0    0    0    0    0\n",
      "    0    0]\n",
      "[ 61   2   3   1 390 233   4 199   0   0   0   0   0   0   0   0   0   0\n",
      "   0   0   0   0   0   0   0   0   0   0   0   0   0   0   0   0   0   0\n",
      "   0   0   0   0   0   0   0   0   0   0   0   0   0   0   0   0   0   0\n",
      "   0   0   0   0   0   0   0   0   0   0   0   0   0   0   0   0   0   0\n",
      "   0   0   0   0   0   0   0   0   0   0   0   0   0   0   0   0   0   0\n",
      "   0   0   0   0   0   0   0   0   0   0]\n"
     ]
    }
   ],
   "source": [
    "for i in range(5):\n",
    "    print(dm.train_numeral_data[i])"
   ]
  },
  {
   "cell_type": "markdown",
   "metadata": {},
   "source": [
    "#### <span style=\"color:red\">**Question 1.3**</span> \n",
    "**What is the purpose of two dictionaries: `self.word2idx` and `self.idx2word`? Write your code to print out the first five key-value pairs of those dictionaries.**\n",
    "\n",
    "<div style=\"text-align: right\"><span style=\"color:red\">[1 point]</span></div> "
   ]
  },
  {
   "cell_type": "markdown",
   "metadata": {},
   "source": [
    "In the previous step, we converted all questions into numeric form, separating the words in each sentence one by one\n",
    "\n",
    "The use of word2idx is to keep the information of index, stored as [word,1]\n",
    "\n",
    "idx2word is stored in the opposite way to word2idx, in the way [1,word]\n",
    "\n",
    "This will make the subsequent code run with less complexity and faster processing time"
   ]
  },
  {
   "cell_type": "code",
   "execution_count": 7,
   "metadata": {},
   "outputs": [
    {
     "name": "stdout",
     "output_type": "stream",
     "text": [
      "('the', 1)\n",
      "(1, 'the')\n",
      "('what', 2)\n",
      "(2, 'what')\n",
      "('is', 3)\n",
      "(3, 'is')\n",
      "('of', 4)\n",
      "(4, 'of')\n",
      "('in', 5)\n",
      "(5, 'in')\n"
     ]
    }
   ],
   "source": [
    "#Your code here\n",
    "word2idx = list(dm.word2idx.items())\n",
    "idx2word = list(dm.idx2word.items())\n",
    "for i in range (5):\n",
    "    print(word2idx[i])\n",
    "    print(idx2word[i])"
   ]
  },
  {
   "cell_type": "markdown",
   "metadata": {},
   "source": [
    "#### <span style=\"color:red\">**Question 1.4**</span> \n",
    "**What is the purpose of `self.tf_train_set`? Write your code to print out the first five items of `self.tf_train_set`.**\n",
    "\n",
    "<div style=\"text-align: right\"><span style=\"color:red\">[1 point]</span></div> "
   ]
  },
  {
   "cell_type": "markdown",
   "metadata": {},
   "source": [
    "tf_train_set is the data stitched together from_tensor_slices() with train_numeral_data, train_numeral_labels\n",
    "\n",
    "The model is used to train a neural network model that can identify the type of problem\n"
   ]
  },
  {
   "cell_type": "code",
   "execution_count": 8,
   "metadata": {},
   "outputs": [
    {
     "name": "stdout",
     "output_type": "stream",
     "text": [
      "(<tf.Tensor: shape=(100,), dtype=int32, numpy=\n",
      "array([  35,   11,   18, 1030, 1031,    5,   25,  561, 1032,  562,    0,\n",
      "          0,    0,    0,    0,    0,    0,    0,    0,    0,    0,    0,\n",
      "          0,    0,    0,    0,    0,    0,    0,    0,    0,    0,    0,\n",
      "          0,    0,    0,    0,    0,    0,    0,    0,    0,    0,    0,\n",
      "          0,    0,    0,    0,    0,    0,    0,    0,    0,    0,    0,\n",
      "          0,    0,    0,    0,    0,    0,    0,    0,    0,    0,    0,\n",
      "          0,    0,    0,    0,    0,    0,    0,    0,    0,    0,    0,\n",
      "          0,    0,    0,    0,    0,    0,    0,    0,    0,    0,    0,\n",
      "          0,    0,    0,    0,    0,    0,    0,    0,    0,    0,    0,\n",
      "          0])>, <tf.Tensor: shape=(), dtype=int32, numpy=1>)\n",
      "(<tf.Tensor: shape=(100,), dtype=int32, numpy=\n",
      "array([  35,   11,   18, 1030, 1031,    5,   25,  561, 1032,  562,    0,\n",
      "          0,    0,    0,    0,    0,    0,    0,    0,    0,    0,    0,\n",
      "          0,    0,    0,    0,    0,    0,    0,    0,    0,    0,    0,\n",
      "          0,    0,    0,    0,    0,    0,    0,    0,    0,    0,    0,\n",
      "          0,    0,    0,    0,    0,    0,    0,    0,    0,    0,    0,\n",
      "          0,    0,    0,    0,    0,    0,    0,    0,    0,    0,    0,\n",
      "          0,    0,    0,    0,    0,    0,    0,    0,    0,    0,    0,\n",
      "          0,    0,    0,    0,    0,    0,    0,    0,    0,    0,    0,\n",
      "          0,    0,    0,    0,    0,    0,    0,    0,    0,    0,    0,\n",
      "          0])>, <tf.Tensor: shape=(), dtype=int32, numpy=1>)\n",
      "(<tf.Tensor: shape=(100,), dtype=int32, numpy=\n",
      "array([  35,   11,   18, 1030, 1031,    5,   25,  561, 1032,  562,    0,\n",
      "          0,    0,    0,    0,    0,    0,    0,    0,    0,    0,    0,\n",
      "          0,    0,    0,    0,    0,    0,    0,    0,    0,    0,    0,\n",
      "          0,    0,    0,    0,    0,    0,    0,    0,    0,    0,    0,\n",
      "          0,    0,    0,    0,    0,    0,    0,    0,    0,    0,    0,\n",
      "          0,    0,    0,    0,    0,    0,    0,    0,    0,    0,    0,\n",
      "          0,    0,    0,    0,    0,    0,    0,    0,    0,    0,    0,\n",
      "          0,    0,    0,    0,    0,    0,    0,    0,    0,    0,    0,\n",
      "          0,    0,    0,    0,    0,    0,    0,    0,    0,    0,    0,\n",
      "          0])>, <tf.Tensor: shape=(), dtype=int32, numpy=1>)\n",
      "(<tf.Tensor: shape=(100,), dtype=int32, numpy=\n",
      "array([  35,   11,   18, 1030, 1031,    5,   25,  561, 1032,  562,    0,\n",
      "          0,    0,    0,    0,    0,    0,    0,    0,    0,    0,    0,\n",
      "          0,    0,    0,    0,    0,    0,    0,    0,    0,    0,    0,\n",
      "          0,    0,    0,    0,    0,    0,    0,    0,    0,    0,    0,\n",
      "          0,    0,    0,    0,    0,    0,    0,    0,    0,    0,    0,\n",
      "          0,    0,    0,    0,    0,    0,    0,    0,    0,    0,    0,\n",
      "          0,    0,    0,    0,    0,    0,    0,    0,    0,    0,    0,\n",
      "          0,    0,    0,    0,    0,    0,    0,    0,    0,    0,    0,\n",
      "          0,    0,    0,    0,    0,    0,    0,    0,    0,    0,    0,\n",
      "          0])>, <tf.Tensor: shape=(), dtype=int32, numpy=1>)\n",
      "(<tf.Tensor: shape=(100,), dtype=int32, numpy=\n",
      "array([  35,   11,   18, 1030, 1031,    5,   25,  561, 1032,  562,    0,\n",
      "          0,    0,    0,    0,    0,    0,    0,    0,    0,    0,    0,\n",
      "          0,    0,    0,    0,    0,    0,    0,    0,    0,    0,    0,\n",
      "          0,    0,    0,    0,    0,    0,    0,    0,    0,    0,    0,\n",
      "          0,    0,    0,    0,    0,    0,    0,    0,    0,    0,    0,\n",
      "          0,    0,    0,    0,    0,    0,    0,    0,    0,    0,    0,\n",
      "          0,    0,    0,    0,    0,    0,    0,    0,    0,    0,    0,\n",
      "          0,    0,    0,    0,    0,    0,    0,    0,    0,    0,    0,\n",
      "          0,    0,    0,    0,    0,    0,    0,    0,    0,    0,    0,\n",
      "          0])>, <tf.Tensor: shape=(), dtype=int32, numpy=1>)\n"
     ]
    }
   ],
   "source": [
    "#Your code here\n",
    "for i in range (5):\n",
    "    print(next(iter(dm.tf_train_set)))"
   ]
  },
  {
   "cell_type": "markdown",
   "metadata": {},
   "source": [
    "#### <span style=\"color:red\">**Question 1.5**</span> \n",
    "**What is the purpose of `self.tf_valid_set`? Write your code to print out the first five items of `self.tf_valid_set`.**\n",
    "\n",
    "<div style=\"text-align: right\"><span style=\"color:red\">[1 point]</span></div> "
   ]
  },
  {
   "cell_type": "markdown",
   "metadata": {},
   "source": [
    "tf_valid_set is the data stitched together from_tensor_slices() from valid_numeral_data, valid_numeral_labels\n",
    "\n",
    "This model is the neural network model used in the validation process"
   ]
  },
  {
   "cell_type": "code",
   "execution_count": 9,
   "metadata": {},
   "outputs": [
    {
     "name": "stdout",
     "output_type": "stream",
     "text": [
      "(<tf.Tensor: shape=(100,), dtype=int32, numpy=\n",
      "array([  23,    2,   23,   13,  243,    3,   53,    1, 3031,   20,    0,\n",
      "          0,    0,    0,    0,    0,    0,    0,    0,    0,    0,    0,\n",
      "          0,    0,    0,    0,    0,    0,    0,    0,    0,    0,    0,\n",
      "          0,    0,    0,    0,    0,    0,    0,    0,    0,    0,    0,\n",
      "          0,    0,    0,    0,    0,    0,    0,    0,    0,    0,    0,\n",
      "          0,    0,    0,    0,    0,    0,    0,    0,    0,    0,    0,\n",
      "          0,    0,    0,    0,    0,    0,    0,    0,    0,    0,    0,\n",
      "          0,    0,    0,    0,    0,    0,    0,    0,    0,    0,    0,\n",
      "          0,    0,    0,    0,    0,    0,    0,    0,    0,    0,    0,\n",
      "          0])>, <tf.Tensor: shape=(), dtype=int32, numpy=4>)\n",
      "(<tf.Tensor: shape=(100,), dtype=int32, numpy=\n",
      "array([  23,    2,   23,   13,  243,    3,   53,    1, 3031,   20,    0,\n",
      "          0,    0,    0,    0,    0,    0,    0,    0,    0,    0,    0,\n",
      "          0,    0,    0,    0,    0,    0,    0,    0,    0,    0,    0,\n",
      "          0,    0,    0,    0,    0,    0,    0,    0,    0,    0,    0,\n",
      "          0,    0,    0,    0,    0,    0,    0,    0,    0,    0,    0,\n",
      "          0,    0,    0,    0,    0,    0,    0,    0,    0,    0,    0,\n",
      "          0,    0,    0,    0,    0,    0,    0,    0,    0,    0,    0,\n",
      "          0,    0,    0,    0,    0,    0,    0,    0,    0,    0,    0,\n",
      "          0,    0,    0,    0,    0,    0,    0,    0,    0,    0,    0,\n",
      "          0])>, <tf.Tensor: shape=(), dtype=int32, numpy=4>)\n",
      "(<tf.Tensor: shape=(100,), dtype=int32, numpy=\n",
      "array([  23,    2,   23,   13,  243,    3,   53,    1, 3031,   20,    0,\n",
      "          0,    0,    0,    0,    0,    0,    0,    0,    0,    0,    0,\n",
      "          0,    0,    0,    0,    0,    0,    0,    0,    0,    0,    0,\n",
      "          0,    0,    0,    0,    0,    0,    0,    0,    0,    0,    0,\n",
      "          0,    0,    0,    0,    0,    0,    0,    0,    0,    0,    0,\n",
      "          0,    0,    0,    0,    0,    0,    0,    0,    0,    0,    0,\n",
      "          0,    0,    0,    0,    0,    0,    0,    0,    0,    0,    0,\n",
      "          0,    0,    0,    0,    0,    0,    0,    0,    0,    0,    0,\n",
      "          0,    0,    0,    0,    0,    0,    0,    0,    0,    0,    0,\n",
      "          0])>, <tf.Tensor: shape=(), dtype=int32, numpy=4>)\n",
      "(<tf.Tensor: shape=(100,), dtype=int32, numpy=\n",
      "array([  23,    2,   23,   13,  243,    3,   53,    1, 3031,   20,    0,\n",
      "          0,    0,    0,    0,    0,    0,    0,    0,    0,    0,    0,\n",
      "          0,    0,    0,    0,    0,    0,    0,    0,    0,    0,    0,\n",
      "          0,    0,    0,    0,    0,    0,    0,    0,    0,    0,    0,\n",
      "          0,    0,    0,    0,    0,    0,    0,    0,    0,    0,    0,\n",
      "          0,    0,    0,    0,    0,    0,    0,    0,    0,    0,    0,\n",
      "          0,    0,    0,    0,    0,    0,    0,    0,    0,    0,    0,\n",
      "          0,    0,    0,    0,    0,    0,    0,    0,    0,    0,    0,\n",
      "          0,    0,    0,    0,    0,    0,    0,    0,    0,    0,    0,\n",
      "          0])>, <tf.Tensor: shape=(), dtype=int32, numpy=4>)\n",
      "(<tf.Tensor: shape=(100,), dtype=int32, numpy=\n",
      "array([  23,    2,   23,   13,  243,    3,   53,    1, 3031,   20,    0,\n",
      "          0,    0,    0,    0,    0,    0,    0,    0,    0,    0,    0,\n",
      "          0,    0,    0,    0,    0,    0,    0,    0,    0,    0,    0,\n",
      "          0,    0,    0,    0,    0,    0,    0,    0,    0,    0,    0,\n",
      "          0,    0,    0,    0,    0,    0,    0,    0,    0,    0,    0,\n",
      "          0,    0,    0,    0,    0,    0,    0,    0,    0,    0,    0,\n",
      "          0,    0,    0,    0,    0,    0,    0,    0,    0,    0,    0,\n",
      "          0,    0,    0,    0,    0,    0,    0,    0,    0,    0,    0,\n",
      "          0,    0,    0,    0,    0,    0,    0,    0,    0,    0,    0,\n",
      "          0])>, <tf.Tensor: shape=(), dtype=int32, numpy=4>)\n"
     ]
    }
   ],
   "source": [
    "#Your code here\n",
    "for i in range (5):\n",
    "    print(next(iter(dm.tf_valid_set)))"
   ]
  },
  {
   "cell_type": "markdown",
   "metadata": {},
   "source": [
    "## <span style=\"color:#0b486b\">Part 2: Using Word2Vect to transform texts to vectors </span>\n",
    "\n",
    "<div style=\"text-align: right\"><span style=\"color:red; font-weight:bold\">[Total marks for this part: 20 points]<span></div>"
   ]
  },
  {
   "cell_type": "markdown",
   "metadata": {},
   "source": [
    "In this part, you will be assessed on how to use a pretrained Word2Vect model for realizing a machine learning task. Basically, you will use this pretrained Word2Vect to transform the questions in the above dataset stored in the *data manager object dm* to numeric form for training a Support Vector Machine in sckit-learn.  "
   ]
  },
  {
   "cell_type": "code",
   "execution_count": 10,
   "metadata": {},
   "outputs": [
    {
     "name": "stdout",
     "output_type": "stream",
     "text": [
      "Requirement already satisfied: gensim in d:\\jupyter\\envs\\tf2_cpu\\lib\\site-packages (4.2.0)\n",
      "Requirement already satisfied: scipy>=0.18.1 in d:\\jupyter\\envs\\tf2_cpu\\lib\\site-packages (from gensim) (1.7.3)\n",
      "Requirement already satisfied: Cython==0.29.28 in d:\\jupyter\\envs\\tf2_cpu\\lib\\site-packages (from gensim) (0.29.28)\n",
      "Requirement already satisfied: numpy>=1.17.0 in d:\\jupyter\\envs\\tf2_cpu\\lib\\site-packages (from gensim) (1.19.5)\n",
      "Requirement already satisfied: smart-open>=1.8.1 in d:\\jupyter\\envs\\tf2_cpu\\lib\\site-packages (from gensim) (6.2.0)\n",
      "Note: you may need to restart the kernel to use updated packages.\n"
     ]
    }
   ],
   "source": [
    "pip install gensim"
   ]
  },
  {
   "cell_type": "code",
   "execution_count": 18,
   "metadata": {},
   "outputs": [],
   "source": [
    "import gensim.downloader as api\n",
    "from gensim.models import Word2Vec\n",
    "from sklearn.svm import SVC\n",
    "from sklearn.preprocessing import MinMaxScaler\n",
    "from sklearn.metrics import accuracy_score"
   ]
  },
  {
   "cell_type": "markdown",
   "metadata": {},
   "source": [
    "#### <span style=\"color:red\">**Question 2.1**</span> \n",
    "**Write code to download the pretrained model *glove-wiki-gigaword-100*. Note that this model transforms a word in its dictionary to a $100$ dimensional vector.**\n",
    "\n",
    "<div style=\"text-align: right\"><span style=\"color:red\">[2 points]</span></div> "
   ]
  },
  {
   "cell_type": "code",
   "execution_count": 19,
   "metadata": {},
   "outputs": [],
   "source": [
    "word2vect = api.load(\"glove-wiki-gigaword-100\")"
   ]
  },
  {
   "cell_type": "markdown",
   "metadata": {},
   "source": [
    "#### <span style=\"color:red\">**Question 2.2**</span> \n",
    "\n",
    "**Write code for the function *get_word_vector(word, model)* used to transform a word to a vector using the pretrained Word2Vect model *model*. Note that for a word not in the vocabulary of our *word2vect*, you need to return a vector $0$ with 100 dimensions.**\n",
    "\n",
    "<div style=\"text-align: right\"><span style=\"color:red\">[3 points]</span></div> "
   ]
  },
  {
   "cell_type": "code",
   "execution_count": 20,
   "metadata": {},
   "outputs": [],
   "source": [
    "def get_word_vector(word, model):\n",
    "    try:\n",
    "        vector = model.get_vector(word)#Insert your code here\n",
    "    except: #word not in the vocabulary\n",
    "        vector = np.zeros(100)#Insert your code here\n",
    "    return vector"
   ]
  },
  {
   "cell_type": "markdown",
   "metadata": {},
   "source": [
    "#### <span style=\"color:red\">**Question 2.3**</span> \n",
    "\n",
    "**Write the code for the function `get_sentence_vector(sentence, important_score=None, model= None)`. Note that this function will transform a sentence to a 100-dimensional vector using the pretrained model *model*. In addition, the list *important_score* which has the same length as the *sentence* specifies the important scores of the words in the sentence. In your code, you first need to apply *softmax* function over *important_score* to obtain the important weight *important_weight* which forms a probability over the words of the sentence. Furthermore, the final vector of the sentence will be weighted sum of the individual vectors for words and the weights in *important_weight*.**\n",
    "- $important\\_weight = softmax(important\\_score)$.\n",
    "- $final\\_vector= important\\_weight[1]\\times v[1] + important\\_weight[2]\\times v[2] + ...+ important\\_weight[L]\\times v[L]$ where $L$ is the length of the sentence and $v[i]$ is the vector representation of the $i-th$  word in this sentence.\n",
    "\n",
    "**Note that if `important_score=None` is set by default, your function should return the average of all representation vectors corresponding to set `important_score=[1,1,...,1]`.**\n",
    "\n",
    "<div style=\"text-align: right\"><span style=\"color:red\">[5 points]</span></div> "
   ]
  },
  {
   "cell_type": "code",
   "execution_count": 21,
   "metadata": {},
   "outputs": [],
   "source": [
    "def get_sentence_vector(sentence, important_score=None, model= None):\n",
    "    if important_score == None:\n",
    "        softmax_val = np.ones(len(sentence))\n",
    "        important_weight = np.exp(softmax_val)/np.sum(np.exp(softmax_val),axis = 0)\n",
    "        \n",
    "    else:\n",
    "        softmax_val = np.array(important_score)\n",
    "        important_weight = np.exp(softmax_val)/np.sum(np.exp(softmax_val),axis = 0)\n",
    "    \n",
    "    vector = np.zeros(100)\n",
    "    for i in range(len(sentence)):\n",
    "        vector += important_weight[i] * get_word_vector(sentence[i],model)\n",
    "        \n",
    "    return vector\n",
    "    "
   ]
  },
  {
   "cell_type": "markdown",
   "metadata": {},
   "source": [
    "#### <span style=\"color:red\">**Question 2.4**</span> \n",
    "\n",
    "**Write code to transform the training questions in *dm.train_str_questions* to feature vectors. Note that after running the following cell, you must have $X\\_train$ which is an numpy array of the feature vectors and $y\\_train$ which is an array of numeric labels (*Hint: dm.train_numeral_labels*). You can add more lines to the following cell if necessary. In addition, you should decide the *important_score* by yourself. For example, you might reckon that the 1st score is 1, the 2nd score is decayed by 0.9, the 3rd is decayed by 0.9, and so on.**\n",
    "\n",
    "<div style=\"text-align: right\"><span style=\"color:red\">[2 points]</span></div> "
   ]
  },
  {
   "cell_type": "code",
   "execution_count": 22,
   "metadata": {},
   "outputs": [
    {
     "name": "stdout",
     "output_type": "stream",
     "text": [
      "Transform training set to feature vectors...\n"
     ]
    }
   ],
   "source": [
    "print(\"Transform training set to feature vectors...\")\n",
    "X_train = []\n",
    "for question in dm.train_str_questions:\n",
    "    sentence = question.split(\" \")\n",
    "    length = len(sentence)\n",
    "    important_score = [0.9**i for i in range(length)]\n",
    "    X_train.append(get_sentence_vector(sentence,important_score,word2vect))\n",
    "X_train= np.array(X_train)\n",
    "y_train= dm.train_numeral_labels"
   ]
  },
  {
   "cell_type": "markdown",
   "metadata": {},
   "source": [
    "#### <span style=\"color:red\">**Question 2.5**</span> \n",
    "\n",
    "**Write code to transform the training questions in *dm.valid_str_questions* to feature vectors. Note that after running the following cell, you must have $X\\_valid$ which is an numpy array of the feature vectors and $y\\_valid$ which is an array of numeric labels (*Hint: dm.valid_numeral_labels*). You can add more lines to the following cell if necessary. In addition, you should decide the *important_score* by yourself. For example, you might reckon that the 1st score is 1, the 2nd score is decayed by 0.9, the 3rd is decayed by 0.9, and so on.**\n",
    "\n",
    "<div style=\"text-align: right\"><span style=\"color:red\">[2 points]</span></div> "
   ]
  },
  {
   "cell_type": "code",
   "execution_count": 23,
   "metadata": {},
   "outputs": [
    {
     "name": "stdout",
     "output_type": "stream",
     "text": [
      "Transform valid set to feature vectors...\n"
     ]
    }
   ],
   "source": [
    "print(\"Transform valid set to feature vectors...\")\n",
    "X_valid = []\n",
    "for question in dm.valid_str_questions:\n",
    "    sentence = question.split(\" \")\n",
    "    length = len(sentence)\n",
    "    important_score = [0.9**i for i in range(length)]\n",
    "    X_valid.append(get_sentence_vector(sentence,important_score,word2vect))\n",
    "X_valid= np.array(X_valid)\n",
    "y_valid= dm.valid_numeral_labels"
   ]
  },
  {
   "cell_type": "markdown",
   "metadata": {},
   "source": [
    "#### <span style=\"color:red\">**Question 2.6**</span> \n",
    "\n",
    "**It is now to use *MinMaxScaler(feature_range=(-1,1))* in sckit-learn to scale both training and valid sets to the range $(-1,1)$.**\n",
    "\n",
    "<div style=\"text-align: right\"><span style=\"color:red\">[2 points]</span></div> "
   ]
  },
  {
   "cell_type": "code",
   "execution_count": 24,
   "metadata": {},
   "outputs": [],
   "source": [
    "scaler = MinMaxScaler(feature_range=(-1,1))\n",
    "scaler.fit(X_train)\n",
    "X_train = scaler.transform(X_train)\n",
    "scaler.fit(X_valid)\n",
    "X_valid = scaler.transform(X_valid)"
   ]
  },
  {
   "cell_type": "markdown",
   "metadata": {},
   "source": [
    "#### <span style=\"color:red\">**Question 2.7**</span> \n",
    "\n",
    "**Declare a support vector machine (the class *SVC*  in sckit-learn) with RBF kernel, $C=1$, $gamma= 2^{-3}$ and fit on the training set.**\n",
    "\n",
    "<div style=\"text-align: right\"><span style=\"color:red\">[2 points]</span></div> "
   ]
  },
  {
   "cell_type": "code",
   "execution_count": 19,
   "metadata": {},
   "outputs": [],
   "source": [
    "# #SVC(\n",
    "#     *,\n",
    "#     C=1.0,\n",
    "#     kernel='rbf',\n",
    "#     degree=3,\n",
    "#     gamma='scale',\n",
    "#     coef0=0.0,\n",
    "#     shrinking=True,\n",
    "#     probability=False,\n",
    "#     tol=0.001,\n",
    "#     cache_size=200,\n",
    "#     class_weight=None,\n",
    "#     verbose=False,\n",
    "#     max_iter=-1,\n",
    "#     decision_function_shape='ovr',\n",
    "#     break_ties=False,\n",
    "#     random_state=None,\n",
    "# )"
   ]
  },
  {
   "cell_type": "code",
   "execution_count": 20,
   "metadata": {},
   "outputs": [
    {
     "data": {
      "text/html": [
       "<style>#sk-container-id-1 {color: black;background-color: white;}#sk-container-id-1 pre{padding: 0;}#sk-container-id-1 div.sk-toggleable {background-color: white;}#sk-container-id-1 label.sk-toggleable__label {cursor: pointer;display: block;width: 100%;margin-bottom: 0;padding: 0.3em;box-sizing: border-box;text-align: center;}#sk-container-id-1 label.sk-toggleable__label-arrow:before {content: \"▸\";float: left;margin-right: 0.25em;color: #696969;}#sk-container-id-1 label.sk-toggleable__label-arrow:hover:before {color: black;}#sk-container-id-1 div.sk-estimator:hover label.sk-toggleable__label-arrow:before {color: black;}#sk-container-id-1 div.sk-toggleable__content {max-height: 0;max-width: 0;overflow: hidden;text-align: left;background-color: #f0f8ff;}#sk-container-id-1 div.sk-toggleable__content pre {margin: 0.2em;color: black;border-radius: 0.25em;background-color: #f0f8ff;}#sk-container-id-1 input.sk-toggleable__control:checked~div.sk-toggleable__content {max-height: 200px;max-width: 100%;overflow: auto;}#sk-container-id-1 input.sk-toggleable__control:checked~label.sk-toggleable__label-arrow:before {content: \"▾\";}#sk-container-id-1 div.sk-estimator input.sk-toggleable__control:checked~label.sk-toggleable__label {background-color: #d4ebff;}#sk-container-id-1 div.sk-label input.sk-toggleable__control:checked~label.sk-toggleable__label {background-color: #d4ebff;}#sk-container-id-1 input.sk-hidden--visually {border: 0;clip: rect(1px 1px 1px 1px);clip: rect(1px, 1px, 1px, 1px);height: 1px;margin: -1px;overflow: hidden;padding: 0;position: absolute;width: 1px;}#sk-container-id-1 div.sk-estimator {font-family: monospace;background-color: #f0f8ff;border: 1px dotted black;border-radius: 0.25em;box-sizing: border-box;margin-bottom: 0.5em;}#sk-container-id-1 div.sk-estimator:hover {background-color: #d4ebff;}#sk-container-id-1 div.sk-parallel-item::after {content: \"\";width: 100%;border-bottom: 1px solid gray;flex-grow: 1;}#sk-container-id-1 div.sk-label:hover label.sk-toggleable__label {background-color: #d4ebff;}#sk-container-id-1 div.sk-serial::before {content: \"\";position: absolute;border-left: 1px solid gray;box-sizing: border-box;top: 0;bottom: 0;left: 50%;z-index: 0;}#sk-container-id-1 div.sk-serial {display: flex;flex-direction: column;align-items: center;background-color: white;padding-right: 0.2em;padding-left: 0.2em;position: relative;}#sk-container-id-1 div.sk-item {position: relative;z-index: 1;}#sk-container-id-1 div.sk-parallel {display: flex;align-items: stretch;justify-content: center;background-color: white;position: relative;}#sk-container-id-1 div.sk-item::before, #sk-container-id-1 div.sk-parallel-item::before {content: \"\";position: absolute;border-left: 1px solid gray;box-sizing: border-box;top: 0;bottom: 0;left: 50%;z-index: -1;}#sk-container-id-1 div.sk-parallel-item {display: flex;flex-direction: column;z-index: 1;position: relative;background-color: white;}#sk-container-id-1 div.sk-parallel-item:first-child::after {align-self: flex-end;width: 50%;}#sk-container-id-1 div.sk-parallel-item:last-child::after {align-self: flex-start;width: 50%;}#sk-container-id-1 div.sk-parallel-item:only-child::after {width: 0;}#sk-container-id-1 div.sk-dashed-wrapped {border: 1px dashed gray;margin: 0 0.4em 0.5em 0.4em;box-sizing: border-box;padding-bottom: 0.4em;background-color: white;}#sk-container-id-1 div.sk-label label {font-family: monospace;font-weight: bold;display: inline-block;line-height: 1.2em;}#sk-container-id-1 div.sk-label-container {text-align: center;}#sk-container-id-1 div.sk-container {/* jupyter's `normalize.less` sets `[hidden] { display: none; }` but bootstrap.min.css set `[hidden] { display: none !important; }` so we also need the `!important` here to be able to override the default hidden behavior on the sphinx rendered scikit-learn.org. See: https://github.com/scikit-learn/scikit-learn/issues/21755 */display: inline-block !important;position: relative;}#sk-container-id-1 div.sk-text-repr-fallback {display: none;}</style><div id=\"sk-container-id-1\" class=\"sk-top-container\"><div class=\"sk-text-repr-fallback\"><pre>SVC(gamma=0.125)</pre><b>In a Jupyter environment, please rerun this cell to show the HTML representation or trust the notebook. <br />On GitHub, the HTML representation is unable to render, please try loading this page with nbviewer.org.</b></div><div class=\"sk-container\" hidden><div class=\"sk-item\"><div class=\"sk-estimator sk-toggleable\"><input class=\"sk-toggleable__control sk-hidden--visually\" id=\"sk-estimator-id-1\" type=\"checkbox\" checked><label for=\"sk-estimator-id-1\" class=\"sk-toggleable__label sk-toggleable__label-arrow\">SVC</label><div class=\"sk-toggleable__content\"><pre>SVC(gamma=0.125)</pre></div></div></div></div></div>"
      ],
      "text/plain": [
       "SVC(gamma=0.125)"
      ]
     },
     "execution_count": 20,
     "metadata": {},
     "output_type": "execute_result"
    }
   ],
   "source": [
    "svm = SVC(C=1.0,kernel='rbf',gamma=2**(-3))\n",
    "svm.fit(X_train,y_train)"
   ]
  },
  {
   "cell_type": "markdown",
   "metadata": {},
   "source": [
    "#### <span style=\"color:red\">**Question 2.8**</span> \n",
    "\n",
    "**Finally, we use the trained *svm* to evaluate on the valid set $X\\_valid$.**\n",
    "\n",
    "<div style=\"text-align: right\"><span style=\"color:red\">[2 points]</span></div> "
   ]
  },
  {
   "cell_type": "code",
   "execution_count": 21,
   "metadata": {},
   "outputs": [
    {
     "name": "stdout",
     "output_type": "stream",
     "text": [
      "0.9565217391304348\n"
     ]
    }
   ],
   "source": [
    "y_valid_pred= svm.predict(X_valid)\n",
    "result = np.equal(y_valid_pred, y_valid)\n",
    "num_True_len = []\n",
    "for i in result:\n",
    "    if i == True:\n",
    "        num_True_len.append(i)\n",
    "# print(num_True_len)\n",
    "num_True = len(num_True_len)\n",
    "\n",
    "acc = num_True/result.shape[0]#Insert your code\n",
    "\n",
    "print(acc)"
   ]
  },
  {
   "cell_type": "markdown",
   "metadata": {},
   "source": [
    "## <span style=\"color:#0b486b\">Part 3: Text CNN for sequence modeling and neural embedding </span>\n",
    "\n",
    "<div style=\"text-align: right\"><span style=\"color:red; font-weight:bold\">[Total marks for this part: 10 points]<span></div>"
   ]
  },
  {
   "cell_type": "markdown",
   "metadata": {},
   "source": [
    "#### <span style=\"color:red\">**Question 3.1**</span> \n",
    "\n",
    "**In what follows, you are required to complete the code for Text CNN for sentence classification. The paper of Text CNN can be found at this [link](https://www.aclweb.org/anthology/D14-1181.pdf). Here is the description of the Text CNN that you need to construct.**\n",
    "- There are three attributes (properties or instance variables): *embed_size, state_size, data_manager*.\n",
    "  - `embed_size`: the dimension of the vector space for which the words are embedded to using the embedding matrix.\n",
    "  - `state_size`: the number of filters used in *Conv1D* (reference [here](https://www.tensorflow.org/api_docs/python/tf/keras/layers/Conv1D)).\n",
    "  - `data_manager`: the data manager to store information of the dataset.\n",
    "- The detail of the computational process is as follows:\n",
    "  - Given input $x$, we embed $x$ using the embedding matrix to obtain an $3D$ tensor $[batch\\_size \\times vocab\\_size \\times embed\\_size]$ as $h$.\n",
    "  - We feed $h$ to three Convd 1D layers, each of which has $state\\_size$ filters, padding=same, activation= relu, and $kernel\\_size= 3, 5, 7$ respectively to obtain $h1, h2, h3$. Note that each $h1, h2, h3$ is a 3D tensor with the shape $[batch\\_size \\times output\\_size \\times state\\_size]$.\n",
    "  - We then apply *GlobalMaxPool1D()* (reference [here](https://www.tensorflow.org/api_docs/python/tf/keras/layers/GlobalMaxPool1D)) over $h1, h2, h3$ to obtain 2D tensors stored in $h1, h2, h3$ again.\n",
    "  - We then concatenate three 2D tensors $h1, h2, h3$ to obtain $h$. Note that you need to specify the axis to concatenate.\n",
    "  - We finally build up one dense layer on the top of $h$ for classification.\n",
    "  \n",
    "  <div style=\"text-align: right\"><span style=\"color:red\">[8 points]</span></div>\n",
    "  "
   ]
  },
  {
   "cell_type": "code",
   "execution_count": 22,
   "metadata": {},
   "outputs": [],
   "source": [
    "class TextCNN:\n",
    "    def __init__(self, embed_size= 128, state_size=16, data_manager=None):\n",
    "        self.data_manager = data_manager\n",
    "        self.embed_size = embed_size\n",
    "        self.state_size = state_size\n",
    "    \n",
    "    def build(self):\n",
    "        x = tf.keras.layers.Input(shape=[None])\n",
    "        h = tf.keras.layers.Embedding(self.data_manager.vocab_size +1, self.embed_size)(x)\n",
    "        h1 = tf.keras.layers.Conv1D(filters=self.state_size, kernel_size=3, activation='relu', padding=\"same\")(h)#Insert your code here\n",
    "        h2 = tf.keras.layers.Conv1D(filters=self.state_size, kernel_size=5, activation='relu', padding=\"same\")(h)#Insert your code here\n",
    "        h3 = tf.keras.layers.Conv1D(filters=self.state_size, kernel_size=7, activation='relu', padding=\"same\")(h)#Insert your code here\n",
    "        h1 = tf.keras.layers.GlobalMaxPool1D()(h1)#Insert your code here\n",
    "        h2 = tf.keras.layers.GlobalMaxPool1D()(h2)#Insert your code here\n",
    "        h3 = tf.keras.layers.GlobalMaxPool1D()(h3)#Insert your code here\n",
    "        h = tf.keras.layers.Concatenate(axis=-1)([h1, h2, h3])#Insert your code here\n",
    "        h = tf.keras.layers.Dense(self.data_manager.num_classes, activation='softmax')(h)\n",
    "        self.model = tf.keras.Model(inputs=x, outputs=h) \n",
    "    \n",
    "    def compile_model(self, *args, **kwargs):\n",
    "        self.model.compile(*args, **kwargs)\n",
    "    \n",
    "    def fit(self, *args, **kwargs):\n",
    "        return self.model.fit(*args, **kwargs)\n",
    "    \n",
    "    def evaluate(self, *args, **kwargs):\n",
    "        self.model.evaluate(*args, **kwargs)\n"
   ]
  },
  {
   "cell_type": "markdown",
   "metadata": {},
   "source": [
    "#### <span style=\"color:red\">**Question 3.2**</span> \n",
    "**Here is the code to test TextCNN above. You can observe that TextCNN outperforms the traditional approach SVM + Word2Vect for this task. The reason is that TextCNN enables us to automatically learn the feature that fits to the task. This makes deep learning different from hand-crafted feature approaches. Complete the code to test the model. Note that when compiling the model, you can use the Adam optimizer.**\n",
    "\n",
    "<div style=\"text-align: right\"><span style=\"color:red\">[2 points]</span></div>"
   ]
  },
  {
   "cell_type": "code",
   "execution_count": 23,
   "metadata": {},
   "outputs": [
    {
     "name": "stdout",
     "output_type": "stream",
     "text": [
      "Model: \"functional_1\"\n",
      "__________________________________________________________________________________________________\n",
      "Layer (type)                    Output Shape         Param #     Connected to                     \n",
      "==================================================================================================\n",
      "input_1 (InputLayer)            [(None, None)]       0                                            \n",
      "__________________________________________________________________________________________________\n",
      "embedding (Embedding)           (None, None, 128)    428160      input_1[0][0]                    \n",
      "__________________________________________________________________________________________________\n",
      "conv1d (Conv1D)                 (None, None, 16)     6160        embedding[0][0]                  \n",
      "__________________________________________________________________________________________________\n",
      "conv1d_1 (Conv1D)               (None, None, 16)     10256       embedding[0][0]                  \n",
      "__________________________________________________________________________________________________\n",
      "conv1d_2 (Conv1D)               (None, None, 16)     14352       embedding[0][0]                  \n",
      "__________________________________________________________________________________________________\n",
      "global_max_pooling1d (GlobalMax (None, 16)           0           conv1d[0][0]                     \n",
      "__________________________________________________________________________________________________\n",
      "global_max_pooling1d_1 (GlobalM (None, 16)           0           conv1d_1[0][0]                   \n",
      "__________________________________________________________________________________________________\n",
      "global_max_pooling1d_2 (GlobalM (None, 16)           0           conv1d_2[0][0]                   \n",
      "__________________________________________________________________________________________________\n",
      "concatenate (Concatenate)       (None, 48)           0           global_max_pooling1d[0][0]       \n",
      "                                                                 global_max_pooling1d_1[0][0]     \n",
      "                                                                 global_max_pooling1d_2[0][0]     \n",
      "__________________________________________________________________________________________________\n",
      "dense (Dense)                   (None, 6)            294         concatenate[0][0]                \n",
      "==================================================================================================\n",
      "Total params: 459,222\n",
      "Trainable params: 459,222\n",
      "Non-trainable params: 0\n",
      "__________________________________________________________________________________________________\n",
      "Epoch 1/20\n",
      "19/19 [==============================] - 1s 37ms/step - loss: 1.7150 - accuracy: 0.4621 - val_loss: 1.6090 - val_accuracy: 0.7023\n",
      "Epoch 2/20\n",
      "19/19 [==============================] - 0s 26ms/step - loss: 1.4420 - accuracy: 0.8893 - val_loss: 1.3043 - val_accuracy: 0.7860\n",
      "Epoch 3/20\n",
      "19/19 [==============================] - 1s 32ms/step - loss: 1.0362 - accuracy: 0.9026 - val_loss: 0.8614 - val_accuracy: 0.8395\n",
      "Epoch 4/20\n",
      "19/19 [==============================] - 1s 29ms/step - loss: 0.5884 - accuracy: 0.9292 - val_loss: 0.5271 - val_accuracy: 0.8829\n",
      "Epoch 5/20\n",
      "19/19 [==============================] - 1s 27ms/step - loss: 0.3006 - accuracy: 0.9625 - val_loss: 0.3500 - val_accuracy: 0.9064\n",
      "Epoch 6/20\n",
      "19/19 [==============================] - 1s 28ms/step - loss: 0.1724 - accuracy: 0.9717 - val_loss: 0.2536 - val_accuracy: 0.9197\n",
      "Epoch 7/20\n",
      "19/19 [==============================] - 1s 27ms/step - loss: 0.1104 - accuracy: 0.9808 - val_loss: 0.1950 - val_accuracy: 0.9431\n",
      "Epoch 8/20\n",
      "19/19 [==============================] - 0s 25ms/step - loss: 0.0736 - accuracy: 0.9942 - val_loss: 0.1567 - val_accuracy: 0.9666\n",
      "Epoch 9/20\n",
      "19/19 [==============================] - 0s 26ms/step - loss: 0.0503 - accuracy: 0.9992 - val_loss: 0.1321 - val_accuracy: 0.9766\n",
      "Epoch 10/20\n",
      "19/19 [==============================] - 0s 26ms/step - loss: 0.0352 - accuracy: 0.9992 - val_loss: 0.1167 - val_accuracy: 0.9766\n",
      "Epoch 11/20\n",
      "19/19 [==============================] - 1s 27ms/step - loss: 0.0255 - accuracy: 1.0000 - val_loss: 0.1067 - val_accuracy: 0.9766\n",
      "Epoch 12/20\n",
      "19/19 [==============================] - 0s 26ms/step - loss: 0.0191 - accuracy: 1.0000 - val_loss: 0.1002 - val_accuracy: 0.9766\n",
      "Epoch 13/20\n",
      "19/19 [==============================] - 0s 26ms/step - loss: 0.0148 - accuracy: 1.0000 - val_loss: 0.0956 - val_accuracy: 0.9766\n",
      "Epoch 14/20\n",
      "19/19 [==============================] - 0s 25ms/step - loss: 0.0118 - accuracy: 1.0000 - val_loss: 0.0925 - val_accuracy: 0.9766\n",
      "Epoch 15/20\n",
      "19/19 [==============================] - 0s 25ms/step - loss: 0.0096 - accuracy: 1.0000 - val_loss: 0.0902 - val_accuracy: 0.9766\n",
      "Epoch 16/20\n",
      "19/19 [==============================] - 0s 25ms/step - loss: 0.0080 - accuracy: 1.0000 - val_loss: 0.0886 - val_accuracy: 0.9766\n",
      "Epoch 17/20\n",
      "19/19 [==============================] - 0s 26ms/step - loss: 0.0067 - accuracy: 1.0000 - val_loss: 0.0873 - val_accuracy: 0.9766\n",
      "Epoch 18/20\n",
      "19/19 [==============================] - 0s 25ms/step - loss: 0.0058 - accuracy: 1.0000 - val_loss: 0.0863 - val_accuracy: 0.9766\n",
      "Epoch 19/20\n",
      "19/19 [==============================] - 0s 25ms/step - loss: 0.0050 - accuracy: 1.0000 - val_loss: 0.0856 - val_accuracy: 0.9766\n",
      "Epoch 20/20\n",
      "19/19 [==============================] - 0s 25ms/step - loss: 0.0044 - accuracy: 1.0000 - val_loss: 0.0851 - val_accuracy: 0.9766\n"
     ]
    },
    {
     "data": {
      "text/plain": [
       "<tensorflow.python.keras.callbacks.History at 0x2a520d49370>"
      ]
     },
     "execution_count": 23,
     "metadata": {},
     "output_type": "execute_result"
    }
   ],
   "source": [
    "text_cnn = TextCNN(data_manager=dm)\n",
    "text_cnn.build()\n",
    "#Insert code here to compile the model\n",
    "text_cnn.compile_model(loss=\"sparse_categorical_crossentropy\",optimizer=\"adam\", metrics=['accuracy'])\n",
    "text_cnn.model.summary()\n",
    "#Insert code here to train the model on 20 epochs\n",
    "text_cnn.fit(dm.tf_train_set.batch(64), epochs=20, validation_data = dm.tf_valid_set.batch(64))"
   ]
  },
  {
   "cell_type": "markdown",
   "metadata": {},
   "source": [
    "## <span style=\"color:#0b486b\">Part 4: Sentence representation with BERT </span>\n",
    "\n",
    "<div style=\"text-align: right\"><span style=\"color:red; font-weight:bold\">[Total marks for this part: 10 points]<span></div>"
   ]
  },
  {
   "cell_type": "markdown",
   "metadata": {},
   "source": [
    "#### <span style=\"color:red\">**Question 4.1**</span>\n",
    "**Use a pretrained BERT model to extract feaure vectors for the training and valid sets. You should choose an appropriate pretrained BERT model that fits your computational resource.**\n",
    "<div style=\"text-align: right\"><span style=\"color:red\">[6 points]</span></div>"
   ]
  },
  {
   "attachments": {
    "image-2.png": {
     "image/png": "[encoded data removed]"
    },
    "image-3.png": {
     "image/png": "[encoded data removed]"
    },
    "image-4.png": {
     "image/png": "[encoded data removed]"
    },
    "image.png": {
     "image/png": "[encoded data removed]"
    }
   },
   "cell_type": "markdown",
   "metadata": {},
   "source": [
    "#Insert your code for extracting training set\n",
    "![image.png](attachment:image.png)\n",
    "![image-2.png](attachment:image-2.png)\n",
    "![image-3.png](attachment:image-3.png)\n",
    "![image-4.png](attachment:image-4.png)"
   ]
  },
  {
   "cell_type": "markdown",
   "metadata": {},
   "source": [
    "#### <span style=\"color:red\">**Question 4.2**</span>\n",
    "**Use Logistic Regression to train on the training set and then evaluate on the valid set.**\n",
    "<div style=\"text-align: right\"><span style=\"color:red\">[4 points]</span></div>"
   ]
  },
  {
   "cell_type": "code",
   "execution_count": 26,
   "metadata": {},
   "outputs": [],
   "source": [
    "import pandas as pd\n",
    "import numpy as np\n",
    "import matplotlib.pyplot as plt\n",
    "from sklearn import datasets\n",
    "from sklearn import model_selection\n",
    "from sklearn import linear_model\n",
    "from sklearn import metrics"
   ]
  },
  {
   "cell_type": "code",
   "execution_count": 27,
   "metadata": {},
   "outputs": [
    {
     "data": {
      "text/html": [
       "<style>#sk-container-id-1 {color: black;background-color: white;}#sk-container-id-1 pre{padding: 0;}#sk-container-id-1 div.sk-toggleable {background-color: white;}#sk-container-id-1 label.sk-toggleable__label {cursor: pointer;display: block;width: 100%;margin-bottom: 0;padding: 0.3em;box-sizing: border-box;text-align: center;}#sk-container-id-1 label.sk-toggleable__label-arrow:before {content: \"▸\";float: left;margin-right: 0.25em;color: #696969;}#sk-container-id-1 label.sk-toggleable__label-arrow:hover:before {color: black;}#sk-container-id-1 div.sk-estimator:hover label.sk-toggleable__label-arrow:before {color: black;}#sk-container-id-1 div.sk-toggleable__content {max-height: 0;max-width: 0;overflow: hidden;text-align: left;background-color: #f0f8ff;}#sk-container-id-1 div.sk-toggleable__content pre {margin: 0.2em;color: black;border-radius: 0.25em;background-color: #f0f8ff;}#sk-container-id-1 input.sk-toggleable__control:checked~div.sk-toggleable__content {max-height: 200px;max-width: 100%;overflow: auto;}#sk-container-id-1 input.sk-toggleable__control:checked~label.sk-toggleable__label-arrow:before {content: \"▾\";}#sk-container-id-1 div.sk-estimator input.sk-toggleable__control:checked~label.sk-toggleable__label {background-color: #d4ebff;}#sk-container-id-1 div.sk-label input.sk-toggleable__control:checked~label.sk-toggleable__label {background-color: #d4ebff;}#sk-container-id-1 input.sk-hidden--visually {border: 0;clip: rect(1px 1px 1px 1px);clip: rect(1px, 1px, 1px, 1px);height: 1px;margin: -1px;overflow: hidden;padding: 0;position: absolute;width: 1px;}#sk-container-id-1 div.sk-estimator {font-family: monospace;background-color: #f0f8ff;border: 1px dotted black;border-radius: 0.25em;box-sizing: border-box;margin-bottom: 0.5em;}#sk-container-id-1 div.sk-estimator:hover {background-color: #d4ebff;}#sk-container-id-1 div.sk-parallel-item::after {content: \"\";width: 100%;border-bottom: 1px solid gray;flex-grow: 1;}#sk-container-id-1 div.sk-label:hover label.sk-toggleable__label {background-color: #d4ebff;}#sk-container-id-1 div.sk-serial::before {content: \"\";position: absolute;border-left: 1px solid gray;box-sizing: border-box;top: 0;bottom: 0;left: 50%;z-index: 0;}#sk-container-id-1 div.sk-serial {display: flex;flex-direction: column;align-items: center;background-color: white;padding-right: 0.2em;padding-left: 0.2em;position: relative;}#sk-container-id-1 div.sk-item {position: relative;z-index: 1;}#sk-container-id-1 div.sk-parallel {display: flex;align-items: stretch;justify-content: center;background-color: white;position: relative;}#sk-container-id-1 div.sk-item::before, #sk-container-id-1 div.sk-parallel-item::before {content: \"\";position: absolute;border-left: 1px solid gray;box-sizing: border-box;top: 0;bottom: 0;left: 50%;z-index: -1;}#sk-container-id-1 div.sk-parallel-item {display: flex;flex-direction: column;z-index: 1;position: relative;background-color: white;}#sk-container-id-1 div.sk-parallel-item:first-child::after {align-self: flex-end;width: 50%;}#sk-container-id-1 div.sk-parallel-item:last-child::after {align-self: flex-start;width: 50%;}#sk-container-id-1 div.sk-parallel-item:only-child::after {width: 0;}#sk-container-id-1 div.sk-dashed-wrapped {border: 1px dashed gray;margin: 0 0.4em 0.5em 0.4em;box-sizing: border-box;padding-bottom: 0.4em;background-color: white;}#sk-container-id-1 div.sk-label label {font-family: monospace;font-weight: bold;display: inline-block;line-height: 1.2em;}#sk-container-id-1 div.sk-label-container {text-align: center;}#sk-container-id-1 div.sk-container {/* jupyter's `normalize.less` sets `[hidden] { display: none; }` but bootstrap.min.css set `[hidden] { display: none !important; }` so we also need the `!important` here to be able to override the default hidden behavior on the sphinx rendered scikit-learn.org. See: https://github.com/scikit-learn/scikit-learn/issues/21755 */display: inline-block !important;position: relative;}#sk-container-id-1 div.sk-text-repr-fallback {display: none;}</style><div id=\"sk-container-id-1\" class=\"sk-top-container\"><div class=\"sk-text-repr-fallback\"><pre>LogisticRegression(multi_class=&#x27;ovr&#x27;, solver=&#x27;liblinear&#x27;)</pre><b>In a Jupyter environment, please rerun this cell to show the HTML representation or trust the notebook. <br />On GitHub, the HTML representation is unable to render, please try loading this page with nbviewer.org.</b></div><div class=\"sk-container\" hidden><div class=\"sk-item\"><div class=\"sk-estimator sk-toggleable\"><input class=\"sk-toggleable__control sk-hidden--visually\" id=\"sk-estimator-id-1\" type=\"checkbox\" checked><label for=\"sk-estimator-id-1\" class=\"sk-toggleable__label sk-toggleable__label-arrow\">LogisticRegression</label><div class=\"sk-toggleable__content\"><pre>LogisticRegression(multi_class=&#x27;ovr&#x27;, solver=&#x27;liblinear&#x27;)</pre></div></div></div></div></div>"
      ],
      "text/plain": [
       "LogisticRegression(multi_class='ovr', solver='liblinear')"
      ]
     },
     "execution_count": 27,
     "metadata": {},
     "output_type": "execute_result"
    }
   ],
   "source": [
    "#Insert your code for training here\n",
    "lm = linear_model.LogisticRegression(multi_class='ovr', solver='liblinear')\n",
    "lm.fit(X_train, y_train)"
   ]
  },
  {
   "cell_type": "code",
   "execution_count": 28,
   "metadata": {},
   "outputs": [
    {
     "data": {
      "text/html": [
       "<style>#sk-container-id-2 {color: black;background-color: white;}#sk-container-id-2 pre{padding: 0;}#sk-container-id-2 div.sk-toggleable {background-color: white;}#sk-container-id-2 label.sk-toggleable__label {cursor: pointer;display: block;width: 100%;margin-bottom: 0;padding: 0.3em;box-sizing: border-box;text-align: center;}#sk-container-id-2 label.sk-toggleable__label-arrow:before {content: \"▸\";float: left;margin-right: 0.25em;color: #696969;}#sk-container-id-2 label.sk-toggleable__label-arrow:hover:before {color: black;}#sk-container-id-2 div.sk-estimator:hover label.sk-toggleable__label-arrow:before {color: black;}#sk-container-id-2 div.sk-toggleable__content {max-height: 0;max-width: 0;overflow: hidden;text-align: left;background-color: #f0f8ff;}#sk-container-id-2 div.sk-toggleable__content pre {margin: 0.2em;color: black;border-radius: 0.25em;background-color: #f0f8ff;}#sk-container-id-2 input.sk-toggleable__control:checked~div.sk-toggleable__content {max-height: 200px;max-width: 100%;overflow: auto;}#sk-container-id-2 input.sk-toggleable__control:checked~label.sk-toggleable__label-arrow:before {content: \"▾\";}#sk-container-id-2 div.sk-estimator input.sk-toggleable__control:checked~label.sk-toggleable__label {background-color: #d4ebff;}#sk-container-id-2 div.sk-label input.sk-toggleable__control:checked~label.sk-toggleable__label {background-color: #d4ebff;}#sk-container-id-2 input.sk-hidden--visually {border: 0;clip: rect(1px 1px 1px 1px);clip: rect(1px, 1px, 1px, 1px);height: 1px;margin: -1px;overflow: hidden;padding: 0;position: absolute;width: 1px;}#sk-container-id-2 div.sk-estimator {font-family: monospace;background-color: #f0f8ff;border: 1px dotted black;border-radius: 0.25em;box-sizing: border-box;margin-bottom: 0.5em;}#sk-container-id-2 div.sk-estimator:hover {background-color: #d4ebff;}#sk-container-id-2 div.sk-parallel-item::after {content: \"\";width: 100%;border-bottom: 1px solid gray;flex-grow: 1;}#sk-container-id-2 div.sk-label:hover label.sk-toggleable__label {background-color: #d4ebff;}#sk-container-id-2 div.sk-serial::before {content: \"\";position: absolute;border-left: 1px solid gray;box-sizing: border-box;top: 0;bottom: 0;left: 50%;z-index: 0;}#sk-container-id-2 div.sk-serial {display: flex;flex-direction: column;align-items: center;background-color: white;padding-right: 0.2em;padding-left: 0.2em;position: relative;}#sk-container-id-2 div.sk-item {position: relative;z-index: 1;}#sk-container-id-2 div.sk-parallel {display: flex;align-items: stretch;justify-content: center;background-color: white;position: relative;}#sk-container-id-2 div.sk-item::before, #sk-container-id-2 div.sk-parallel-item::before {content: \"\";position: absolute;border-left: 1px solid gray;box-sizing: border-box;top: 0;bottom: 0;left: 50%;z-index: -1;}#sk-container-id-2 div.sk-parallel-item {display: flex;flex-direction: column;z-index: 1;position: relative;background-color: white;}#sk-container-id-2 div.sk-parallel-item:first-child::after {align-self: flex-end;width: 50%;}#sk-container-id-2 div.sk-parallel-item:last-child::after {align-self: flex-start;width: 50%;}#sk-container-id-2 div.sk-parallel-item:only-child::after {width: 0;}#sk-container-id-2 div.sk-dashed-wrapped {border: 1px dashed gray;margin: 0 0.4em 0.5em 0.4em;box-sizing: border-box;padding-bottom: 0.4em;background-color: white;}#sk-container-id-2 div.sk-label label {font-family: monospace;font-weight: bold;display: inline-block;line-height: 1.2em;}#sk-container-id-2 div.sk-label-container {text-align: center;}#sk-container-id-2 div.sk-container {/* jupyter's `normalize.less` sets `[hidden] { display: none; }` but bootstrap.min.css set `[hidden] { display: none !important; }` so we also need the `!important` here to be able to override the default hidden behavior on the sphinx rendered scikit-learn.org. See: https://github.com/scikit-learn/scikit-learn/issues/21755 */display: inline-block !important;position: relative;}#sk-container-id-2 div.sk-text-repr-fallback {display: none;}</style><div id=\"sk-container-id-2\" class=\"sk-top-container\"><div class=\"sk-text-repr-fallback\"><pre>LogisticRegression(multi_class=&#x27;ovr&#x27;, solver=&#x27;liblinear&#x27;)</pre><b>In a Jupyter environment, please rerun this cell to show the HTML representation or trust the notebook. <br />On GitHub, the HTML representation is unable to render, please try loading this page with nbviewer.org.</b></div><div class=\"sk-container\" hidden><div class=\"sk-item\"><div class=\"sk-estimator sk-toggleable\"><input class=\"sk-toggleable__control sk-hidden--visually\" id=\"sk-estimator-id-2\" type=\"checkbox\" checked><label for=\"sk-estimator-id-2\" class=\"sk-toggleable__label sk-toggleable__label-arrow\">LogisticRegression</label><div class=\"sk-toggleable__content\"><pre>LogisticRegression(multi_class=&#x27;ovr&#x27;, solver=&#x27;liblinear&#x27;)</pre></div></div></div></div></div>"
      ],
      "text/plain": [
       "LogisticRegression(multi_class='ovr', solver='liblinear')"
      ]
     },
     "execution_count": 28,
     "metadata": {},
     "output_type": "execute_result"
    }
   ],
   "source": [
    "#Insert your code for testing here\n",
    "lm = linear_model.LogisticRegression(multi_class='ovr', solver='liblinear')\n",
    "lm.fit(X_valid, y_valid)"
   ]
  },
  {
   "cell_type": "code",
   "execution_count": 38,
   "metadata": {},
   "outputs": [
    {
     "name": "stdout",
     "output_type": "stream",
     "text": [
      "Predicted value is: [4]\n",
      "Predicted value is: [3]\n",
      "Predicted value is: [2]\n",
      "Predicted value is: [5]\n",
      "Predicted value is: [4]\n",
      "Accuracy is: 0.9899665551839465\n"
     ]
    }
   ],
   "source": [
    "for i in range(5):\n",
    "    print('Predicted value is:', lm.predict([X_valid[i]]))\n",
    "print ('Accuracy is:',lm.score(X_valid, y_valid))"
   ]
  },
  {
   "cell_type": "markdown",
   "metadata": {},
   "source": [
    "## <span style=\"color:#0b486b\">Part 5: RNNs for sequence modeling and neural embedding </span>\n",
    "\n",
    "<div style=\"text-align: right\"><span style=\"color:red; font-weight:bold\">[Total marks for this part: 55 points]<span></div>"
   ]
  },
  {
   "cell_type": "markdown",
   "metadata": {},
   "source": [
    "### <span style=\"color:#0b486b\">5.1. One-directional RNNs for sequence modeling and neural embedding </span> ###\n",
    "\n",
    "<div style=\"text-align: right\"><span style=\"color:red; font-weight:bold\">[Total marks for this part: 10 points]<span></div>"
   ]
  },
  {
   "cell_type": "markdown",
   "metadata": {},
   "source": [
    "#### <span style=\"color:red\">**Question 5.1.1**</span> \n",
    "**In this part, you need to construct an RNN to learn from the dataset of interest. Basically, you are required first to construct the class UniRNN (Uni-directional RNN) with the following requirements:**\n",
    "- Attribute `data_manager (self.data_manager)`: specifies the data manager used to store data for the model.\n",
    "- Attribute `cell_type (self.cell_type)`: can receive three values including `basic_rnn`, `gru`, and `lstm` which specifies the memory cells formed a hidden layer.\n",
    "- `state_sizes (self.state_sizes)` indicates the list of the hidden sizes  of memory cells. For example, $state\\_sizes = [64, 128]$ means that you have two hidden layers in your network with hidden sizes of $64$ and $128$ respectively.\n",
    "\n",
    "**Note that when declaring an embedding layer for the network, you need to set *mask_zero=True* so that the padding zeros in the sentences will be masked and ignored. This helps to have variable length RNNs. For more detail, you can refer to this [link](https://www.tensorflow.org/guide/keras/masking_and_padding).**\n",
    "\n",
    "<div style=\"text-align: right\"><span style=\"color:red\">[7 points]</span></div>"
   ]
  },
  {
   "cell_type": "code",
   "execution_count": 28,
   "metadata": {},
   "outputs": [],
   "source": [
    "class UniRNN:\n",
    "    def __init__(self, cell_type= 'gru', embed_size= 128, state_sizes= [128, 64], data_manager= None):\n",
    "        self.cell_type = cell_type\n",
    "        self.state_sizes = state_sizes\n",
    "        self.embed_size = embed_size\n",
    "        self.data_manager = data_manager\n",
    "        self.vocab_size = self.data_manager.vocab_size +1 \n",
    "        \n",
    "    #return the correspoding memory cell\n",
    "    @staticmethod\n",
    "    def get_layer(cell_type= 'gru', state_size= 128, return_sequences= False, activation = 'tanh'):\n",
    "        if cell_type=='gru':\n",
    "            return tf.keras.layers.GRU(state_size, return_sequences = return_sequences, activation = activation)#Insert your code here\n",
    "        if cell_type== 'lstm':\n",
    "            return tf.keras.layers.LSTM(state_size, return_sequences = return_sequences, activation = activation)#Insert your code here\n",
    "        else:\n",
    "            return tf.keras.layers.SimpleRNN(state_size, return_sequences = return_sequences, activation = activation)#Insert your code here\n",
    "    \n",
    "    def build(self):\n",
    "        x = tf.keras.layers.Input(shape=[None])\n",
    "        h = tf.keras.layers.Embedding(self.vocab_size, self.embed_size, mask_zero=True)(x)#Insert your code here\n",
    "        num_layers = len(self.state_sizes) + 1#Insert your code here\n",
    "        for i in range(num_layers):\n",
    "            if i == 0:\n",
    "                h =  self.get_layer(cell_type = self.cell_type, state_size = self.embed_size, return_sequences= True)(h)#Insert your code here, you can insert more lines if necessary\n",
    "            if i == len(self.state_sizes):\n",
    "                h = self.get_layer(cell_type = self.cell_type, state_size = self.state_sizes[i-1], return_sequences= False)(h)\n",
    "            else:\n",
    "                h = self.get_layer(cell_type = self.cell_type, state_size = self.state_sizes[i-1], return_sequences= True)(h)\n",
    "        h = tf.keras.layers.Dense(dm.num_classes, activation='softmax')(h)\n",
    "        self.model = tf.keras.Model(inputs=x, outputs=h)\n",
    "   \n",
    "    def compile_model(self, *args, **kwargs):\n",
    "        self.model.compile(*args, **kwargs)\n",
    "    \n",
    "    def fit(self, *args, **kwargs):\n",
    "        return self.model.fit(*args, **kwargs)\n",
    "    \n",
    "    def evaluate(self, *args, **kwargs):\n",
    "        self.model.evaluate(*args, **kwargs)       \n"
   ]
  },
  {
   "cell_type": "markdown",
   "metadata": {},
   "source": [
    "#### <span style=\"color:red\">**Question 5.1.2**</span> \n",
    "**Run with basic RNN ('basic_rnn') cell with $embed\\_size= 128, state\\_sizes= [64, 128], data\\_manager= dm$.**\n",
    "\n",
    "<div style=\"text-align: right\"><span style=\"color:red\">[1 points]</span></div>"
   ]
  },
  {
   "cell_type": "code",
   "execution_count": 29,
   "metadata": {
    "scrolled": false
   },
   "outputs": [
    {
     "name": "stdout",
     "output_type": "stream",
     "text": [
      "Epoch 1/20\n",
      "19/19 [==============================] - 2s 105ms/step - loss: 1.0393 - accuracy: 0.6203 - val_loss: 0.4308 - val_accuracy: 0.8829\n",
      "Epoch 2/20\n",
      "19/19 [==============================] - 2s 91ms/step - loss: 0.2887 - accuracy: 0.9176 - val_loss: 0.6169 - val_accuracy: 0.7893\n",
      "Epoch 3/20\n",
      "19/19 [==============================] - 2s 95ms/step - loss: 0.1843 - accuracy: 0.9484 - val_loss: 0.2860 - val_accuracy: 0.9231\n",
      "Epoch 4/20\n",
      "19/19 [==============================] - 2s 93ms/step - loss: 0.1169 - accuracy: 0.9667 - val_loss: 0.2863 - val_accuracy: 0.8997\n",
      "Epoch 5/20\n",
      "19/19 [==============================] - 2s 83ms/step - loss: 0.0443 - accuracy: 0.9875 - val_loss: 0.1403 - val_accuracy: 0.9465\n",
      "Epoch 6/20\n",
      "19/19 [==============================] - 2s 83ms/step - loss: 0.0295 - accuracy: 0.9942 - val_loss: 0.1660 - val_accuracy: 0.9532\n",
      "Epoch 7/20\n",
      "19/19 [==============================] - 2s 82ms/step - loss: 0.2312 - accuracy: 0.9376 - val_loss: 0.1383 - val_accuracy: 0.9398\n",
      "Epoch 8/20\n",
      "19/19 [==============================] - 2s 85ms/step - loss: 0.1088 - accuracy: 0.9709 - val_loss: 0.1286 - val_accuracy: 0.9431\n",
      "Epoch 9/20\n",
      "19/19 [==============================] - 2s 83ms/step - loss: 0.0086 - accuracy: 0.9992 - val_loss: 0.1185 - val_accuracy: 0.9532\n",
      "Epoch 10/20\n",
      "19/19 [==============================] - 2s 83ms/step - loss: 0.0026 - accuracy: 1.0000 - val_loss: 0.1368 - val_accuracy: 0.9498\n",
      "Epoch 11/20\n",
      "19/19 [==============================] - 2s 92ms/step - loss: 0.0014 - accuracy: 1.0000 - val_loss: 0.1504 - val_accuracy: 0.9465\n",
      "Epoch 12/20\n",
      "19/19 [==============================] - 2s 94ms/step - loss: 6.0778e-04 - accuracy: 1.0000 - val_loss: 0.1278 - val_accuracy: 0.9565\n",
      "Epoch 13/20\n",
      "19/19 [==============================] - 2s 83ms/step - loss: 2.4905e-04 - accuracy: 1.0000 - val_loss: 0.1323 - val_accuracy: 0.9565\n",
      "Epoch 14/20\n",
      "19/19 [==============================] - 2s 84ms/step - loss: 1.0462e-04 - accuracy: 1.0000 - val_loss: 0.1426 - val_accuracy: 0.9565\n",
      "Epoch 15/20\n",
      "19/19 [==============================] - 2s 84ms/step - loss: 4.2762e-05 - accuracy: 1.0000 - val_loss: 0.1477 - val_accuracy: 0.9599\n",
      "Epoch 16/20\n",
      "19/19 [==============================] - 2s 84ms/step - loss: 2.2870e-05 - accuracy: 1.0000 - val_loss: 0.2099 - val_accuracy: 0.9365\n",
      "Epoch 17/20\n",
      "19/19 [==============================] - 2s 86ms/step - loss: 0.3641 - accuracy: 0.9450 - val_loss: 0.1428 - val_accuracy: 0.9532\n",
      "Epoch 18/20\n",
      "19/19 [==============================] - 2s 85ms/step - loss: 3.7622e-04 - accuracy: 1.0000 - val_loss: 0.1497 - val_accuracy: 0.9498\n",
      "Epoch 19/20\n",
      "19/19 [==============================] - 2s 87ms/step - loss: 1.5471e-04 - accuracy: 1.0000 - val_loss: 0.1568 - val_accuracy: 0.9532\n",
      "Epoch 20/20\n",
      "19/19 [==============================] - 2s 86ms/step - loss: 7.7007e-05 - accuracy: 1.0000 - val_loss: 0.1584 - val_accuracy: 0.9532\n"
     ]
    },
    {
     "data": {
      "text/plain": [
       "<tensorflow.python.keras.callbacks.History at 0x2a5248026d0>"
      ]
     },
     "execution_count": 29,
     "metadata": {},
     "output_type": "execute_result"
    }
   ],
   "source": [
    "uni_rnn = UniRNN(cell_type = \"basic_rnn\",embed_size = 128, state_sizes = [64, 128],data_manager = dm)#Insert your code here\n",
    "uni_rnn.build()\n",
    "opt = tf.keras.optimizers.RMSprop(learning_rate=0.001)\n",
    "uni_rnn.compile_model(optimizer=opt, loss='sparse_categorical_crossentropy', metrics=['accuracy'])\n",
    "uni_rnn.fit(dm.tf_train_set.batch(64), epochs=20, validation_data = dm.tf_valid_set.batch(64))"
   ]
  },
  {
   "cell_type": "markdown",
   "metadata": {},
   "source": [
    "#### <span style=\"color:red\">**Question 5.1.3**</span> \n",
    "**Run with GRU ('gru') cell with $embed\\_size= 128, state\\_sizes= [64, 128], data\\_manager= dm$.**\n",
    "\n",
    "<div style=\"text-align: right\"><span style=\"color:red\">[1 points]</span></div>"
   ]
  },
  {
   "cell_type": "code",
   "execution_count": 30,
   "metadata": {},
   "outputs": [
    {
     "name": "stdout",
     "output_type": "stream",
     "text": [
      "Epoch 1/20\n",
      "19/19 [==============================] - 8s 423ms/step - loss: 1.3793 - accuracy: 0.4172 - val_loss: 0.7471 - val_accuracy: 0.7224\n",
      "Epoch 2/20\n",
      "19/19 [==============================] - 4s 231ms/step - loss: 0.4719 - accuracy: 0.8560 - val_loss: 0.3269 - val_accuracy: 0.8963\n",
      "Epoch 3/20\n",
      "19/19 [==============================] - 4s 237ms/step - loss: 0.1729 - accuracy: 0.9450 - val_loss: 0.2646 - val_accuracy: 0.9130\n",
      "Epoch 4/20\n",
      "19/19 [==============================] - 5s 252ms/step - loss: 0.0882 - accuracy: 0.9784 - val_loss: 0.2630 - val_accuracy: 0.9331\n",
      "Epoch 5/20\n",
      "19/19 [==============================] - 5s 237ms/step - loss: 0.0580 - accuracy: 0.9800 - val_loss: 0.2383 - val_accuracy: 0.9231\n",
      "Epoch 6/20\n",
      "19/19 [==============================] - 5s 251ms/step - loss: 0.0171 - accuracy: 0.9958 - val_loss: 0.1099 - val_accuracy: 0.9632\n",
      "Epoch 7/20\n",
      "19/19 [==============================] - 5s 266ms/step - loss: 0.0737 - accuracy: 0.9784 - val_loss: 0.0964 - val_accuracy: 0.9732\n",
      "Epoch 8/20\n",
      "19/19 [==============================] - 5s 245ms/step - loss: 0.0098 - accuracy: 0.9975 - val_loss: 0.1686 - val_accuracy: 0.9599\n",
      "Epoch 9/20\n",
      "19/19 [==============================] - 5s 238ms/step - loss: 0.0371 - accuracy: 0.9875 - val_loss: 0.1046 - val_accuracy: 0.9632\n",
      "Epoch 10/20\n",
      "19/19 [==============================] - 5s 241ms/step - loss: 0.0030 - accuracy: 1.0000 - val_loss: 0.1012 - val_accuracy: 0.9732\n",
      "Epoch 11/20\n",
      "19/19 [==============================] - 5s 244ms/step - loss: 0.0015 - accuracy: 1.0000 - val_loss: 0.1053 - val_accuracy: 0.9632\n",
      "Epoch 12/20\n",
      "19/19 [==============================] - 5s 247ms/step - loss: 6.9683e-04 - accuracy: 1.0000 - val_loss: 0.1192 - val_accuracy: 0.9699\n",
      "Epoch 13/20\n",
      "19/19 [==============================] - 5s 247ms/step - loss: 3.0952e-04 - accuracy: 1.0000 - val_loss: 0.1405 - val_accuracy: 0.9632\n",
      "Epoch 14/20\n",
      "19/19 [==============================] - 5s 242ms/step - loss: 1.3230e-04 - accuracy: 1.0000 - val_loss: 0.1628 - val_accuracy: 0.9599\n",
      "Epoch 15/20\n",
      "19/19 [==============================] - 5s 243ms/step - loss: 5.6133e-05 - accuracy: 1.0000 - val_loss: 0.1793 - val_accuracy: 0.9599\n",
      "Epoch 16/20\n",
      "19/19 [==============================] - 5s 240ms/step - loss: 2.4160e-05 - accuracy: 1.0000 - val_loss: 0.2086 - val_accuracy: 0.9599\n",
      "Epoch 17/20\n",
      "19/19 [==============================] - 5s 247ms/step - loss: 1.0659e-05 - accuracy: 1.0000 - val_loss: 0.2455 - val_accuracy: 0.9565\n",
      "Epoch 18/20\n",
      "19/19 [==============================] - 5s 246ms/step - loss: 4.8687e-06 - accuracy: 1.0000 - val_loss: 0.2821 - val_accuracy: 0.9532\n",
      "Epoch 19/20\n",
      "19/19 [==============================] - 5s 246ms/step - loss: 2.3204e-06 - accuracy: 1.0000 - val_loss: 0.3249 - val_accuracy: 0.9532\n",
      "Epoch 20/20\n",
      "19/19 [==============================] - 5s 248ms/step - loss: 1.1795e-06 - accuracy: 1.0000 - val_loss: 0.3610 - val_accuracy: 0.9532\n"
     ]
    },
    {
     "data": {
      "text/plain": [
       "<tensorflow.python.keras.callbacks.History at 0x2a53384f370>"
      ]
     },
     "execution_count": 30,
     "metadata": {},
     "output_type": "execute_result"
    }
   ],
   "source": [
    "uni_rnn = UniRNN(cell_type = \"gru\",embed_size = 128, state_sizes = [64, 128],data_manager = dm)#Insert your code here\n",
    "uni_rnn.build()\n",
    "opt = tf.keras.optimizers.RMSprop(learning_rate=0.001)\n",
    "uni_rnn.compile_model(optimizer=opt, loss='sparse_categorical_crossentropy', metrics=['accuracy'])\n",
    "uni_rnn.fit(dm.tf_train_set.batch(64), epochs=20, validation_data = dm.tf_valid_set.batch(64))"
   ]
  },
  {
   "cell_type": "markdown",
   "metadata": {},
   "source": [
    "#### <span style=\"color:red\">**Question 5.1.4**</span> \n",
    "**Run with LSTM ('lstm') cell with $embed\\_size= 128, state\\_sizes= [64, 128], data\\_manager= dm$.**\n",
    "\n",
    "<div style=\"text-align: right\"><span style=\"color:red\">[1 points]</span></div>"
   ]
  },
  {
   "cell_type": "code",
   "execution_count": 31,
   "metadata": {},
   "outputs": [
    {
     "name": "stdout",
     "output_type": "stream",
     "text": [
      "Epoch 1/20\n",
      "19/19 [==============================] - 8s 403ms/step - loss: 1.3938 - accuracy: 0.4530 - val_loss: 0.9544 - val_accuracy: 0.8395\n",
      "Epoch 2/20\n",
      "19/19 [==============================] - 6s 310ms/step - loss: 0.5228 - accuracy: 0.8634 - val_loss: 0.4009 - val_accuracy: 0.9331\n",
      "Epoch 3/20\n",
      "19/19 [==============================] - 6s 300ms/step - loss: 0.2004 - accuracy: 0.9567 - val_loss: 0.2606 - val_accuracy: 0.9532\n",
      "Epoch 4/20\n",
      "19/19 [==============================] - 6s 301ms/step - loss: 0.1587 - accuracy: 0.9659 - val_loss: 0.1833 - val_accuracy: 0.9565\n",
      "Epoch 5/20\n",
      "19/19 [==============================] - 6s 328ms/step - loss: 0.0887 - accuracy: 0.9784 - val_loss: 0.3056 - val_accuracy: 0.9130\n",
      "Epoch 6/20\n",
      "19/19 [==============================] - 6s 311ms/step - loss: 0.0767 - accuracy: 0.9784 - val_loss: 0.1543 - val_accuracy: 0.9431\n",
      "Epoch 7/20\n",
      "19/19 [==============================] - 6s 296ms/step - loss: 0.0369 - accuracy: 0.9900 - val_loss: 0.1593 - val_accuracy: 0.9565\n",
      "Epoch 8/20\n",
      "19/19 [==============================] - 6s 295ms/step - loss: 0.0578 - accuracy: 0.9858 - val_loss: 0.1708 - val_accuracy: 0.9398\n",
      "Epoch 9/20\n",
      "19/19 [==============================] - 6s 292ms/step - loss: 0.0171 - accuracy: 0.9967 - val_loss: 0.1514 - val_accuracy: 0.9699\n",
      "Epoch 10/20\n",
      "19/19 [==============================] - 6s 291ms/step - loss: 0.0292 - accuracy: 0.9917 - val_loss: 0.2842 - val_accuracy: 0.9331\n",
      "Epoch 11/20\n",
      "19/19 [==============================] - 6s 298ms/step - loss: 0.1314 - accuracy: 0.9883 - val_loss: 0.1326 - val_accuracy: 0.9565\n",
      "Epoch 12/20\n",
      "19/19 [==============================] - 6s 301ms/step - loss: 0.0020 - accuracy: 1.0000 - val_loss: 0.1618 - val_accuracy: 0.9532\n",
      "Epoch 13/20\n",
      "19/19 [==============================] - 6s 312ms/step - loss: 0.0014 - accuracy: 1.0000 - val_loss: 0.1903 - val_accuracy: 0.9532\n",
      "Epoch 14/20\n",
      "19/19 [==============================] - 6s 311ms/step - loss: 7.5141e-04 - accuracy: 1.0000 - val_loss: 0.2343 - val_accuracy: 0.9498\n",
      "Epoch 15/20\n",
      "19/19 [==============================] - 6s 304ms/step - loss: 3.7990e-04 - accuracy: 1.0000 - val_loss: 0.2834 - val_accuracy: 0.9498\n",
      "Epoch 16/20\n",
      "19/19 [==============================] - 6s 321ms/step - loss: 0.0533 - accuracy: 0.9900 - val_loss: 0.1547 - val_accuracy: 0.9699\n",
      "Epoch 17/20\n",
      "19/19 [==============================] - 6s 314ms/step - loss: 0.0079 - accuracy: 0.9992 - val_loss: 0.1578 - val_accuracy: 0.9666\n",
      "Epoch 18/20\n",
      "19/19 [==============================] - 6s 301ms/step - loss: 2.6886e-04 - accuracy: 1.0000 - val_loss: 0.1412 - val_accuracy: 0.9699\n",
      "Epoch 19/20\n",
      "19/19 [==============================] - 6s 299ms/step - loss: 2.0687e-04 - accuracy: 1.0000 - val_loss: 0.1371 - val_accuracy: 0.9766\n",
      "Epoch 20/20\n",
      "19/19 [==============================] - 6s 295ms/step - loss: 1.4604e-04 - accuracy: 1.0000 - val_loss: 0.1434 - val_accuracy: 0.9766\n"
     ]
    },
    {
     "data": {
      "text/plain": [
       "<tensorflow.python.keras.callbacks.History at 0x2a55fe3ceb0>"
      ]
     },
     "execution_count": 31,
     "metadata": {},
     "output_type": "execute_result"
    }
   ],
   "source": [
    "uni_rnn = UniRNN(cell_type = \"lstm\",embed_size = 128, state_sizes = [64, 128],data_manager = dm)#Insert your code here\n",
    "uni_rnn.build()\n",
    "opt = tf.keras.optimizers.RMSprop(learning_rate=0.001)\n",
    "uni_rnn.compile_model(optimizer=opt, loss='sparse_categorical_crossentropy', metrics=['accuracy'])\n",
    "uni_rnn.fit(dm.tf_train_set.batch(64), epochs=20, validation_data = dm.tf_valid_set.batch(64))"
   ]
  },
  {
   "cell_type": "markdown",
   "metadata": {},
   "source": [
    "### <span style=\"color:#0b486b\">5.2. Bi-directional RNNs for sequence modeling and neural embedding </span> ###\n",
    "\n",
    "<div style=\"text-align: right\"><span style=\"color:red; font-weight:bold\">[Total marks for this part: 10 points]<span></div>"
   ]
  },
  {
   "cell_type": "markdown",
   "metadata": {},
   "source": [
    "#### <span style=\"color:red\">**Question 5.2.1**</span> \n",
    "**In what follow, you will investigate BiRNN. The task is similar to Part 5.1 but you need to write the code for an BiRNN. Note that the function *get_layer(cell_type= 'gru', state_size= 128, return_sequences= False, activation = 'tanh')* has to return the hidden layer with bidirectional memory cells (e.g., Basic RNN, GRU, and LSTM cells).**\n",
    "\n",
    "**Complete the code of the class *BiRNN*. Note that for the embedding layer you need to set *mask_zero=True*.**\n",
    "\n",
    "<div style=\"text-align: right\"><span style=\"color:red\">[7 points]</span></div>"
   ]
  },
  {
   "cell_type": "code",
   "execution_count": 32,
   "metadata": {},
   "outputs": [],
   "source": [
    "class BiRNN:\n",
    "    def __init__(self, cell_type= 'gru', embed_size= 128, state_sizes= [128, 64], data_manager= None):\n",
    "        self.cell_type = cell_type\n",
    "        self.state_sizes = state_sizes\n",
    "        self.embed_size = embed_size\n",
    "        self.data_manager = data_manager\n",
    "        self.vocab_size = self.data_manager.vocab_size +1\n",
    "        \n",
    "    @staticmethod\n",
    "    def get_layer(cell_type= 'gru', state_size= 128, return_sequences= False, activation = 'tanh'):\n",
    "        if cell_type=='gru':\n",
    "            return tf.keras.layers.Bidirectional(tf.keras.layers.GRU(state_size, return_sequences = return_sequences)) #Insert your code here\n",
    "        elif cell_type== 'lstm':\n",
    "            return tf.keras.layers.Bidirectional(tf.keras.layers.LSTM(state_size, return_sequences = return_sequences)) #Insert your code here\n",
    "        else:\n",
    "            return tf.keras.layers.Bidirectional(tf.keras.layers.SimpleRNN(state_size, return_sequences = return_sequences)) #Insert your code here\n",
    "    \n",
    "    def build(self):\n",
    "        x = tf.keras.layers.Input(shape=[None])\n",
    "        h = tf.keras.layers.Embedding(self.vocab_size, self.embed_size, mask_zero=True)(x)#Insert your code here\n",
    "        num_layers = len(self.state_sizes) + 1#Insert your code here\n",
    "        for i in range(num_layers):\n",
    "            if i == 0:\n",
    "                h = self.get_layer(cell_type = self.cell_type, state_size = self.embed_size, return_sequences= True)(h) #Insert your code here, you can insert more lines if necessary\n",
    "            if i == len(self.state_sizes):\n",
    "                h = self.get_layer(cell_type = self.cell_type, state_size = self.state_sizes[i - 1], return_sequences= False)(h)\n",
    "            else:\n",
    "                h = self.get_layer(cell_type = self.cell_type, state_size = self.state_sizes[i - 1], return_sequences= True)(h)\n",
    "\n",
    "        h = tf.keras.layers.Dense(dm.num_classes, activation='softmax')(h)\n",
    "        self.model = tf.keras.Model(inputs=x, outputs=h)\n",
    "        \n",
    "    \n",
    "    def compile_model(self, *args, **kwargs):\n",
    "        self.model.compile(*args, **kwargs)\n",
    "    \n",
    "    def fit(self, *args, **kwargs):\n",
    "        return self.model.fit(*args, **kwargs)\n",
    "    \n",
    "    def evaluate(self, *args, **kwargs):\n",
    "        self.model.evaluate(*args, **kwargs)       \n"
   ]
  },
  {
   "cell_type": "markdown",
   "metadata": {},
   "source": [
    "#### <span style=\"color:red\">**Question 5.2.2**</span> \n",
    "**Run BiRNN for basic RNN ('basic_rnn') cell with $embed\\_size= 128, state\\_sizes= [64, 128], data\\_manager= dm$.**\n",
    "\n",
    "<div style=\"text-align: right\"><span style=\"color:red\">[1 points]</span></div>"
   ]
  },
  {
   "cell_type": "code",
   "execution_count": 33,
   "metadata": {},
   "outputs": [
    {
     "name": "stdout",
     "output_type": "stream",
     "text": [
      "Epoch 1/20\n",
      "19/19 [==============================] - 6s 291ms/step - loss: 0.6534 - accuracy: 0.7744 - val_loss: 0.2524 - val_accuracy: 0.9298\n",
      "Epoch 2/20\n",
      "19/19 [==============================] - 4s 206ms/step - loss: 0.0697 - accuracy: 0.9775 - val_loss: 0.2077 - val_accuracy: 0.9331\n",
      "Epoch 3/20\n",
      "19/19 [==============================] - 4s 218ms/step - loss: 0.0099 - accuracy: 0.9992 - val_loss: 0.1212 - val_accuracy: 0.9498\n",
      "Epoch 4/20\n",
      "19/19 [==============================] - 4s 202ms/step - loss: 0.0016 - accuracy: 1.0000 - val_loss: 0.1239 - val_accuracy: 0.9498\n",
      "Epoch 5/20\n",
      "19/19 [==============================] - 4s 205ms/step - loss: 5.6077e-04 - accuracy: 1.0000 - val_loss: 0.1269 - val_accuracy: 0.9565\n",
      "Epoch 6/20\n",
      "19/19 [==============================] - 4s 205ms/step - loss: 2.0988e-04 - accuracy: 1.0000 - val_loss: 0.1317 - val_accuracy: 0.9532\n",
      "Epoch 7/20\n",
      "19/19 [==============================] - 4s 209ms/step - loss: 7.7188e-05 - accuracy: 1.0000 - val_loss: 0.1391 - val_accuracy: 0.9565\n",
      "Epoch 8/20\n",
      "19/19 [==============================] - 4s 202ms/step - loss: 2.7952e-05 - accuracy: 1.0000 - val_loss: 0.1481 - val_accuracy: 0.9565\n",
      "Epoch 9/20\n",
      "19/19 [==============================] - 4s 205ms/step - loss: 1.0152e-05 - accuracy: 1.0000 - val_loss: 0.1581 - val_accuracy: 0.9565\n",
      "Epoch 10/20\n",
      "19/19 [==============================] - 4s 202ms/step - loss: 3.7626e-06 - accuracy: 1.0000 - val_loss: 0.1683 - val_accuracy: 0.9565\n",
      "Epoch 11/20\n",
      "19/19 [==============================] - 4s 208ms/step - loss: 1.4514e-06 - accuracy: 1.0000 - val_loss: 0.1789 - val_accuracy: 0.9565\n",
      "Epoch 12/20\n",
      "19/19 [==============================] - 4s 205ms/step - loss: 5.9158e-07 - accuracy: 1.0000 - val_loss: 0.1887 - val_accuracy: 0.9565\n",
      "Epoch 13/20\n",
      "19/19 [==============================] - 4s 203ms/step - loss: 2.5261e-07 - accuracy: 1.0000 - val_loss: 0.1977 - val_accuracy: 0.9565\n",
      "Epoch 14/20\n",
      "19/19 [==============================] - 4s 207ms/step - loss: 1.1941e-07 - accuracy: 1.0000 - val_loss: 0.2032 - val_accuracy: 0.9565\n",
      "Epoch 15/20\n",
      "19/19 [==============================] - 4s 211ms/step - loss: 6.1342e-08 - accuracy: 1.0000 - val_loss: 0.2062 - val_accuracy: 0.9565\n",
      "Epoch 16/20\n",
      "19/19 [==============================] - 4s 205ms/step - loss: 3.5534e-08 - accuracy: 1.0000 - val_loss: 0.2091 - val_accuracy: 0.9565\n",
      "Epoch 17/20\n",
      "19/19 [==============================] - 4s 206ms/step - loss: 2.2333e-08 - accuracy: 1.0000 - val_loss: 0.2084 - val_accuracy: 0.9565\n",
      "Epoch 18/20\n",
      "19/19 [==============================] - 4s 205ms/step - loss: 1.5584e-08 - accuracy: 1.0000 - val_loss: 0.2130 - val_accuracy: 0.9565\n",
      "Epoch 19/20\n",
      "19/19 [==============================] - 4s 214ms/step - loss: 1.0621e-08 - accuracy: 1.0000 - val_loss: 0.2160 - val_accuracy: 0.9565\n",
      "Epoch 20/20\n",
      "19/19 [==============================] - 4s 205ms/step - loss: 8.4370e-09 - accuracy: 1.0000 - val_loss: 0.2173 - val_accuracy: 0.9565\n"
     ]
    },
    {
     "data": {
      "text/plain": [
       "<tensorflow.python.keras.callbacks.History at 0x2a49a38e550>"
      ]
     },
     "execution_count": 33,
     "metadata": {},
     "output_type": "execute_result"
    }
   ],
   "source": [
    "bi_rnn = BiRNN(cell_type = \"basic_rnn\",embed_size = 128, state_sizes = [64, 128],data_manager = dm)#Insert your code here\n",
    "bi_rnn.build()\n",
    "opt = tf.keras.optimizers.RMSprop(learning_rate=0.001)\n",
    "bi_rnn.compile_model(optimizer=opt, loss='sparse_categorical_crossentropy', metrics=['accuracy'])\n",
    "bi_rnn.fit(dm.tf_train_set.batch(64), epochs=20, validation_data = dm.tf_valid_set.batch(64))"
   ]
  },
  {
   "cell_type": "markdown",
   "metadata": {},
   "source": [
    "#### <span style=\"color:red\">**Question 5.2.3**</span> \n",
    "**Run BiRNN for GRU ('gru') cell with $embed\\_size= 128, state\\_sizes= [64, 128], data\\_manager= dm$.**\n",
    "\n",
    "<div style=\"text-align: right\"><span style=\"color:red\">[1 points]</span></div>"
   ]
  },
  {
   "cell_type": "code",
   "execution_count": 34,
   "metadata": {},
   "outputs": [
    {
     "name": "stdout",
     "output_type": "stream",
     "text": [
      "Epoch 1/20\n",
      "19/19 [==============================] - 18s 953ms/step - loss: 1.0993 - accuracy: 0.5745 - val_loss: 0.6613 - val_accuracy: 0.7826\n",
      "Epoch 2/20\n",
      "19/19 [==============================] - 13s 663ms/step - loss: 0.2195 - accuracy: 0.9251 - val_loss: 0.2459 - val_accuracy: 0.9064\n",
      "Epoch 3/20\n",
      "19/19 [==============================] - 13s 668ms/step - loss: 0.0474 - accuracy: 0.9825 - val_loss: 0.3232 - val_accuracy: 0.9264\n",
      "Epoch 4/20\n",
      "19/19 [==============================] - 13s 664ms/step - loss: 0.0098 - accuracy: 0.9967 - val_loss: 0.1664 - val_accuracy: 0.9465\n",
      "Epoch 5/20\n",
      "19/19 [==============================] - 13s 665ms/step - loss: 0.1122 - accuracy: 0.9725 - val_loss: 0.1466 - val_accuracy: 0.9699\n",
      "Epoch 6/20\n",
      "19/19 [==============================] - 13s 658ms/step - loss: 0.0026 - accuracy: 0.9992 - val_loss: 0.1144 - val_accuracy: 0.9632\n",
      "Epoch 7/20\n",
      "19/19 [==============================] - 13s 661ms/step - loss: 4.9064e-04 - accuracy: 1.0000 - val_loss: 0.1224 - val_accuracy: 0.9632\n",
      "Epoch 8/20\n",
      "19/19 [==============================] - 13s 666ms/step - loss: 2.4620e-04 - accuracy: 1.0000 - val_loss: 0.1321 - val_accuracy: 0.9666\n",
      "Epoch 9/20\n",
      "19/19 [==============================] - 13s 660ms/step - loss: 1.2072e-04 - accuracy: 1.0000 - val_loss: 0.1433 - val_accuracy: 0.9666\n",
      "Epoch 10/20\n",
      "19/19 [==============================] - 13s 677ms/step - loss: 5.3699e-05 - accuracy: 1.0000 - val_loss: 0.1562 - val_accuracy: 0.9666\n",
      "Epoch 11/20\n",
      "19/19 [==============================] - 13s 663ms/step - loss: 2.2469e-05 - accuracy: 1.0000 - val_loss: 0.1706 - val_accuracy: 0.9699\n",
      "Epoch 12/20\n",
      "19/19 [==============================] - 13s 665ms/step - loss: 9.2860e-06 - accuracy: 1.0000 - val_loss: 0.1860 - val_accuracy: 0.9666\n",
      "Epoch 13/20\n",
      "19/19 [==============================] - 12s 655ms/step - loss: 3.8924e-06 - accuracy: 1.0000 - val_loss: 0.2014 - val_accuracy: 0.9632\n",
      "Epoch 14/20\n",
      "19/19 [==============================] - 12s 656ms/step - loss: 1.6849e-06 - accuracy: 1.0000 - val_loss: 0.2157 - val_accuracy: 0.9599\n",
      "Epoch 15/20\n",
      "19/19 [==============================] - 12s 655ms/step - loss: 7.7113e-07 - accuracy: 1.0000 - val_loss: 0.2282 - val_accuracy: 0.9565\n",
      "Epoch 16/20\n",
      "19/19 [==============================] - 13s 660ms/step - loss: 3.7599e-07 - accuracy: 1.0000 - val_loss: 0.2378 - val_accuracy: 0.9599\n",
      "Epoch 17/20\n",
      "19/19 [==============================] - 13s 659ms/step - loss: 1.9802e-07 - accuracy: 1.0000 - val_loss: 0.2455 - val_accuracy: 0.9599\n",
      "Epoch 18/20\n",
      "19/19 [==============================] - 12s 656ms/step - loss: 1.0521e-07 - accuracy: 1.0000 - val_loss: 0.2527 - val_accuracy: 0.9599\n",
      "Epoch 19/20\n",
      "19/19 [==============================] - 13s 659ms/step - loss: 6.2632e-08 - accuracy: 1.0000 - val_loss: 0.2590 - val_accuracy: 0.9599\n",
      "Epoch 20/20\n",
      "19/19 [==============================] - 13s 662ms/step - loss: 4.2979e-08 - accuracy: 1.0000 - val_loss: 0.2649 - val_accuracy: 0.9599\n"
     ]
    },
    {
     "data": {
      "text/plain": [
       "<tensorflow.python.keras.callbacks.History at 0x2a59ab11a60>"
      ]
     },
     "execution_count": 34,
     "metadata": {},
     "output_type": "execute_result"
    }
   ],
   "source": [
    "bi_rnn = BiRNN(cell_type = \"gru\",embed_size = 128, state_sizes = [64, 128],data_manager = dm)#Insert your code here\n",
    "bi_rnn.build()\n",
    "opt = tf.keras.optimizers.RMSprop(learning_rate=0.001)\n",
    "bi_rnn.compile_model(optimizer=opt, loss='sparse_categorical_crossentropy', metrics=['accuracy'])\n",
    "bi_rnn.fit(dm.tf_train_set.batch(64), epochs=20, validation_data = dm.tf_valid_set.batch(64))"
   ]
  },
  {
   "cell_type": "markdown",
   "metadata": {},
   "source": [
    "#### <span style=\"color:red\">**Question 5.2.4**</span> \n",
    "**Run BiRNN for LSTM ('lstm') cell with $embed\\_size= 128, state\\_sizes= [64, 128], data\\_manager= dm$.**\n",
    "\n",
    "<div style=\"text-align: right\"><span style=\"color:red\">[1 points]</span></div>"
   ]
  },
  {
   "cell_type": "code",
   "execution_count": 35,
   "metadata": {},
   "outputs": [
    {
     "name": "stdout",
     "output_type": "stream",
     "text": [
      "Epoch 1/20\n",
      "19/19 [==============================] - 23s 1s/step - loss: 1.3438 - accuracy: 0.5071 - val_loss: 0.6113 - val_accuracy: 0.8462\n",
      "Epoch 2/20\n",
      "19/19 [==============================] - 21s 1s/step - loss: 0.4754 - accuracy: 0.8659 - val_loss: 0.3103 - val_accuracy: 0.9164\n",
      "Epoch 3/20\n",
      "19/19 [==============================] - 21s 1s/step - loss: 0.2383 - accuracy: 0.9342 - val_loss: 0.2052 - val_accuracy: 0.9264\n",
      "Epoch 4/20\n",
      "19/19 [==============================] - 21s 1s/step - loss: 0.0625 - accuracy: 0.9875 - val_loss: 0.1830 - val_accuracy: 0.9398\n",
      "Epoch 5/20\n",
      "19/19 [==============================] - 21s 1s/step - loss: 0.1662 - accuracy: 0.9609 - val_loss: 0.1761 - val_accuracy: 0.9498\n",
      "Epoch 6/20\n",
      "19/19 [==============================] - 21s 1s/step - loss: 0.0291 - accuracy: 0.9950 - val_loss: 0.2324 - val_accuracy: 0.9465\n",
      "Epoch 7/20\n",
      "19/19 [==============================] - 21s 1s/step - loss: 0.0117 - accuracy: 0.9975 - val_loss: 0.1773 - val_accuracy: 0.9565\n",
      "Epoch 8/20\n",
      "19/19 [==============================] - 21s 1s/step - loss: 0.0983 - accuracy: 0.9759 - val_loss: 0.1941 - val_accuracy: 0.9532\n",
      "Epoch 9/20\n",
      "19/19 [==============================] - 21s 1s/step - loss: 0.0606 - accuracy: 0.9867 - val_loss: 0.1863 - val_accuracy: 0.9565\n",
      "Epoch 10/20\n",
      "19/19 [==============================] - 21s 1s/step - loss: 0.0232 - accuracy: 0.9933 - val_loss: 0.2080 - val_accuracy: 0.9565\n",
      "Epoch 11/20\n",
      "19/19 [==============================] - 21s 1s/step - loss: 0.0067 - accuracy: 0.9992 - val_loss: 0.2025 - val_accuracy: 0.9599\n",
      "Epoch 12/20\n",
      "19/19 [==============================] - 21s 1s/step - loss: 0.0624 - accuracy: 0.9883 - val_loss: 0.2422 - val_accuracy: 0.9565\n",
      "Epoch 13/20\n",
      "19/19 [==============================] - 21s 1s/step - loss: 0.0271 - accuracy: 0.9933 - val_loss: 0.1957 - val_accuracy: 0.9599\n",
      "Epoch 14/20\n",
      "19/19 [==============================] - 21s 1s/step - loss: 0.0014 - accuracy: 1.0000 - val_loss: 0.1878 - val_accuracy: 0.9632\n",
      "Epoch 15/20\n",
      "19/19 [==============================] - 21s 1s/step - loss: 9.1893e-04 - accuracy: 1.0000 - val_loss: 0.1999 - val_accuracy: 0.9599\n",
      "Epoch 16/20\n",
      "19/19 [==============================] - 21s 1s/step - loss: 0.0349 - accuracy: 0.9875 - val_loss: 0.2166 - val_accuracy: 0.9599\n",
      "Epoch 17/20\n",
      "19/19 [==============================] - 21s 1s/step - loss: 0.0286 - accuracy: 0.9933 - val_loss: 0.2642 - val_accuracy: 0.9565\n",
      "Epoch 18/20\n",
      "19/19 [==============================] - 21s 1s/step - loss: 0.1118 - accuracy: 0.9800 - val_loss: 0.2049 - val_accuracy: 0.9632\n",
      "Epoch 19/20\n",
      "19/19 [==============================] - 21s 1s/step - loss: 0.0150 - accuracy: 0.9967 - val_loss: 0.1933 - val_accuracy: 0.9599\n",
      "Epoch 20/20\n",
      "19/19 [==============================] - 21s 1s/step - loss: 6.4336e-04 - accuracy: 1.0000 - val_loss: 0.2037 - val_accuracy: 0.9599\n"
     ]
    },
    {
     "data": {
      "text/plain": [
       "<tensorflow.python.keras.callbacks.History at 0x2a5f4bd47c0>"
      ]
     },
     "execution_count": 35,
     "metadata": {},
     "output_type": "execute_result"
    }
   ],
   "source": [
    "bi_rnn = BiRNN(cell_type = \"lstm\",embed_size = 128, state_sizes = [64, 128],data_manager = dm)#Insert your code here\n",
    "bi_rnn.build()\n",
    "opt = tf.keras.optimizers.RMSprop(learning_rate=0.001)\n",
    "bi_rnn.compile_model(optimizer=opt, loss='sparse_categorical_crossentropy', metrics=['accuracy'])\n",
    "bi_rnn.fit(dm.tf_train_set.batch(64), epochs=20, validation_data = dm.tf_valid_set.batch(64))"
   ]
  },
  {
   "cell_type": "markdown",
   "metadata": {},
   "source": [
    "### <span style=\"color:#0b486b\">5.3. RNNs with various types, cells, and fine-tuning embedding matrix for sequence modeling and neural embedding </span> ###\n",
    "\n",
    "<div style=\"text-align: right\"><span style=\"color:red; font-weight:bold\">[Total marks for this part: 11 points]<span></div>"
   ]
  },
  {
   "cell_type": "markdown",
   "metadata": {},
   "source": [
    "#### <span style=\"color:red\">**Question 5.3.1**</span> \n",
    "\n",
    "**In what follows, you are required to combine the code in Part 1 and Part 2 to gain a general RNN which can be either Uni-directional RNN or Bi-directional RNN and the embedding matrix can be initialized using a pretrained Word2Vect.**\n",
    "\n",
    "**Below are the descriptions of the attributes of the class *RNN*:**\n",
    "- `run_mode (self.run_mode)` has three values (scratch, init-only, and init-fine-tune).\n",
    "  - `scratch` means training the embedding matrix from scratch.\n",
    "  - `init-only` means only initializing the embedding matrix with a pretrained Word2Vect but **not further doing** fine-tuning that matrix.\n",
    "  - `init-fine-tune` means both initializing the embedding matrix with a pretrained Word2Vect and **further doing** fine-tuning that matrix.\n",
    "- `network_type (self.network_type)` has two values (uni-directional and bi-directional) which correspond to either Uni-directional RNN or Bi-directional RNN.\n",
    "- `cell_type (self.cell_type)` has three values (simple-rnn, gru, and lstm) which specify the memory cell used in the network.\n",
    "- `embed_model (self.embed_model)` specifes the pretrained Word2Vect model used.\n",
    "-  `embed_size (self.embed_size)` specifes the embedding size. Note that when run_mode is either init-only' or 'init-fine-tune', this embedding size is extracted from embed_model for dimension compatability.\n",
    "- `state_sizes (self.state_sizes)` indicates the list of the hidden sizes  of memory cells. For example, $state\\_sizes = [64, 128]$ means that you have two hidden layers in your network with hidden sizes of $64$ and $128$ respectively.\n",
    "\n",
    "**Complete the code of the class *RNN*.**\n",
    "\n",
    "<div style=\"text-align: right\"><span style=\"color:red\">[7 points]</span></div>"
   ]
  },
  {
   "cell_type": "code",
   "execution_count": 1,
   "metadata": {},
   "outputs": [],
   "source": [
    "class RNN:\n",
    "    def __init__(self, run_mode = 'scratch', cell_type= 'gru', network_type = 'uni-directional', embed_model= 'glove-wiki-gigaword-100', \n",
    "                 embed_size= 128, state_sizes = [64, 64], data_manager = None):\n",
    "        self.run_mode = run_mode\n",
    "        self.data_manager = data_manager\n",
    "        self.cell_type = cell_type\n",
    "        self.network_type = network_type\n",
    "        self.state_sizes = state_sizes\n",
    "        self.embed_model = embed_model\n",
    "        self.embed_size = embed_size\n",
    "        if self.run_mode != 'scratch':\n",
    "            self.embed_size = int(self.embed_model.split(\"-\")[-1])\n",
    "        self.data_manager = data_manager\n",
    "        self.vocab_size = dm.vocab_size +1\n",
    "        self.word2idx = dm.word2idx\n",
    "        self.word2vect = None\n",
    "        self.embed_matrix = np.zeros(shape= [self.vocab_size, self.embed_size])\n",
    "    \n",
    "    def build_embedding_matrix(self):\n",
    "        self.word2vect = api.load(self.embed_model)\n",
    "        for word, idex in self.word2idx.items():\n",
    "            try:\n",
    "                self.embed_matrix[idex] = self.word2vect.word_vec(word)\n",
    "            except KeyError:\n",
    "                pass\n",
    "        #Insert your code here\n",
    "    \n",
    "    @staticmethod\n",
    "    def get_layer(cell_type= 'gru', network_type= 'uni-directional', hidden_size= 128, return_sequences= False, activation = 'tanh'):\n",
    "        \n",
    "        if network_type == \"uni-directional\":\n",
    "            if cell_type=='gru':\n",
    "                return tf.keras.layers.GRU(hidden_size, return_sequences = return_sequences)\n",
    "            if cell_type== 'lstm':\n",
    "                return tf.keras.layers.LSTM(hidden_size, return_sequences = return_sequences)\n",
    "            else:\n",
    "                return tf.keras.layers.SimpleRNN(hidden_size, return_sequences = return_sequences)\n",
    "        if network_type == \"bi-directional\":\n",
    "            if cell_type=='gru':\n",
    "                return tf.keras.layers.Bidirectional(tf.keras.layers.GRU(hidden_size, activation = activation, return_sequences = return_sequences))\n",
    "            if cell_type== 'lstm':\n",
    "                return tf.keras.layers.Bidirectional(tf.keras.layers.LSTM(hidden_size, activation = activation, return_sequences = return_sequences))\n",
    "            else:\n",
    "                return tf.keras.layers.Bidirectional(tf.keras.layers.SimpleRNN(hidden_size, activation = activation, return_sequences = return_sequences))\n",
    "        \n",
    "        #Insert your code here\n",
    "    \n",
    "    def build(self):\n",
    "        x = tf.keras.layers.Input(shape=[None])\n",
    "        if self.run_mode == \"scratch\":\n",
    "            h = tf.keras.layers.Embedding(self.vocab_size, self.embed_size, mask_zero=True)(x)\n",
    "        if self.run_mode == \"init-only\":\n",
    "            self.build_embedding_matrix()\n",
    "            h = tf.keras.layers.Embedding(self.vocab_size, self.embed_size, mask_zero=True, weights= [self.embed_matrix], trainable= False)(x)\n",
    "        if self.run_mode == \"init-fine-tune\":\n",
    "            self.build_embedding_matrix()\n",
    "            h = tf.keras.layers.Embedding(self.vocab_size, self.embed_size, mask_zero=True, weights= [self.embed_matrix], trainable= True)(x)\n",
    "        num_layers = len(self.state_sizes) + 1 #Insert your code here\n",
    "        for i in range(num_layers):\n",
    "            # for the first layer\n",
    "            if i == 0:\n",
    "                h = self.get_layer(cell_type = self.cell_type, network_type= self.network_type, hidden_size = self.embed_size, return_sequences= True)(h)\n",
    "            # for the last layer\n",
    "            if i == len(self.state_sizes):\n",
    "                h = self.get_layer(cell_type = self.cell_type, network_type= self.network_type, hidden_size = self.state_sizes[i - 1], return_sequences= False)(h)\n",
    "            else:\n",
    "                h = self.get_layer(cell_type = self.cell_type, network_type= self.network_type, hidden_size = self.state_sizes[i - 1], return_sequences= True)(h)\n",
    "        h = tf.keras.layers.Dense(dm.num_classes, activation='softmax')(h)\n",
    "        self.model = tf.keras.Model(inputs=x, outputs=h)\n",
    "        #Insert your code here\n",
    "        \n",
    "    def compile_model(self, *args, **kwargs):\n",
    "        self.model.compile(*args, **kwargs)\n",
    "    \n",
    "    def fit(self, *args, **kwargs):\n",
    "        return self.model.fit(*args, **kwargs)\n",
    "    \n",
    "    def evaluate(self, *args, **kwargs):\n",
    "        self.model.evaluate(*args, **kwargs)       \n"
   ]
  },
  {
   "cell_type": "markdown",
   "metadata": {},
   "source": [
    "#### <span style=\"color:red\">**Question 5.3.2**</span> \n",
    "\n",
    "**Design the experiment to compare three running modes. Note that you should stick with fixed values for other attributes and only vary *run_mode*. Give your comments for the results.**\n",
    "\n",
    "<div style=\"text-align: right\"><span style=\"color:red\">[2 points]</span></div>"
   ]
  },
  {
   "cell_type": "code",
   "execution_count": 17,
   "metadata": {},
   "outputs": [
    {
     "name": "stdout",
     "output_type": "stream",
     "text": [
      "Current mode is scratch\n",
      "5/5 [==============================] - 8s 2s/step - loss: 0.6931 - accuracy: 0.9465\n",
      "Current mode is init-only\n",
      "5/5 [==============================] - 7s 1s/step - loss: 0.1686 - accuracy: 0.9632\n",
      "Current mode is init-fine-tune\n",
      "5/5 [==============================] - 7s 1s/step - loss: 0.4809 - accuracy: 0.9632\n"
     ]
    }
   ],
   "source": [
    "modes = [\"scratch\", \"init-only\", \"init-fine-tune\"]\n",
    "for mode in modes:\n",
    "    print(f\"Current mode is {mode}\")\n",
    "    my_rnn = RNN(run_mode = mode, cell_type = \"lstm\", network_type = 'bi-directional', data_manager = dm, embed_size = 128, state_sizes = [64, 128])\n",
    "    my_rnn.build()\n",
    "    opt = tf.keras.optimizers.RMSprop(learning_rate=0.001)\n",
    "    my_rnn.compile_model(optimizer=opt, loss='sparse_categorical_crossentropy', metrics=['accuracy'])\n",
    "    my_rnn.fit(dm.tf_train_set.batch(64), epochs=20, validation_data = dm.tf_valid_set.batch(64), verbose = False)\n",
    "    my_rnn.evaluate(dm.tf_valid_set.batch(64))"
   ]
  },
  {
   "cell_type": "markdown",
   "metadata": {},
   "source": [
    "The best model is init-only and init-fine-tune which has accuracy 96.32%, then the mode scratch with accuracy 94.65%."
   ]
  },
  {
   "cell_type": "markdown",
   "metadata": {},
   "source": [
    "#### <span style=\"color:red\">**Question 5.3.3**</span> \n",
    "\n",
    "**Run the above general RNN with at least five parameter sets and try to obtain the best performance. You can stick with the running mode *init-fine-tune* and use grid search to tune other parameters. Record your best model which will be used in the next part.**\n",
    "\n",
    "<div style=\"text-align: right\"><span style=\"color:red\">[2 points]</span></div>"
   ]
  },
  {
   "cell_type": "markdown",
   "metadata": {},
   "source": [
    "#Report your results here\n",
    "\n",
    "Model 1 (run_mode ='init-fine-tune',...): accuracy = ...\n",
    "\n",
    "......................................................"
   ]
  },
  {
   "cell_type": "code",
   "execution_count": 38,
   "metadata": {},
   "outputs": [
    {
     "name": "stdout",
     "output_type": "stream",
     "text": [
      "Model 1: (run_mode = init-fine-tune, cell_type = gru, network_type = bi-directional, data_manager = dm, embed_size = 128, state_sizes = [32, 32])\n",
      "5/5 [==============================] - 1s 134ms/step - loss: 0.2491 - accuracy: 0.9632\n",
      "0\n",
      "Model 2: (run_mode = init-fine-tune, cell_type = gru, network_type = bi-directional, data_manager = dm, embed_size = 128, state_sizes = [32, 128])\n",
      "5/5 [==============================] - 2s 360ms/step - loss: 0.2941 - accuracy: 0.9632\n",
      "1\n",
      "Model 3: (run_mode = init-fine-tune, cell_type = gru, network_type = bi-directional, data_manager = dm, embed_size = 128, state_sizes = [128, 32])\n",
      "5/5 [==============================] - 1s 239ms/step - loss: 1.2733 - accuracy: 0.8662\n",
      "2\n",
      "Model 4: (run_mode = init-fine-tune, cell_type = gru, network_type = bi-directional, data_manager = dm, embed_size = 128, state_sizes = [32, 64])\n",
      "5/5 [==============================] - 1s 227ms/step - loss: 0.2830 - accuracy: 0.9699\n",
      "3\n",
      "Model 5: (run_mode = init-fine-tune, cell_type = gru, network_type = bi-directional, data_manager = dm, embed_size = 128, state_sizes = [64, 32])\n",
      "5/5 [==============================] - 1s 207ms/step - loss: 0.3519 - accuracy: 0.9599\n",
      "4\n"
     ]
    }
   ],
   "source": [
    "state_sizes = [[32, 32], [32, 128], [128, 32], [32, 64], [64, 32]]\n",
    "for i in range (len(state_sizes)):\n",
    "    print(\"Model \" + str(i+1) + \": (run_mode = init-fine-tune, cell_type = gru, network_type = bi-directional, data_manager = dm, embed_size = 128, state_sizes = \" + str(state_sizes[i]) + \")\")\n",
    "    my_rnn = RNN(run_mode = 'init-fine-tune', cell_type = \"lstm\", network_type = 'bi-directional', data_manager = dm, embed_size = 128, state_sizes = state_sizes[i])\n",
    "    my_rnn.build()\n",
    "    opt = tf.keras.optimizers.RMSprop(learning_rate=0.001)\n",
    "    my_rnn.compile_model(optimizer=opt, loss='sparse_categorical_crossentropy', metrics=['accuracy'])\n",
    "    my_rnn.fit(dm.tf_train_set.batch(64), epochs=20, validation_data = dm.tf_valid_set.batch(64), verbose = False)\n",
    "    my_rnn.evaluate(dm.tf_valid_set.batch(64))\n",
    "    print(i)"
   ]
  },
  {
   "cell_type": "markdown",
   "metadata": {},
   "source": [
    "My best model is Model 4"
   ]
  },
  {
   "cell_type": "code",
   "execution_count": 18,
   "metadata": {},
   "outputs": [
    {
     "name": "stdout",
     "output_type": "stream",
     "text": [
      "5/5 [==============================] - 4s 810ms/step - loss: 0.2972 - accuracy: 0.9666\n"
     ]
    }
   ],
   "source": [
    "my_best_rnn = RNN(run_mode = 'init-fine-tune', cell_type = \"lstm\", network_type = 'bi-directional', data_manager = dm, embed_size = 128, state_sizes = [32, 64])\n",
    "my_best_rnn.build()\n",
    "opt = tf.keras.optimizers.RMSprop(learning_rate=0.001)\n",
    "my_best_rnn.compile_model(optimizer=opt, loss='sparse_categorical_crossentropy', metrics=['accuracy'])\n",
    "my_best_rnn.fit(dm.tf_train_set.batch(64), epochs=20, validation_data = dm.tf_valid_set.batch(64), verbose = False)\n",
    "my_best_rnn.evaluate(dm.tf_valid_set.batch(64))"
   ]
  },
  {
   "cell_type": "markdown",
   "metadata": {},
   "source": [
    "### <span style=\"color:#0b486b\">5.4. RNNs with Attention for Text and Sequence Classification</span> ###\n",
    "\n",
    "**In what follows, you are required to implement a RNN with the attention machenism for text and sequence classification. This attention mechanism is applied at the last hidden layer of our RNN. Specifically, let $h_1, h_2,...,h_{L-1}, h_L$ be the hidden states at the last hidden layer where $L$ is the sequence length. We compute the context vector $c$ as $c=\\sum_{i=1}^{L}a_{i}h_{i}$ where $a_1,...,a_L$ are the allignment weights (i.e., $a_i\\geq 0$ and $\\sum_{i=1}^{L}a_{i}=1$).**\n",
    "\n",
    "**The allignment weights are computed as follows:**\n",
    "- $a=[a_{i}]_{i=1}^{L}=softmax([s_{i}]_{i=1}^{L})$ where $s= [s_{i}]_{i=1}^{L}$ consists of the allignment scores.\n",
    "- The assigment scores $s= [s_{i}]_{i=1}^{L}$ are computed as $s=tanh(hU)V$ where $h=\\left[\\begin{array}{c}\n",
    "h_{1}\\\\\n",
    "h_{2}\\\\\n",
    "...\\\\\n",
    "h_{L-1}\\\\\n",
    "h_{L}\n",
    "\\end{array}\\right]\\in\\mathbb{R}^{L\\times state\\_size_{3}}$, $U\\in\\mathbb{R}^{state\\_size_{3}\\times output\\_length}$, $V\\in\\mathbb{R}^{output\\_length\\times1}$, and $output\\_length$ is a hyper-parameter. Note that if we consider a mini-batch, the shape of $h$ is $batch\\_size \\times L \\times state\\_size_3$ where $state\\_size_3$ is the hidden size of the last hidden layer.\n",
    "\n",
    "After having the context vector $c$, we concatenate with the last hidden state $h_L$. On top of this concatenation, we conduct the output layer with the softmax activation.\n",
    "\n",
    "<img src=\"./images/attention.png\" align=\"center\" width=1200/>\n",
    "\n",
    "<div style=\"text-align: right\"><span style=\"color:red; font-weight:bold\">[Total marks for this part: 14 points]<span></div>"
   ]
  },
  {
   "cell_type": "markdown",
   "metadata": {},
   "source": [
    "#### <span style=\"color:red\">**Question 5.4.1**</span>\n",
    "\n",
    "**We declare the  layer `MyAttention` as a class inherited from `tf.keras.layers.Layer` to realize our attention mechanism. You are required to provide the code for this class. Note that in the `def call(self, all_states, last_state)` method, `all_states` is the collection of all hidden states and `last_state` is the last hidden state.**\n",
    "\n",
    "<div style=\"text-align: right\"><span style=\"color:red\">[5 points]</span></div>"
   ]
  },
  {
   "cell_type": "code",
   "execution_count": 8,
   "metadata": {},
   "outputs": [],
   "source": [
    "class MyAttention(tf.keras.layers.Layer):\n",
    "    def __init__(self, output_length= 50):\n",
    "        super(MyAttention, self).__init__()\n",
    "        self.M = tf.keras.layers.Dense(output_length)\n",
    "        self.N = tf.keras.layers.Dense(1)\n",
    "        #Inser your code here\n",
    "    \n",
    "    #all_states is the collection of all hidden states and last_state is the last hidden state\n",
    "    def call(self, all_states, last_state):\n",
    "        #Insert your code here\n",
    "        # compute score [batch_size, num_timesteps, 1]\n",
    "        attention_score = self.N(tf.keras.activations.tanh(self.M(all_states)))\n",
    "        # compute weight [batch_size, num_timesteps, 1]\n",
    "        attention_weight = tf.nn.softmax(attention_score, axis=1)\n",
    "        # compute context [batch_size, decoder_dim]\n",
    "        context = attention_weight*all_states\n",
    "        context = tf.reduce_sum(context, axis=1)\n",
    "        context = tf.concat([context,last_state],axis = 1)\n",
    "                                 \n",
    "        return context"
   ]
  },
  {
   "cell_type": "markdown",
   "metadata": {},
   "source": [
    "#### <span style=\"color:red\">**Question 5.4.2**</span> \n",
    "\n",
    "**You are required to extend the class `RNN` in Section `5.3.1` to achieve the class `Attention_RNN` in which the attention mechanism mentioned above is applied at the last hidden layer.**\n",
    "\n",
    "<div style=\"text-align: right\"><span style=\"color:red\">[5 points]</span></div>"
   ]
  },
  {
   "cell_type": "code",
   "execution_count": 10,
   "metadata": {},
   "outputs": [],
   "source": [
    "class Attention_RNN:\n",
    "    def __init__(self, run_mode = 'scratch', cell_type= 'gru', network_type = 'uni-directional', embed_model= 'glove-wiki-gigaword-100', \n",
    "                 embed_size= 128, state_sizes = [64, 64], data_manager = None):\n",
    "        self.run_mode = run_mode\n",
    "        self.data_manager = data_manager\n",
    "        self.cell_type = cell_type\n",
    "        self.network_type = network_type\n",
    "        self.state_sizes = state_sizes\n",
    "        self.embed_model = embed_model\n",
    "        self.embed_size = embed_size\n",
    "        if self.run_mode != 'scratch':\n",
    "            self.embed_size = int(self.embed_model.split(\"-\")[-1])\n",
    "        self.data_manager = data_manager\n",
    "        self.vocab_size = dm.vocab_size +1\n",
    "        self.word2idx = dm.word2idx\n",
    "        self.word2vect = None\n",
    "        self.embed_matrix = np.zeros(shape= [self.vocab_size, self.embed_size])\n",
    "    \n",
    "    def build_embedding_matrix(self):\n",
    "        #Insert your code here\n",
    "        self.word2vect = api.load(self.embed_model)\n",
    "        for word, idx in self.word2idx.items():\n",
    "            try:\n",
    "                self.embed_matrix[idx] = self.word2vect.word_vec(word)\n",
    "            except KeyError:\n",
    "                pass\n",
    "    @staticmethod\n",
    "    def get_layer(cell_type= 'gru', network_type= 'uni-directional', hidden_size= 128, return_sequences= False, activation = 'tanh'):\n",
    "        \n",
    "        #Insert your code here\n",
    "        if network_type == \"uni-directional\":\n",
    "            if cell_type=='gru':\n",
    "                return tf.keras.layers.GRU(hidden_size, return_sequences = return_sequences)\n",
    "            if cell_type== 'lstm':\n",
    "                return tf.keras.layers.LSTM(hidden_size, return_sequences = return_sequences)\n",
    "            else:\n",
    "                return tf.keras.layers.SimpleRNN(hidden_size, return_sequences = return_sequences)\n",
    "        if network_type == \"bi-directional\":\n",
    "            if cell_type=='gru':\n",
    "                return tf.keras.layers.Bidirectional(tf.keras.layers.GRU(hidden_size, activation = activation, return_sequences = return_sequences))\n",
    "            if cell_type== 'lstm':\n",
    "                return tf.keras.layers.Bidirectional(tf.keras.layers.LSTM(hidden_size, activation = activation, return_sequences = return_sequences))\n",
    "            else:\n",
    "                return tf.keras.layers.Bidirectional(tf.keras.layers.SimpleRNN(hidden_size, activation = activation, return_sequences = return_sequences))\n",
    "        \n",
    "    def build(self):\n",
    "        #Insert your code here\n",
    "        x = tf.keras.layers.Input(shape=[None])\n",
    "        if self.run_mode == \"scratch\":\n",
    "            h = tf.keras.layers.Embedding(self.vocab_size, self.embed_size, mask_zero=True)(x)\n",
    "        if self.run_mode == \"init-only\":\n",
    "            self.build_embedding_matrix()\n",
    "            h = tf.keras.layers.Embedding(self.vocab_size, self.embed_size, mask_zero=True, weights= [self.embed_matrix], trainable= False)(x)\n",
    "        if self.run_mode == \"init-fine-tune\":\n",
    "            self.build_embedding_matrix()\n",
    "            h = tf.keras.layers.Embedding(self.vocab_size, self.embed_size, mask_zero=True, weights= [self.embed_matrix], trainable= True)(x)\n",
    "        num_layers = len(self.state_sizes)+1  #Insert your code here\n",
    "        for i in range(num_layers):\n",
    "            # for the first layer\n",
    "            if i == 0:\n",
    "                h = self.get_layer(cell_type = self.cell_type, network_type= self.network_type, hidden_size = self.embed_size, return_sequences= True)(h)\n",
    "            # for the last layer\n",
    "            if i == num_layers-1:\n",
    "                h = self.get_layer(cell_type = self.cell_type, network_type= self.network_type, hidden_size = self.state_sizes[i - 1], return_sequences= True)(h)\n",
    "            else:\n",
    "                h = self.get_layer(cell_type = self.cell_type, network_type= self.network_type, hidden_size = self.state_sizes[i - 1], return_sequences= True)(h)\n",
    "        \n",
    "        attention = MyAttention()\n",
    "        h = attention(h,h[:,-1,:])\n",
    "        h = tf.keras.layers.Dense(dm.num_classes, activation='softmax')(h)\n",
    "        self.model = tf.keras.Model(inputs=x, outputs=h)\n",
    "        \n",
    "        \n",
    "        \n",
    "    def compile_model(self, *args, **kwargs):\n",
    "        self.model.compile(*args, **kwargs)\n",
    "    \n",
    "    def fit(self, *args, **kwargs):\n",
    "        return self.model.fit(*args, **kwargs)\n",
    "    \n",
    "    def evaluate(self, *args, **kwargs):\n",
    "        self.model.evaluate(*args, **kwargs)       \n"
   ]
  },
  {
   "cell_type": "markdown",
   "metadata": {},
   "source": [
    "#### <span style=\"color:red\">**Question 5.4.3**</span> \n",
    "\n",
    "**Choose a common setting for standard RNN and RNN with attention and conduct experiments to compare them. A setting here means `cell_type`, `network_type`, and list of `state sizes`**.\n",
    "\n",
    "<div style=\"text-align: right\"><span style=\"color:red\">[4 points]</span></div>"
   ]
  },
  {
   "cell_type": "code",
   "execution_count": 12,
   "metadata": {},
   "outputs": [
    {
     "name": "stdout",
     "output_type": "stream",
     "text": [
      "Model 1 : cell_type =lstm,network_type = bi-directional, data_manager = dm, embed_size = 128, state_sizes = [64, 64])\n",
      "5/5 [==============================] - 4s 723ms/step - loss: 0.5216 - accuracy: 0.9498\n",
      "Model 2 : cell_type =gru,network_type = bi-directional, data_manager = dm, embed_size = 128, state_sizes = [64, 64])\n",
      "5/5 [==============================] - 3s 581ms/step - loss: 0.6108 - accuracy: 0.9565\n",
      "Model 3 : cell_type =basic_rnn,network_type = bi-directional, data_manager = dm, embed_size = 128, state_sizes = [64, 64])\n",
      "5/5 [==============================] - 1s 244ms/step - loss: 0.1842 - accuracy: 0.9699\n",
      "Model 4 : cell_type =lstm,network_type = uni-directional, data_manager = dm, embed_size = 128, state_sizes = [64, 64])\n",
      "5/5 [==============================] - 2s 336ms/step - loss: 0.2034 - accuracy: 0.9365\n",
      "Model 5 : cell_type =gru,network_type = uni-directional, data_manager = dm, embed_size = 128, state_sizes = [64, 64])\n",
      "5/5 [==============================] - 1s 242ms/step - loss: 0.3654 - accuracy: 0.9565\n",
      "Model 6 : cell_type =basic_rnn,network_type = uni-directional, data_manager = dm, embed_size = 128, state_sizes = [64, 64])\n",
      "5/5 [==============================] - 1s 109ms/step - loss: 0.1835 - accuracy: 0.9699\n",
      "Model 7 : cell_type =lstm,network_type = bi-directional, data_manager = dm, embed_size = 128, state_sizes = [32, 128])\n",
      "5/5 [==============================] - 6s 1s/step - loss: 0.3187 - accuracy: 0.9632\n",
      "Model 8 : cell_type =gru,network_type = bi-directional, data_manager = dm, embed_size = 128, state_sizes = [32, 128])\n",
      "5/5 [==============================] - 5s 1s/step - loss: 0.4449 - accuracy: 0.9398\n",
      "Model 9 : cell_type =basic_rnn,network_type = bi-directional, data_manager = dm, embed_size = 128, state_sizes = [32, 128])\n",
      "5/5 [==============================] - 3s 501ms/step - loss: 0.2670 - accuracy: 0.9532\n",
      "Model 10 : cell_type =lstm,network_type = uni-directional, data_manager = dm, embed_size = 128, state_sizes = [32, 128])\n",
      "5/5 [==============================] - 3s 537ms/step - loss: 0.2009 - accuracy: 0.9365\n",
      "Model 11 : cell_type =gru,network_type = uni-directional, data_manager = dm, embed_size = 128, state_sizes = [32, 128])\n",
      "5/5 [==============================] - 2s 467ms/step - loss: 0.5168 - accuracy: 0.9498\n",
      "Model 12 : cell_type =basic_rnn,network_type = uni-directional, data_manager = dm, embed_size = 128, state_sizes = [32, 128])\n",
      "5/5 [==============================] - 1s 208ms/step - loss: 0.2058 - accuracy: 0.9565\n",
      "Model 13 : cell_type =lstm,network_type = bi-directional, data_manager = dm, embed_size = 128, state_sizes = [128, 32])\n",
      "5/5 [==============================] - 5s 937ms/step - loss: 0.3687 - accuracy: 0.9331\n",
      "Model 14 : cell_type =gru,network_type = bi-directional, data_manager = dm, embed_size = 128, state_sizes = [128, 32])\n",
      "5/5 [==============================] - 4s 803ms/step - loss: 0.4552 - accuracy: 0.9632\n",
      "Model 15 : cell_type =basic_rnn,network_type = bi-directional, data_manager = dm, embed_size = 128, state_sizes = [128, 32])\n",
      "5/5 [==============================] - 2s 372ms/step - loss: 0.3618 - accuracy: 0.9632\n",
      "Model 16 : cell_type =lstm,network_type = uni-directional, data_manager = dm, embed_size = 128, state_sizes = [128, 32])\n",
      "5/5 [==============================] - 2s 463ms/step - loss: 0.2027 - accuracy: 0.9532\n",
      "Model 17 : cell_type =gru,network_type = uni-directional, data_manager = dm, embed_size = 128, state_sizes = [128, 32])\n",
      "5/5 [==============================] - 2s 348ms/step - loss: 0.4225 - accuracy: 0.9565\n",
      "Model 18 : cell_type =basic_rnn,network_type = uni-directional, data_manager = dm, embed_size = 128, state_sizes = [128, 32])\n",
      "5/5 [==============================] - 1s 159ms/step - loss: 0.1925 - accuracy: 0.9532\n",
      "Model 19 : cell_type =lstm,network_type = bi-directional, data_manager = dm, embed_size = 128, state_sizes = [32, 64])\n",
      "5/5 [==============================] - 5s 956ms/step - loss: 0.3011 - accuracy: 0.9498\n",
      "Model 20 : cell_type =gru,network_type = bi-directional, data_manager = dm, embed_size = 128, state_sizes = [32, 64])\n",
      "5/5 [==============================] - 3s 659ms/step - loss: 0.4010 - accuracy: 0.9666\n",
      "Model 21 : cell_type =basic_rnn,network_type = bi-directional, data_manager = dm, embed_size = 128, state_sizes = [32, 64])\n",
      "5/5 [==============================] - 1s 257ms/step - loss: 0.3215 - accuracy: 0.9632\n",
      "Model 22 : cell_type =lstm,network_type = uni-directional, data_manager = dm, embed_size = 128, state_sizes = [32, 64])\n",
      "5/5 [==============================] - 2s 382ms/step - loss: 0.1260 - accuracy: 0.9599\n",
      "Model 23 : cell_type =gru,network_type = uni-directional, data_manager = dm, embed_size = 128, state_sizes = [32, 64])\n",
      "5/5 [==============================] - 1s 261ms/step - loss: 0.4304 - accuracy: 0.9599\n",
      "Model 24 : cell_type =basic_rnn,network_type = uni-directional, data_manager = dm, embed_size = 128, state_sizes = [32, 64])\n",
      "5/5 [==============================] - 1s 130ms/step - loss: 0.1634 - accuracy: 0.9699\n",
      "Model 25 : cell_type =lstm,network_type = bi-directional, data_manager = dm, embed_size = 128, state_sizes = [64, 32])\n",
      "5/5 [==============================] - 4s 797ms/step - loss: 0.5067 - accuracy: 0.9264\n",
      "Model 26 : cell_type =gru,network_type = bi-directional, data_manager = dm, embed_size = 128, state_sizes = [64, 32])\n",
      "5/5 [==============================] - 3s 584ms/step - loss: 0.3626 - accuracy: 0.9699\n",
      "Model 27 : cell_type =basic_rnn,network_type = bi-directional, data_manager = dm, embed_size = 128, state_sizes = [64, 32])\n",
      "5/5 [==============================] - 1s 297ms/step - loss: 0.2859 - accuracy: 0.9732\n",
      "Model 28 : cell_type =lstm,network_type = uni-directional, data_manager = dm, embed_size = 128, state_sizes = [64, 32])\n",
      "5/5 [==============================] - 2s 320ms/step - loss: 0.2049 - accuracy: 0.9398\n",
      "Model 29 : cell_type =gru,network_type = uni-directional, data_manager = dm, embed_size = 128, state_sizes = [64, 32])\n",
      "5/5 [==============================] - 1s 236ms/step - loss: 0.4148 - accuracy: 0.9465\n",
      "Model 30 : cell_type =basic_rnn,network_type = uni-directional, data_manager = dm, embed_size = 128, state_sizes = [64, 32])\n",
      "5/5 [==============================] - 1s 107ms/step - loss: 0.1654 - accuracy: 0.9666\n"
     ]
    }
   ],
   "source": [
    "state_sizes = [[64, 64], [32, 128], [128, 32], [32, 64], [64, 32]]\n",
    "network_types = ['bi-directional','uni-directional']\n",
    "cell_types = ['lstm','gru','basic_rnn']\n",
    "count = 1\n",
    "for i in range (len(state_sizes)):  \n",
    "    for network_type in network_types:\n",
    "        for cell_type in cell_types:\n",
    "            print(f\"Model {count} : cell_type ={cell_type},network_type = {network_type}, data_manager = dm, embed_size = 128, state_sizes = {str(state_sizes[i])})\")\n",
    "#                 print(\"Model \" + str(i+1) + \": (run_mode = init-fine-tune, cell_type = lstm, network_type = bi-directional, data_manager = dm, embed_size = 128, state_sizes = \" + str(state_sizes[i]) + \")\")\n",
    "            my_rnn = Attention_RNN(cell_type = cell_type, network_type = network_type, data_manager = dm, embed_size = 128, state_sizes = state_sizes[i])\n",
    "            my_rnn.build()\n",
    "            opt = tf.keras.optimizers.RMSprop(learning_rate=0.001)\n",
    "            my_rnn.compile_model(optimizer=opt, loss='sparse_categorical_crossentropy', metrics=['accuracy'])\n",
    "            my_rnn.fit(dm.tf_train_set.batch(64), epochs=20, validation_data = dm.tf_valid_set.batch(64), verbose = False)\n",
    "            my_rnn.evaluate(dm.tf_valid_set.batch(64))\n",
    "            count  = count + 1 \n",
    "\n",
    "   "
   ]
  },
  {
   "cell_type": "markdown",
   "metadata": {},
   "source": [
    "### <span style=\"color:#0b486b\">5.5. Investigating the embedding vectors from the embedding matrix</span> ###\n",
    "\n",
    "<div style=\"text-align: right\"><span style=\"color:red; font-weight:bold\">[Total marks for this part: 10 points]<span></div>"
   ]
  },
  {
   "cell_type": "markdown",
   "metadata": {},
   "source": [
    "**As you know, the embedding matrix is a collection of embedding vectors, each is for one word. In this part, you will base on the cosine similarity of the embedding vectors for the words to find the top-k most relevant words for a given word.**\n",
    "\n",
    "**Good embeddings should have words close in meaning near each other by some similarity metrics. The similarity metric we'll use is the `consine` similarity, which is defined for two vector $\\mathbf{u}$ and $\\mathbf{v}$ as $\\cos(\\mathbf{u}, \\mathbf{v})=\\frac{\\mathbf{u} \\cdot \\mathbf{v}}{\\left\\Vert{\\mathbf{u}}\\right\\Vert\\left\\Vert{\\mathbf{v}}\\right\\Vert}$ where $\\cdot$ means dot product and $\\left\\Vert\\cdot\\right\\Vert$ means the $\\mathcal{L}_2$ norm.**"
   ]
  },
  {
   "cell_type": "code",
   "execution_count": 22,
   "metadata": {},
   "outputs": [],
   "source": [
    "def cosine_similarity(u,v):\n",
    "    return np.dot(u,v)/(np.linalg.norm(u)*np.linalg.norm(v))"
   ]
  },
  {
   "cell_type": "markdown",
   "metadata": {},
   "source": [
    "#### <span style=\"color:red\">**Question 5.5.1**</span> \n",
    "\n",
    "**You are required to write the code for the function `find_most_similar(word= None, k=5, model= None)`. As its name, this function returns the `top-k most relevant word` for a given word based on the cosine similarity of the embedding vectors.**\n",
    "\n",
    "<div style=\"text-align: right\"><span style=\"color:red\">[5 points]</span></div>"
   ]
  },
  {
   "cell_type": "code",
   "execution_count": 23,
   "metadata": {},
   "outputs": [],
   "source": [
    "def find_most_similar(word= None, k=5, model= None):\n",
    "    try:\n",
    "        #Insert your code here\n",
    "        idx_word = dm.word2idx[word]\n",
    "        embed_matrix = model.embed_matrix\n",
    "        embedding_word = embed_matrix[idx_word]\n",
    "        temp=[]\n",
    "            for i in range(len(embed_matrix)):\n",
    "        temp = [(i,embed_matrix[i])]\n",
    "        temp = sorted(temp,key = lambda i: cosine_similarity(embedding_word,i[1]), reverse = True)\n",
    "        output=[]\n",
    "            for i in temp[1:k+1]:\n",
    "        output = [dm.idx2word[i[0]]]\n",
    "        return output\n",
    "    except: #word not in the vocabulary\n",
    "        print(\"Word is not in the dictionary!\")"
   ]
  },
  {
   "cell_type": "markdown",
   "metadata": {},
   "source": [
    "Here is the example of the above function. As you can observe, the result makes sense which demonstrates that we obtain a good model with the meaningful embedding matrix."
   ]
  },
  {
   "cell_type": "code",
   "execution_count": 24,
   "metadata": {},
   "outputs": [
    {
     "data": {
      "text/plain": [
       "['russia',\n",
       " 'italy',\n",
       " 'soviet',\n",
       " 'canada',\n",
       " 'berlin',\n",
       " 'france',\n",
       " 'japan',\n",
       " 'countries',\n",
       " 'brazil',\n",
       " 'vietnam']"
      ]
     },
     "execution_count": 24,
     "metadata": {},
     "output_type": "execute_result"
    }
   ],
   "source": [
    "find_most_similar(word='poland', k=10, model= my_best_rnn)"
   ]
  },
  {
   "cell_type": "markdown",
   "metadata": {},
   "source": [
    "#### <span style=\"color:red\">**Question 5.5.2**</span> \n",
    "​\n",
    "**You are required to write the code for the function `plot3D_with_labels(word= None, model= None, k= 10)`. As its name, this function visualizes the `top-k most relevant word` for a given word based on the cosine similarity of the embedding vectors by using tSNE to project the embedding vectors to a 3D space.**\n",
    "​\n",
    "\n",
    "<img src=\"./images/3D_plots.png\" align=\"center\" width=600/>\n",
    "<div style=\"text-align: right\"><span style=\"color:red\">[5 points]</span></div>"
   ]
  },
  {
   "cell_type": "code",
   "execution_count": 27,
   "metadata": {},
   "outputs": [],
   "source": [
    "from mpl_toolkits.mplot3d import Axes3D\n",
    "from sklearn.manifold import TSNE\n",
    "tsne = TSNE(perplexity=30, n_components=3, init='pca', n_iter=5000)\n",
    "def plot3D_with_labels(word= None, model= None, k= 10):\n",
    "   #Insert yout codeh here\n",
    "    word_list = find_most_similar(word = word, model= model, k = k)\n",
    "    index = [dm.word2idx[i] for i in word_list]\n",
    "\n",
    "    embed_matrix = model.embed_matrix\n",
    "    embedding = [embed_matrix[i] for i in index]\n",
    "    low_dim_embs = tsne.fit_transform(embedding)\n",
    "\n",
    "    fig = plt.figure(figsize=(15, 15))\n",
    "    ax = fig.add_subplot(111, projection='3d')\n",
    "    for i, label in enumerate(word_list):\n",
    "        x,y,z =  low_dim_embs[i,:]\n",
    "        ax.scatter(x, y, z)\n",
    "        ax.text(x, y, z, label)\n",
    "    ax.set_xlabel('dim-one')\n",
    "    ax.set_ylabel('dim-two')\n",
    "    ax.set_zlabel('dim-three')\n",
    "    plt.show()"
   ]
  },
  {
   "cell_type": "code",
   "execution_count": 28,
   "metadata": {},
   "outputs": [
    {
     "data": {
      "image/png": "[encoded data removed]",
      "text/plain": [
       "<Figure size 1500x1500 with 1 Axes>"
      ]
     },
     "metadata": {},
     "output_type": "display_data"
    }
   ],
   "source": [
    "plot3D_with_labels(word='poland', k=20, model= my_best_rnn)\n"
   ]
  },
  {
   "cell_type": "markdown",
   "metadata": {},
   "source": [
    "--- \n",
    "<div style=\"text-align: center\"> <span style=\"color:green\">GOOD LUCK WITH YOUR ASSIGNMENT 2!</span> </div>\n",
    "<div style=\"text-align: center\"> <span style=\"color:black\">END OF ASSIGNMENT</span> </div>"
   ]
  }
 ],
 "metadata": {
  "kernelspec": {
   "display_name": "Python 3 (ipykernel)",
   "language": "python",
   "name": "python3"
  },
  "language_info": {
   "codemirror_mode": {
    "name": "ipython",
    "version": 3
   },
   "file_extension": ".py",
   "mimetype": "text/x-python",
   "name": "python",
   "nbconvert_exporter": "python",
   "pygments_lexer": "ipython3",
   "version": "3.8.13"
  }
 },
 "nbformat": 4,
 "nbformat_minor": 4
}
