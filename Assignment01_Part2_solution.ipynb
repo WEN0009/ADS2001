{
 "cells": [
  {
   "cell_type": "markdown",
   "metadata": {},
   "source": [
    "# <span style=\"color:#0b486b\">  FIT3181: Deep Learning (2022)</span>\n",
    "***\n",
    "*CE/Lecturer:* Dr **Trung Le** | trunglm@monash.edu <br/>\n",
    "*Head Tutor:* Mr **Thanh Nguyen** | thanh.nguyen4@monash.edu  <br/>\n",
    "<br/>\n",
    "Department of Data Science and AI, Faculty of Information Technology, Monash University, Australia\n",
    "***"
   ]
  },
  {
   "cell_type": "markdown",
   "metadata": {},
   "source": [
    "# <span style=\"color:#0b486b\">  Student Information</span>\n",
    "***\n",
    "Surname: **[Wen]**  <br/>\n",
    "Firstname: **[Wen]**    <br/>\n",
    "Student ID: **[31514081]**    <br/>\n",
    "Email: **[wwen0009@student.monash.edu]**    <br/>\n",
    "Your tutorial time: **[FIT3181 Laboratory 01_OnCampus: Thursday 10:00-12:00 ]**    <br/>\n",
    "***"
   ]
  },
  {
   "cell_type": "markdown",
   "metadata": {},
   "source": [
    "# <span style=\"color:#0b486b\">Deep Neural Networks</span>\n",
    "### Due: <span style=\"color:red\">11:59pm Sunday, 18 September 2022</span>  (Sunday)\n",
    "\n",
    "#### <span style=\"color:red\">Important note:</span> This is an **individual** assignment. It contributes **20%** to your final mark. Read the assignment instruction carefully."
   ]
  },
  {
   "cell_type": "markdown",
   "metadata": {},
   "source": [
    "## <span style=\"color:#0b486b\">Instruction</span>\n",
    "\n",
    "This notebook has been prepared for your to complete Assignment 1. The theme of this assignment is about practical machine learning knowledge and skills in deep neural networks, including feedforward and convolutional neural networks. Some sections have been partially completed to help you get\n",
    "started. **The total marks for this notebook is 100**.\n",
    "\n",
    "* Before you start, read the entire notebook carefully once to understand what you need to do. <br/>\n",
    "\n",
    "* For each cell marked with **#YOU ARE REQUIRED TO INSERT YOUR CODES IN THIS CELL**, there will be places where you **must** supply your own codes when instructed. <br>\n",
    "\n",
    "This assignment contains **three** parts:\n",
    "\n",
    "* Part 1: Questions on theory and knowledge on machine learning and deep learning **[30 points], 30%**\n",
    "* Part 2: Coding assessment on TensorFlow for Deep Neural Networks (DNN) **[30 points], 30%**\n",
    "* Part 3: Coding assessment on TensorFlow for Convolution Neural Networks (CNN) **[40 points], 40%**\n",
    "\n",
    "**Hint**: This assignment was essentially designed based on the lectures and tutorials sessions covered from Week 1 to Week 6. You are strongly recommended to go through these contents thoroughly which might help you to complete this assignment."
   ]
  },
  {
   "cell_type": "markdown",
   "metadata": {},
   "source": [
    "## <span style=\"color:#0b486b\">What to submit</span>\n",
    "\n",
    "This assignment is to be completed individually and submitted to Moodle unit site. **By the due date, you are required to submit one  <span style=\"color:red; font-weight:bold\">single zip file, named xxx_assignment01_solution.zip</span> where `xxx` is your student ID, to the corresponding Assignment (Dropbox) in Moodle**. "
   ]
  },
  {
   "cell_type": "markdown",
   "metadata": {},
   "source": [
    "***For example, if your student ID is <span style=\"color:red; font-weight:bold\">12356</span>, then gather all of your assignment solution to folder, create a zip file named <span style=\"color:red; font-weight:bold\">123456_assignment01_solution.zip</span> and submit this file.***"
   ]
  },
  {
   "cell_type": "markdown",
   "metadata": {},
   "source": [
    "Within this zip folder, you **must** submit the following files:\n",
    "1.\t**Assignment01_solution.ipynb**:  this is your Python notebook solution source file.\n",
    "1.\t**Assignment01_output.html**: this is the output of your Python notebook solution *exported* in html format.\n",
    "1.\tAny **extra files or folder** needed to complete your assignment (e.g., images used in your answers)."
   ]
  },
  {
   "cell_type": "markdown",
   "metadata": {},
   "source": [
    "Since the notebook is quite big to load and work together, one recommended option is to split solution into three parts and work on them seperately. In that case, replace **Assignment01_solution.ipynb** by three notebooks: **Assignment01_Part1_solution.ipynb**, **Assignment01_Part2_solution.ipynb** and **Assignment01_Part3_solution.ipynb**"
   ]
  },
  {
   "cell_type": "markdown",
   "metadata": {},
   "source": [
    "**You can run your codes on Google Colab. In this case, you need to capture the screenshots of your Google Colab model training and put in corresponding places in your Jupyter notebook. You also need to store your trained models to folder <span style=\"color:red; font-weight:bold\">*./models*</span> with recognizable file names (e.g., Part3_Sec3_2_model.h5).** "
   ]
  },
  {
   "cell_type": "markdown",
   "metadata": {},
   "source": [
    "## <span style=\"color:#0b486b\">Part 2: Deep Neural Networks (DNN) </span>\n",
    "<div style=\"text-align: right\"><span style=\"color:red; font-weight:bold\">[Total marks for this part: 30 points]<span></div>\n",
    "\n",
    "The first part of this assignment is for you to demonstrate your basis knowledge in deep learning that you have acquired from the lectures and tutorials materials. Most of the contents in this assignment are drawn from **the tutorials covered from weeks 1 to 4**. Going through these materials before attempting this assignment is highly recommended."
   ]
  },
  {
   "cell_type": "markdown",
   "metadata": {},
   "source": [
    "In the first part of this assignment, you are going to work with the **FashionMNIST** dataset for *image recognition task*. It has the exact same format as MNIST (70,000 grayscale images of 28 × 28 pixels each with 10 classes), but the images represent fashion items rather than handwritten digits, so each class is more diverse, and the problem is significantly more challenging than MNIST."
   ]
  },
  {
   "cell_type": "markdown",
   "metadata": {},
   "source": [
    "####  <span style=\"color:red\">**Question 2.1**</span>. Load the Fashion MNIST using Keras datasets\n",
    "\n",
    "<div style=\"text-align: right\"> <span style=\"color:red\">[5 points]</span> </div>\n",
    "\n",
    "We first use keras incoporated in TensorFlow 2.x for loading the training and testing sets."
   ]
  },
  {
   "cell_type": "code",
   "execution_count": 14,
   "metadata": {},
   "outputs": [],
   "source": [
    "import tensorflow as tf\n",
    "from tensorflow import keras\n",
    "from sklearn.preprocessing import LabelEncoder, OneHotEncoder\n",
    "import numpy as np"
   ]
  },
  {
   "cell_type": "code",
   "execution_count": 15,
   "metadata": {},
   "outputs": [],
   "source": [
    "tf.random.set_seed(1234)"
   ]
  },
  {
   "cell_type": "markdown",
   "metadata": {},
   "source": [
    "We first use keras datasets in TF 2.x to load Fashion MNIST dataset."
   ]
  },
  {
   "cell_type": "code",
   "execution_count": 16,
   "metadata": {},
   "outputs": [],
   "source": [
    "fashion_mnist = keras.datasets.fashion_mnist\n",
    "(X_train_full_img, y_train_full), (X_test_img, y_test) = fashion_mnist.load_data() #Insert your code here"
   ]
  },
  {
   "cell_type": "markdown",
   "metadata": {},
   "source": [
    "The shape of X_train_full_img is $(60000, 28, 28 )$ and that of X_test_img is $(10000, 28, 28)$. We next convert them to matrices of vectors and store in X_train_full and X_test."
   ]
  },
  {
   "cell_type": "code",
   "execution_count": 17,
   "metadata": {},
   "outputs": [
    {
     "name": "stdout",
     "output_type": "stream",
     "text": [
      "(60000, 784) (60000,)\n",
      "(10000, 784) (10000,)\n"
     ]
    }
   ],
   "source": [
    "num_train = X_train_full_img.shape[0]\n",
    "num_test = X_test_img.shape[0]\n",
    "X_train_full =  X_train_full_img.reshape(num_train, -1)\n",
    "X_test =    X_test_img.reshape(num_test,-1) \n",
    "print(X_train_full.shape, y_train_full.shape)\n",
    "print(X_test.shape, y_test.shape)"
   ]
  },
  {
   "cell_type": "markdown",
   "metadata": {},
   "source": [
    "####  <span style=\"color:red\">**Question 2.2**</span>. Preprocess the dataset and split into training, validation, and testing datasets\n",
    "\n",
    "<div style=\"text-align: right\"> <span style=\"color:red\">[5 points]</span> </div>\n",
    "\n",
    "You need to write the code to address the following requirements:\n",
    "- Print out the dimensions of X_train_full and X_test\n",
    "- Use $10 \\%$ of X_train_full for validation and the rest of X_train_full for training. This splits X_train_full and y_train_full into X_train, y_train ($90 \\%$) and X_valid, y_valid ($10 \\%$).\n",
    "- Finally, scale the pixels of X_train, X_valid, and X_test to $[0,1]$) (i.e., $X = X/255.0$).\n",
    "\n",
    "You have now the separate training, validation, and testing sets for training your model.\n",
    "\n"
   ]
  },
  {
   "cell_type": "code",
   "execution_count": 18,
   "metadata": {},
   "outputs": [],
   "source": [
    "import math\n",
    "N = X_train_full.shape[0]\n",
    "i = math.floor(0.9*N)\n",
    "X_train, y_train = X_train_full[:i], y_train_full[:i]#Insert your code here\n",
    "X_valid, y_valid = X_train_full[i:], y_train_full[i:]#Insert your code here\n",
    "X_train, X_valid, X_test = X_train/255.0, X_valid/255.0, X_test/255.0#Insert your code here"
   ]
  },
  {
   "cell_type": "markdown",
   "metadata": {},
   "source": [
    "####  <span style=\"color:red\">**Question 2.3**</span>. Visualize some images in the training set with labels\n",
    "\n",
    "<div style=\"text-align: right\"> <span style=\"color:red\">[5 points]</span> </div>\n",
    "\n",
    "You are required to write the code to show **random** $36$ images in X_train_full_img (which is an array of images) with labels as in the following figure. Note that the class names of Fashion MNIST are as follows \n",
    "- \"1:T-shirt/top\", \"2:Trouser\", \"3:Pullover\", \"4:Dress\", \"5:Coat\", \"6:Sandal\", \"7:Shirt\", \"8:Sneaker\", \"9:Bag\", \"10:Ankle boot\"\n",
    "\n",
    "<img src=\"Figures/Fashion_MNIST.png\" width=\"450\" align=\"center\"/>"
   ]
  },
  {
   "cell_type": "code",
   "execution_count": 19,
   "metadata": {},
   "outputs": [],
   "source": [
    "import matplotlib.pyplot as plt\n",
    "%matplotlib inline"
   ]
  },
  {
   "cell_type": "code",
   "execution_count": 20,
   "metadata": {},
   "outputs": [
    {
     "data": {
      "text/plain": [
       "(60000, 28, 28)"
      ]
     },
     "execution_count": 20,
     "metadata": {},
     "output_type": "execute_result"
    }
   ],
   "source": [
    "X_train_full_img.shape"
   ]
  },
  {
   "cell_type": "code",
   "execution_count": 21,
   "metadata": {},
   "outputs": [
    {
     "data": {
      "image/png": "[encoded data removed]",
      "text/plain": [
       "<Figure size 900x900 with 36 Axes>"
      ]
     },
     "metadata": {},
     "output_type": "display_data"
    }
   ],
   "source": [
    "import random\n",
    "# YOU ARE REQUIRED TO INSERT YOUR CODES IN THIS CELL\n",
    "class_names = [\"1:T-shirt/top\",\n",
    "               \"2:Trouser\", \n",
    "               \"3:Pullover\", \n",
    "               \"4:Dress\",\n",
    "               \"5:Coat\",\n",
    "               \"6:Sandal\",\n",
    "               \"7:Shirt\", \n",
    "               \"8:Sneaker\", \n",
    "               \"9:Bag\", \n",
    "               \"10:Ankle boot\"]\n",
    "data = random.sample(range(0,len(X_train_full_img)), 36)\n",
    "picture = X_train_full_img[data]\n",
    "\n",
    "fig=plt.figure(figsize=(1.5*6,1.5*6))\n",
    "for i in range(36):\n",
    "    plt.subplot(6, 6, i+1)\n",
    "    plt.xticks([])\n",
    "    plt.yticks([])\n",
    "    plt.imshow(picture[i], cmap = \"binary\")\n",
    "    class_index = y_train_full[i]\n",
    "    plt.xlabel(class_names[class_index])\n",
    "    plt.grid(False)\n",
    "plt.show()"
   ]
  },
  {
   "cell_type": "markdown",
   "metadata": {},
   "source": [
    "####  <span style=\"color:red\">**Question 2.4**</span>. Write code for the feed-forward neural net using TF 2.x\n",
    "\n",
    "<div style=\"text-align: right\"> <span style=\"color:red\">[5 points]</span> </div>"
   ]
  },
  {
   "cell_type": "markdown",
   "metadata": {},
   "source": [
    "We now develop a feed-forward neural network with the architecture $784 \\rightarrow 20(ReLU) \\rightarrow 40(ReLU) \\rightarrow 10(softmax)$. You can choose your own way to implement your network and an optimizer of interest. You should train model in $20$ epochs and evaluate the trained model on the test set."
   ]
  },
  {
   "cell_type": "code",
   "execution_count": 22,
   "metadata": {},
   "outputs": [],
   "source": [
    "#Insert your code here and you can add more cells if necessary\n",
    "import tensorflow as tf\n",
    "from tensorflow.keras.layers import Dense, Flatten\n",
    "from tensorflow.keras.models import Sequential"
   ]
  },
  {
   "cell_type": "code",
   "execution_count": 23,
   "metadata": {},
   "outputs": [],
   "source": [
    "dnn_model = Sequential()\n",
    "dnn_model.add(Dense(units=20,  input_shape=(784,), activation='relu'))\n",
    "dnn_model.add(Dense(units=40, activation='relu'))\n",
    "dnn_model.add(Dense(units=10, activation='softmax'))"
   ]
  },
  {
   "cell_type": "code",
   "execution_count": 24,
   "metadata": {},
   "outputs": [
    {
     "name": "stdout",
     "output_type": "stream",
     "text": [
      "Model: \"sequential\"\n",
      "_________________________________________________________________\n",
      "Layer (type)                 Output Shape              Param #   \n",
      "=================================================================\n",
      "dense (Dense)                (None, 20)                15700     \n",
      "_________________________________________________________________\n",
      "dense_1 (Dense)              (None, 40)                840       \n",
      "_________________________________________________________________\n",
      "dense_2 (Dense)              (None, 10)                410       \n",
      "=================================================================\n",
      "Total params: 16,950\n",
      "Trainable params: 16,950\n",
      "Non-trainable params: 0\n",
      "_________________________________________________________________\n"
     ]
    }
   ],
   "source": [
    "dnn_model.build()  # computional graph\n",
    "dnn_model.summary()"
   ]
  },
  {
   "cell_type": "code",
   "execution_count": 25,
   "metadata": {
    "scrolled": false
   },
   "outputs": [
    {
     "name": "stdout",
     "output_type": "stream",
     "text": [
      "Epoch 1/20\n",
      "1688/1688 [==============================] - 1s 556us/step - loss: 0.5927 - accuracy: 0.7943 - val_loss: 0.4455 - val_accuracy: 0.8418\n",
      "Epoch 2/20\n",
      "1688/1688 [==============================] - 1s 497us/step - loss: 0.4237 - accuracy: 0.8500 - val_loss: 0.4079 - val_accuracy: 0.8565\n",
      "Epoch 3/20\n",
      "1688/1688 [==============================] - 1s 514us/step - loss: 0.3900 - accuracy: 0.8603 - val_loss: 0.3762 - val_accuracy: 0.8623\n",
      "Epoch 4/20\n",
      "1688/1688 [==============================] - 1s 467us/step - loss: 0.3710 - accuracy: 0.8675 - val_loss: 0.3793 - val_accuracy: 0.8620\n",
      "Epoch 5/20\n",
      "1688/1688 [==============================] - 1s 533us/step - loss: 0.3584 - accuracy: 0.8715 - val_loss: 0.3680 - val_accuracy: 0.8675\n",
      "Epoch 6/20\n",
      "1688/1688 [==============================] - 1s 579us/step - loss: 0.3442 - accuracy: 0.8770 - val_loss: 0.3754 - val_accuracy: 0.8642\n",
      "Epoch 7/20\n",
      "1688/1688 [==============================] - 1s 552us/step - loss: 0.3351 - accuracy: 0.8781 - val_loss: 0.3833 - val_accuracy: 0.8663\n",
      "Epoch 8/20\n",
      "1688/1688 [==============================] - 1s 536us/step - loss: 0.3268 - accuracy: 0.8822 - val_loss: 0.3704 - val_accuracy: 0.8675\n",
      "Epoch 9/20\n",
      "1688/1688 [==============================] - 1s 581us/step - loss: 0.3211 - accuracy: 0.8827 - val_loss: 0.3698 - val_accuracy: 0.8680\n",
      "Epoch 10/20\n",
      "1688/1688 [==============================] - 1s 565us/step - loss: 0.3168 - accuracy: 0.8836 - val_loss: 0.3625 - val_accuracy: 0.8697\n",
      "Epoch 11/20\n",
      "1688/1688 [==============================] - 1s 504us/step - loss: 0.3097 - accuracy: 0.8859 - val_loss: 0.4031 - val_accuracy: 0.8603\n",
      "Epoch 12/20\n",
      "1688/1688 [==============================] - 1s 482us/step - loss: 0.3066 - accuracy: 0.8869 - val_loss: 0.3700 - val_accuracy: 0.8702\n",
      "Epoch 13/20\n",
      "1688/1688 [==============================] - 1s 511us/step - loss: 0.3010 - accuracy: 0.8898 - val_loss: 0.3624 - val_accuracy: 0.8760\n",
      "Epoch 14/20\n",
      "1688/1688 [==============================] - 1s 507us/step - loss: 0.2962 - accuracy: 0.8913 - val_loss: 0.3561 - val_accuracy: 0.8748\n",
      "Epoch 15/20\n",
      "1688/1688 [==============================] - 1s 508us/step - loss: 0.2906 - accuracy: 0.8928 - val_loss: 0.3588 - val_accuracy: 0.8777\n",
      "Epoch 16/20\n",
      "1688/1688 [==============================] - 1s 504us/step - loss: 0.2884 - accuracy: 0.8930 - val_loss: 0.3809 - val_accuracy: 0.8695\n",
      "Epoch 17/20\n",
      "1688/1688 [==============================] - 1s 495us/step - loss: 0.2847 - accuracy: 0.8954 - val_loss: 0.3577 - val_accuracy: 0.8752\n",
      "Epoch 18/20\n",
      "1688/1688 [==============================] - 1s 492us/step - loss: 0.2831 - accuracy: 0.8964 - val_loss: 0.3727 - val_accuracy: 0.8725\n",
      "Epoch 19/20\n",
      "1688/1688 [==============================] - 1s 484us/step - loss: 0.2793 - accuracy: 0.8955 - val_loss: 0.3655 - val_accuracy: 0.8743\n",
      "Epoch 20/20\n",
      "1688/1688 [==============================] - 1s 473us/step - loss: 0.2758 - accuracy: 0.8987 - val_loss: 0.3689 - val_accuracy: 0.8767\n"
     ]
    }
   ],
   "source": [
    "dnn_model.compile(optimizer='adam', loss='sparse_categorical_crossentropy', metrics=['accuracy'])\n",
    "history = dnn_model.fit(x=X_train, y=y_train, batch_size=32, epochs=20, validation_data=(X_valid, y_valid))"
   ]
  },
  {
   "cell_type": "markdown",
   "metadata": {},
   "source": [
    "####  <span style=\"color:red\">**Question 2.5**</span>. Tuning hyper-parameters with grid search\n",
    "<div style=\"text-align: right\"> <span style=\"color:red\">[5 points]</span> </div>\n",
    "\n",
    "Assume that you need to tune the number of neurons on the first and second hidden layers $n_1 \\in \\{20, 40\\}$, $n_2 \\in \\{20, 40\\}$  and the used activation function  $act \\in \\{sigmoid, tanh, relu\\}$. The network has the architecture pattern $784 \\rightarrow n_1 (act) \\rightarrow n_2(act) \\rightarrow 10(softmax)$ where $n_1, n_2$, and $act$ are in their grides. Write the code to tune the hyper-parameters $n_1, n_2$, and $act$. Note that you can freely choose the optimizer and learning rate of interest for this task."
   ]
  },
  {
   "cell_type": "code",
   "execution_count": 27,
   "metadata": {
    "scrolled": false
   },
   "outputs": [
    {
     "name": "stdout",
     "output_type": "stream",
     "text": [
      "Epoch 1/20\n",
      "1688/1688 [==============================] - 1s 548us/step - loss: 1.0632 - accuracy: 0.7071 - val_loss: 0.6007 - val_accuracy: 0.7995\n",
      "Epoch 2/20\n",
      "1688/1688 [==============================] - 1s 504us/step - loss: 0.5187 - accuracy: 0.8236 - val_loss: 0.4644 - val_accuracy: 0.8397\n",
      "Epoch 3/20\n",
      "1688/1688 [==============================] - 1s 494us/step - loss: 0.4354 - accuracy: 0.8482 - val_loss: 0.4257 - val_accuracy: 0.8482\n",
      "Epoch 4/20\n",
      "1688/1688 [==============================] - 1s 491us/step - loss: 0.4004 - accuracy: 0.8579 - val_loss: 0.4129 - val_accuracy: 0.8500\n",
      "Epoch 5/20\n",
      "1688/1688 [==============================] - 1s 486us/step - loss: 0.3803 - accuracy: 0.8639 - val_loss: 0.3901 - val_accuracy: 0.8608\n",
      "Epoch 6/20\n",
      "1688/1688 [==============================] - 1s 482us/step - loss: 0.3655 - accuracy: 0.8699 - val_loss: 0.3771 - val_accuracy: 0.8615\n",
      "Epoch 7/20\n",
      "1688/1688 [==============================] - 1s 494us/step - loss: 0.3546 - accuracy: 0.8723 - val_loss: 0.3760 - val_accuracy: 0.8648\n",
      "Epoch 8/20\n",
      "1688/1688 [==============================] - 1s 552us/step - loss: 0.3442 - accuracy: 0.8773 - val_loss: 0.3654 - val_accuracy: 0.8702\n",
      "Epoch 9/20\n",
      "1688/1688 [==============================] - 1s 511us/step - loss: 0.3369 - accuracy: 0.8788 - val_loss: 0.3702 - val_accuracy: 0.8678\n",
      "Epoch 10/20\n",
      "1688/1688 [==============================] - 1s 512us/step - loss: 0.3287 - accuracy: 0.8828 - val_loss: 0.3620 - val_accuracy: 0.8722\n",
      "Epoch 11/20\n",
      "1688/1688 [==============================] - 1s 510us/step - loss: 0.3230 - accuracy: 0.8846 - val_loss: 0.3592 - val_accuracy: 0.8707\n",
      "Epoch 12/20\n",
      "1688/1688 [==============================] - 1s 500us/step - loss: 0.3169 - accuracy: 0.8855 - val_loss: 0.3522 - val_accuracy: 0.8742\n",
      "Epoch 13/20\n",
      "1688/1688 [==============================] - 1s 536us/step - loss: 0.3125 - accuracy: 0.8870 - val_loss: 0.3538 - val_accuracy: 0.8732\n",
      "Epoch 14/20\n",
      "1688/1688 [==============================] - 1s 554us/step - loss: 0.3077 - accuracy: 0.8901 - val_loss: 0.3531 - val_accuracy: 0.8755\n",
      "Epoch 15/20\n",
      "1688/1688 [==============================] - 1s 542us/step - loss: 0.3021 - accuracy: 0.8909 - val_loss: 0.3513 - val_accuracy: 0.8723\n",
      "Epoch 16/20\n",
      "1688/1688 [==============================] - 1s 510us/step - loss: 0.2990 - accuracy: 0.8916 - val_loss: 0.3602 - val_accuracy: 0.8685\n",
      "Epoch 17/20\n",
      "1688/1688 [==============================] - 1s 539us/step - loss: 0.2955 - accuracy: 0.8931 - val_loss: 0.3552 - val_accuracy: 0.8727\n",
      "Epoch 18/20\n",
      "1688/1688 [==============================] - 1s 530us/step - loss: 0.2913 - accuracy: 0.8944 - val_loss: 0.3529 - val_accuracy: 0.8742\n",
      "Epoch 19/20\n",
      "1688/1688 [==============================] - 1s 505us/step - loss: 0.2892 - accuracy: 0.8955 - val_loss: 0.3474 - val_accuracy: 0.8768\n",
      "Epoch 20/20\n",
      "1688/1688 [==============================] - 1s 503us/step - loss: 0.2846 - accuracy: 0.8961 - val_loss: 0.3519 - val_accuracy: 0.8750\n",
      "  1/313 [..............................] - ETA: 0s - loss: 0.2159 - accuracy: 0.9375WARNING:tensorflow:Callbacks method `on_test_batch_end` is slow compared to the batch time (batch time: 0.0000s vs `on_test_batch_end` time: 0.0010s). Check your callbacks.\n",
      "313/313 [==============================] - 0s 295us/step - loss: 0.3746 - accuracy: 0.8687\n",
      "Epoch 1/20\n",
      "1688/1688 [==============================] - 1s 553us/step - loss: 0.9580 - accuracy: 0.7093 - val_loss: 0.5401 - val_accuracy: 0.8118\n",
      "Epoch 2/20\n",
      "1688/1688 [==============================] - 1s 507us/step - loss: 0.4785 - accuracy: 0.8333 - val_loss: 0.4368 - val_accuracy: 0.8420\n",
      "Epoch 3/20\n",
      "1688/1688 [==============================] - 1s 501us/step - loss: 0.4189 - accuracy: 0.8509 - val_loss: 0.4091 - val_accuracy: 0.8500\n",
      "Epoch 4/20\n",
      "1688/1688 [==============================] - 1s 501us/step - loss: 0.3916 - accuracy: 0.8604 - val_loss: 0.4018 - val_accuracy: 0.8537\n",
      "Epoch 5/20\n",
      "1688/1688 [==============================] - 1s 552us/step - loss: 0.3743 - accuracy: 0.8659 - val_loss: 0.3836 - val_accuracy: 0.8612\n",
      "Epoch 6/20\n",
      "1688/1688 [==============================] - 1s 530us/step - loss: 0.3605 - accuracy: 0.8718 - val_loss: 0.3667 - val_accuracy: 0.8647\n",
      "Epoch 7/20\n",
      "1688/1688 [==============================] - 1s 503us/step - loss: 0.3504 - accuracy: 0.8756 - val_loss: 0.3702 - val_accuracy: 0.8653\n",
      "Epoch 8/20\n",
      "1688/1688 [==============================] - 1s 482us/step - loss: 0.3413 - accuracy: 0.8787 - val_loss: 0.3687 - val_accuracy: 0.8673\n",
      "Epoch 9/20\n",
      "1688/1688 [==============================] - 1s 500us/step - loss: 0.3349 - accuracy: 0.8801 - val_loss: 0.3654 - val_accuracy: 0.8660\n",
      "Epoch 10/20\n",
      "1688/1688 [==============================] - 1s 519us/step - loss: 0.3281 - accuracy: 0.8834 - val_loss: 0.3559 - val_accuracy: 0.8707\n",
      "Epoch 11/20\n",
      "1688/1688 [==============================] - 1s 486us/step - loss: 0.3220 - accuracy: 0.8854 - val_loss: 0.3710 - val_accuracy: 0.8637\n",
      "Epoch 12/20\n",
      "1688/1688 [==============================] - 1s 528us/step - loss: 0.3169 - accuracy: 0.8864 - val_loss: 0.3502 - val_accuracy: 0.8737\n",
      "Epoch 13/20\n",
      "1688/1688 [==============================] - 1s 523us/step - loss: 0.3131 - accuracy: 0.8869 - val_loss: 0.3559 - val_accuracy: 0.8688\n",
      "Epoch 14/20\n",
      "1688/1688 [==============================] - 1s 523us/step - loss: 0.3082 - accuracy: 0.8887 - val_loss: 0.3569 - val_accuracy: 0.8700\n",
      "Epoch 15/20\n",
      "1688/1688 [==============================] - 1s 505us/step - loss: 0.3037 - accuracy: 0.8907 - val_loss: 0.3735 - val_accuracy: 0.8648\n",
      "Epoch 16/20\n",
      "1688/1688 [==============================] - 1s 509us/step - loss: 0.3008 - accuracy: 0.8930 - val_loss: 0.3671 - val_accuracy: 0.8675\n",
      "Epoch 17/20\n",
      "1688/1688 [==============================] - 1s 476us/step - loss: 0.2970 - accuracy: 0.8928 - val_loss: 0.3575 - val_accuracy: 0.8708\n",
      "Epoch 18/20\n",
      "1688/1688 [==============================] - 1s 490us/step - loss: 0.2934 - accuracy: 0.8945 - val_loss: 0.3651 - val_accuracy: 0.8705\n",
      "Epoch 19/20\n",
      "1688/1688 [==============================] - 1s 501us/step - loss: 0.2914 - accuracy: 0.8947 - val_loss: 0.3557 - val_accuracy: 0.8693\n",
      "Epoch 20/20\n",
      "1688/1688 [==============================] - 1s 466us/step - loss: 0.2873 - accuracy: 0.8954 - val_loss: 0.3610 - val_accuracy: 0.8728\n",
      "313/313 [==============================] - 0s 311us/step - loss: 0.3834 - accuracy: 0.8657\n",
      "Epoch 1/20\n",
      "1688/1688 [==============================] - 1s 510us/step - loss: 0.9355 - accuracy: 0.7183 - val_loss: 0.5440 - val_accuracy: 0.8197\n",
      "Epoch 2/20\n",
      "1688/1688 [==============================] - 1s 470us/step - loss: 0.4694 - accuracy: 0.8387 - val_loss: 0.4223 - val_accuracy: 0.8497\n",
      "Epoch 3/20\n",
      "1688/1688 [==============================] - 1s 503us/step - loss: 0.4004 - accuracy: 0.8574 - val_loss: 0.3921 - val_accuracy: 0.8577\n",
      "Epoch 4/20\n",
      "1688/1688 [==============================] - 1s 530us/step - loss: 0.3696 - accuracy: 0.8672 - val_loss: 0.3833 - val_accuracy: 0.8597\n",
      "Epoch 5/20\n",
      "1688/1688 [==============================] - 1s 468us/step - loss: 0.3494 - accuracy: 0.8750 - val_loss: 0.3597 - val_accuracy: 0.8673\n",
      "Epoch 6/20\n",
      "1688/1688 [==============================] - 1s 470us/step - loss: 0.3334 - accuracy: 0.8808 - val_loss: 0.3531 - val_accuracy: 0.8697\n",
      "Epoch 7/20\n",
      "1688/1688 [==============================] - 1s 472us/step - loss: 0.3219 - accuracy: 0.8840 - val_loss: 0.3403 - val_accuracy: 0.8755\n",
      "Epoch 8/20\n",
      "1688/1688 [==============================] - 1s 477us/step - loss: 0.3102 - accuracy: 0.8879 - val_loss: 0.3423 - val_accuracy: 0.8805\n",
      "Epoch 9/20\n",
      "1688/1688 [==============================] - 1s 466us/step - loss: 0.3026 - accuracy: 0.8903 - val_loss: 0.3370 - val_accuracy: 0.8785\n",
      "Epoch 10/20\n",
      "1688/1688 [==============================] - 1s 467us/step - loss: 0.2943 - accuracy: 0.8937 - val_loss: 0.3354 - val_accuracy: 0.8795\n",
      "Epoch 11/20\n",
      "1688/1688 [==============================] - 1s 469us/step - loss: 0.2861 - accuracy: 0.8974 - val_loss: 0.3322 - val_accuracy: 0.8785\n",
      "Epoch 12/20\n",
      "1688/1688 [==============================] - 1s 466us/step - loss: 0.2803 - accuracy: 0.8988 - val_loss: 0.3220 - val_accuracy: 0.8835\n",
      "Epoch 13/20\n",
      "1688/1688 [==============================] - 1s 513us/step - loss: 0.2746 - accuracy: 0.9009 - val_loss: 0.3232 - val_accuracy: 0.8845\n"
     ]
    },
    {
     "name": "stdout",
     "output_type": "stream",
     "text": [
      "Epoch 14/20\n",
      "1688/1688 [==============================] - 1s 535us/step - loss: 0.2694 - accuracy: 0.9021 - val_loss: 0.3265 - val_accuracy: 0.8833\n",
      "Epoch 15/20\n",
      "1688/1688 [==============================] - 1s 521us/step - loss: 0.2635 - accuracy: 0.9044 - val_loss: 0.3232 - val_accuracy: 0.8843\n",
      "Epoch 16/20\n",
      "1688/1688 [==============================] - 1s 513us/step - loss: 0.2598 - accuracy: 0.9061 - val_loss: 0.3291 - val_accuracy: 0.8822\n",
      "Epoch 17/20\n",
      "1688/1688 [==============================] - 1s 530us/step - loss: 0.2553 - accuracy: 0.9074 - val_loss: 0.3252 - val_accuracy: 0.8842\n",
      "Epoch 18/20\n",
      "1688/1688 [==============================] - 1s 528us/step - loss: 0.2507 - accuracy: 0.9095 - val_loss: 0.3249 - val_accuracy: 0.8828\n",
      "Epoch 19/20\n",
      "1688/1688 [==============================] - 1s 530us/step - loss: 0.2471 - accuracy: 0.9097 - val_loss: 0.3240 - val_accuracy: 0.8845\n",
      "Epoch 20/20\n",
      "1688/1688 [==============================] - 1s 522us/step - loss: 0.2422 - accuracy: 0.9118 - val_loss: 0.3296 - val_accuracy: 0.8842\n",
      "313/313 [==============================] - 0s 324us/step - loss: 0.3527 - accuracy: 0.8760\n",
      "Epoch 1/20\n",
      "1632/1688 [============================>.] - ETA: 0s - loss: 0.8307 - accuracy: 0.7417WARNING:tensorflow:Callbacks method `on_test_batch_end` is slow compared to the batch time (batch time: 0.0000s vs `on_test_batch_end` time: 0.0010s). Check your callbacks.\n",
      "1688/1688 [==============================] - 1s 580us/step - loss: 0.8195 - accuracy: 0.7447 - val_loss: 0.4853 - val_accuracy: 0.8277\n",
      "Epoch 2/20\n",
      "1688/1688 [==============================] - 1s 566us/step - loss: 0.4402 - accuracy: 0.8447 - val_loss: 0.4057 - val_accuracy: 0.8528\n",
      "Epoch 3/20\n",
      "1688/1688 [==============================] - 1s 491us/step - loss: 0.3882 - accuracy: 0.8613 - val_loss: 0.3808 - val_accuracy: 0.8597\n",
      "Epoch 4/20\n",
      "1688/1688 [==============================] - 1s 473us/step - loss: 0.3613 - accuracy: 0.8698 - val_loss: 0.3705 - val_accuracy: 0.8655\n",
      "Epoch 5/20\n",
      "1688/1688 [==============================] - 1s 493us/step - loss: 0.3428 - accuracy: 0.8771 - val_loss: 0.3550 - val_accuracy: 0.8703\n",
      "Epoch 6/20\n",
      "1688/1688 [==============================] - 1s 505us/step - loss: 0.3284 - accuracy: 0.8819 - val_loss: 0.3420 - val_accuracy: 0.8748\n",
      "Epoch 7/20\n",
      "1688/1688 [==============================] - 1s 579us/step - loss: 0.3167 - accuracy: 0.8850 - val_loss: 0.3440 - val_accuracy: 0.8743\n",
      "Epoch 8/20\n",
      "1688/1688 [==============================] - 1s 593us/step - loss: 0.3052 - accuracy: 0.8891 - val_loss: 0.3409 - val_accuracy: 0.8753\n",
      "Epoch 9/20\n",
      "1688/1688 [==============================] - 1s 605us/step - loss: 0.2982 - accuracy: 0.8908 - val_loss: 0.3341 - val_accuracy: 0.8780\n",
      "Epoch 10/20\n",
      "1688/1688 [==============================] - 1s 610us/step - loss: 0.2892 - accuracy: 0.8942 - val_loss: 0.3341 - val_accuracy: 0.8757\n",
      "Epoch 11/20\n",
      "1688/1688 [==============================] - 1s 646us/step - loss: 0.2812 - accuracy: 0.8979 - val_loss: 0.3364 - val_accuracy: 0.8788\n",
      "Epoch 12/20\n",
      "1688/1688 [==============================] - 1s 598us/step - loss: 0.2741 - accuracy: 0.9000 - val_loss: 0.3284 - val_accuracy: 0.8777\n",
      "Epoch 13/20\n",
      "1688/1688 [==============================] - 1s 593us/step - loss: 0.2681 - accuracy: 0.9019 - val_loss: 0.3337 - val_accuracy: 0.8780\n",
      "Epoch 14/20\n",
      "1688/1688 [==============================] - 1s 592us/step - loss: 0.2630 - accuracy: 0.9040 - val_loss: 0.3308 - val_accuracy: 0.8820\n",
      "Epoch 15/20\n",
      "1688/1688 [==============================] - 1s 590us/step - loss: 0.2574 - accuracy: 0.9067 - val_loss: 0.3359 - val_accuracy: 0.8802\n",
      "Epoch 16/20\n",
      "1688/1688 [==============================] - 1s 589us/step - loss: 0.2525 - accuracy: 0.9073 - val_loss: 0.3386 - val_accuracy: 0.8788\n",
      "Epoch 17/20\n",
      "1688/1688 [==============================] - 1s 589us/step - loss: 0.2474 - accuracy: 0.9095 - val_loss: 0.3262 - val_accuracy: 0.8822\n",
      "Epoch 18/20\n",
      "1688/1688 [==============================] - 1s 659us/step - loss: 0.2431 - accuracy: 0.9109 - val_loss: 0.3269 - val_accuracy: 0.8822\n",
      "Epoch 19/20\n",
      "1688/1688 [==============================] - 1s 650us/step - loss: 0.2391 - accuracy: 0.9112 - val_loss: 0.3260 - val_accuracy: 0.8828\n",
      "Epoch 20/20\n",
      "1688/1688 [==============================] - 1s 681us/step - loss: 0.2338 - accuracy: 0.9146 - val_loss: 0.3364 - val_accuracy: 0.8850\n",
      "313/313 [==============================] - 0s 394us/step - loss: 0.3531 - accuracy: 0.8778\n",
      "Epoch 1/20\n",
      "1688/1688 [==============================] - 1s 631us/step - loss: 0.5859 - accuracy: 0.8050 - val_loss: 0.4273 - val_accuracy: 0.8465\n",
      "Epoch 2/20\n",
      "1688/1688 [==============================] - 1s 571us/step - loss: 0.4046 - accuracy: 0.8562 - val_loss: 0.4112 - val_accuracy: 0.8555\n",
      "Epoch 3/20\n",
      "1688/1688 [==============================] - 1s 558us/step - loss: 0.3728 - accuracy: 0.8665 - val_loss: 0.3796 - val_accuracy: 0.8622\n",
      "Epoch 4/20\n",
      "1688/1688 [==============================] - 1s 567us/step - loss: 0.3539 - accuracy: 0.8738 - val_loss: 0.3672 - val_accuracy: 0.8685\n",
      "Epoch 5/20\n",
      "1688/1688 [==============================] - 1s 568us/step - loss: 0.3416 - accuracy: 0.8769 - val_loss: 0.3646 - val_accuracy: 0.8685\n",
      "Epoch 6/20\n",
      "1688/1688 [==============================] - 1s 574us/step - loss: 0.3296 - accuracy: 0.8803 - val_loss: 0.3590 - val_accuracy: 0.8672\n",
      "Epoch 7/20\n",
      "1688/1688 [==============================] - 1s 553us/step - loss: 0.3197 - accuracy: 0.8846 - val_loss: 0.3650 - val_accuracy: 0.8703\n",
      "Epoch 8/20\n",
      "1688/1688 [==============================] - 1s 565us/step - loss: 0.3136 - accuracy: 0.8880 - val_loss: 0.3580 - val_accuracy: 0.8732\n",
      "Epoch 9/20\n",
      "1688/1688 [==============================] - 1s 616us/step - loss: 0.3064 - accuracy: 0.8901 - val_loss: 0.3600 - val_accuracy: 0.8708\n",
      "Epoch 10/20\n",
      "1688/1688 [==============================] - 1s 619us/step - loss: 0.3030 - accuracy: 0.8901 - val_loss: 0.3583 - val_accuracy: 0.8683\n",
      "Epoch 11/20\n",
      "1688/1688 [==============================] - 1s 607us/step - loss: 0.2954 - accuracy: 0.8937 - val_loss: 0.3733 - val_accuracy: 0.8642\n",
      "Epoch 12/20\n",
      "1688/1688 [==============================] - 1s 669us/step - loss: 0.2912 - accuracy: 0.8942 - val_loss: 0.3676 - val_accuracy: 0.8678\n",
      "Epoch 13/20\n",
      "1688/1688 [==============================] - 1s 663us/step - loss: 0.2877 - accuracy: 0.8959 - val_loss: 0.3673 - val_accuracy: 0.8685\n",
      "Epoch 14/20\n",
      "1688/1688 [==============================] - 1s 644us/step - loss: 0.2836 - accuracy: 0.8970 - val_loss: 0.3726 - val_accuracy: 0.8695\n",
      "Epoch 15/20\n",
      "1688/1688 [==============================] - 1s 601us/step - loss: 0.2798 - accuracy: 0.8989 - val_loss: 0.3679 - val_accuracy: 0.8697\n",
      "Epoch 16/20\n",
      "1688/1688 [==============================] - 1s 611us/step - loss: 0.2753 - accuracy: 0.8988 - val_loss: 0.3666 - val_accuracy: 0.8660\n",
      "Epoch 17/20\n",
      "1688/1688 [==============================] - 1s 597us/step - loss: 0.2711 - accuracy: 0.9014 - val_loss: 0.3697 - val_accuracy: 0.8728\n",
      "Epoch 18/20\n",
      "1688/1688 [==============================] - 1s 600us/step - loss: 0.2686 - accuracy: 0.9023 - val_loss: 0.3669 - val_accuracy: 0.8727\n",
      "Epoch 19/20\n",
      "1688/1688 [==============================] - 1s 587us/step - loss: 0.2671 - accuracy: 0.9029 - val_loss: 0.3627 - val_accuracy: 0.8720\n",
      "Epoch 20/20\n",
      "1688/1688 [==============================] - 1s 570us/step - loss: 0.2619 - accuracy: 0.9056 - val_loss: 0.3727 - val_accuracy: 0.8732\n",
      "313/313 [==============================] - 0s 375us/step - loss: 0.3861 - accuracy: 0.8705\n",
      "Epoch 1/20\n",
      "1688/1688 [==============================] - 1s 724us/step - loss: 0.5530 - accuracy: 0.8107 - val_loss: 0.4122 - val_accuracy: 0.8542\n",
      "Epoch 2/20\n",
      "1688/1688 [==============================] - 1s 740us/step - loss: 0.4025 - accuracy: 0.8561 - val_loss: 0.3953 - val_accuracy: 0.8582\n",
      "Epoch 3/20\n",
      "1688/1688 [==============================] - 1s 554us/step - loss: 0.3741 - accuracy: 0.8666 - val_loss: 0.3599 - val_accuracy: 0.8707\n",
      "Epoch 4/20\n",
      "1688/1688 [==============================] - 1s 562us/step - loss: 0.3552 - accuracy: 0.8722 - val_loss: 0.3627 - val_accuracy: 0.8662\n",
      "Epoch 5/20\n",
      "1688/1688 [==============================] - 1s 558us/step - loss: 0.3413 - accuracy: 0.8764 - val_loss: 0.3598 - val_accuracy: 0.8710\n",
      "Epoch 6/20\n",
      "1688/1688 [==============================] - 1s 563us/step - loss: 0.3275 - accuracy: 0.8821 - val_loss: 0.3580 - val_accuracy: 0.8693\n",
      "Epoch 7/20\n",
      "1688/1688 [==============================] - 1s 589us/step - loss: 0.3183 - accuracy: 0.8834 - val_loss: 0.3540 - val_accuracy: 0.8727\n",
      "Epoch 8/20\n",
      "1688/1688 [==============================] - 1s 678us/step - loss: 0.3099 - accuracy: 0.8880 - val_loss: 0.3530 - val_accuracy: 0.8753\n",
      "Epoch 9/20\n",
      "1688/1688 [==============================] - 1s 622us/step - loss: 0.3040 - accuracy: 0.8893 - val_loss: 0.3591 - val_accuracy: 0.8698\n",
      "Epoch 10/20\n",
      "1688/1688 [==============================] - 1s 557us/step - loss: 0.2970 - accuracy: 0.8931 - val_loss: 0.3344 - val_accuracy: 0.8765\n",
      "Epoch 11/20\n",
      "1688/1688 [==============================] - 1s 595us/step - loss: 0.2904 - accuracy: 0.8941 - val_loss: 0.3613 - val_accuracy: 0.8692\n",
      "Epoch 12/20\n",
      "1688/1688 [==============================] - 1s 568us/step - loss: 0.2854 - accuracy: 0.8962 - val_loss: 0.3375 - val_accuracy: 0.8768\n",
      "Epoch 13/20\n",
      "1688/1688 [==============================] - 1s 568us/step - loss: 0.2812 - accuracy: 0.8969 - val_loss: 0.3365 - val_accuracy: 0.8810\n",
      "Epoch 14/20\n",
      "1688/1688 [==============================] - 1s 566us/step - loss: 0.2765 - accuracy: 0.8987 - val_loss: 0.3425 - val_accuracy: 0.8770\n",
      "Epoch 15/20\n",
      "1688/1688 [==============================] - 1s 583us/step - loss: 0.2710 - accuracy: 0.8994 - val_loss: 0.3406 - val_accuracy: 0.8787\n",
      "Epoch 16/20\n",
      "1688/1688 [==============================] - 1s 586us/step - loss: 0.2685 - accuracy: 0.9016 - val_loss: 0.3533 - val_accuracy: 0.8738\n",
      "Epoch 17/20\n",
      "1688/1688 [==============================] - 1s 575us/step - loss: 0.2641 - accuracy: 0.9033 - val_loss: 0.3386 - val_accuracy: 0.8808\n",
      "Epoch 18/20\n",
      "1688/1688 [==============================] - 1s 601us/step - loss: 0.2626 - accuracy: 0.9035 - val_loss: 0.3550 - val_accuracy: 0.8738\n",
      "Epoch 19/20\n",
      "1688/1688 [==============================] - 1s 613us/step - loss: 0.2582 - accuracy: 0.9046 - val_loss: 0.3483 - val_accuracy: 0.8757\n",
      "Epoch 20/20\n",
      "1688/1688 [==============================] - 1s 599us/step - loss: 0.2535 - accuracy: 0.9064 - val_loss: 0.3395 - val_accuracy: 0.8813\n",
      "313/313 [==============================] - 0s 362us/step - loss: 0.3725 - accuracy: 0.8685\n",
      "Epoch 1/20\n",
      "1688/1688 [==============================] - 1s 684us/step - loss: 0.5513 - accuracy: 0.8145 - val_loss: 0.4198 - val_accuracy: 0.8477\n",
      "Epoch 2/20\n",
      "1688/1688 [==============================] - 1s 618us/step - loss: 0.3914 - accuracy: 0.8595 - val_loss: 0.3743 - val_accuracy: 0.8625\n",
      "Epoch 3/20\n",
      "1688/1688 [==============================] - 1s 636us/step - loss: 0.3584 - accuracy: 0.8713 - val_loss: 0.3557 - val_accuracy: 0.8705\n",
      "Epoch 4/20\n",
      "1688/1688 [==============================] - 1s 649us/step - loss: 0.3364 - accuracy: 0.8772 - val_loss: 0.3550 - val_accuracy: 0.8690\n",
      "Epoch 5/20\n",
      "1688/1688 [==============================] - 1s 575us/step - loss: 0.3219 - accuracy: 0.8830 - val_loss: 0.3440 - val_accuracy: 0.8742\n",
      "Epoch 6/20\n",
      "1688/1688 [==============================] - 1s 587us/step - loss: 0.3074 - accuracy: 0.8874 - val_loss: 0.3518 - val_accuracy: 0.8750\n",
      "Epoch 7/20\n",
      "1688/1688 [==============================] - 1s 605us/step - loss: 0.2965 - accuracy: 0.8916 - val_loss: 0.3501 - val_accuracy: 0.8770\n",
      "Epoch 8/20\n",
      "1688/1688 [==============================] - 1s 476us/step - loss: 0.2859 - accuracy: 0.8959 - val_loss: 0.3465 - val_accuracy: 0.8782\n",
      "Epoch 9/20\n",
      "1688/1688 [==============================] - 1s 479us/step - loss: 0.2791 - accuracy: 0.8979 - val_loss: 0.3406 - val_accuracy: 0.8783\n",
      "Epoch 10/20\n",
      "1688/1688 [==============================] - 1s 479us/step - loss: 0.2710 - accuracy: 0.9003 - val_loss: 0.3450 - val_accuracy: 0.8792\n",
      "Epoch 11/20\n",
      "1688/1688 [==============================] - 1s 495us/step - loss: 0.2632 - accuracy: 0.9041 - val_loss: 0.3596 - val_accuracy: 0.8738\n",
      "Epoch 12/20\n",
      "1688/1688 [==============================] - 1s 471us/step - loss: 0.2582 - accuracy: 0.9051 - val_loss: 0.3501 - val_accuracy: 0.8735\n",
      "Epoch 13/20\n",
      "1688/1688 [==============================] - 1s 469us/step - loss: 0.2530 - accuracy: 0.9075 - val_loss: 0.3465 - val_accuracy: 0.8798\n",
      "Epoch 14/20\n",
      "1688/1688 [==============================] - 1s 513us/step - loss: 0.2465 - accuracy: 0.9088 - val_loss: 0.3470 - val_accuracy: 0.8795\n",
      "Epoch 15/20\n",
      "1688/1688 [==============================] - 1s 478us/step - loss: 0.2410 - accuracy: 0.9117 - val_loss: 0.3377 - val_accuracy: 0.8815\n",
      "Epoch 16/20\n",
      "1688/1688 [==============================] - 1s 489us/step - loss: 0.2378 - accuracy: 0.9130 - val_loss: 0.3432 - val_accuracy: 0.8857\n",
      "Epoch 17/20\n",
      "1688/1688 [==============================] - 1s 496us/step - loss: 0.2328 - accuracy: 0.9144 - val_loss: 0.3476 - val_accuracy: 0.8820\n",
      "Epoch 18/20\n",
      "1688/1688 [==============================] - 1s 453us/step - loss: 0.2307 - accuracy: 0.9152 - val_loss: 0.3500 - val_accuracy: 0.8778\n",
      "Epoch 19/20\n",
      "1688/1688 [==============================] - 1s 470us/step - loss: 0.2256 - accuracy: 0.9160 - val_loss: 0.3679 - val_accuracy: 0.8788\n",
      "Epoch 20/20\n",
      "1688/1688 [==============================] - 1s 459us/step - loss: 0.2236 - accuracy: 0.9186 - val_loss: 0.3488 - val_accuracy: 0.8810\n",
      "313/313 [==============================] - 0s 327us/step - loss: 0.3629 - accuracy: 0.8766\n",
      "Epoch 1/20\n",
      "1688/1688 [==============================] - 1s 609us/step - loss: 0.5219 - accuracy: 0.8163 - val_loss: 0.3980 - val_accuracy: 0.8558\n",
      "Epoch 2/20\n",
      "1688/1688 [==============================] - 1s 491us/step - loss: 0.3795 - accuracy: 0.8618 - val_loss: 0.3771 - val_accuracy: 0.8653\n",
      "Epoch 3/20\n",
      "1688/1688 [==============================] - 1s 488us/step - loss: 0.3472 - accuracy: 0.8739 - val_loss: 0.3499 - val_accuracy: 0.8720\n",
      "Epoch 4/20\n",
      "1688/1688 [==============================] - 1s 468us/step - loss: 0.3255 - accuracy: 0.8803 - val_loss: 0.3491 - val_accuracy: 0.8718\n",
      "Epoch 5/20\n",
      "1688/1688 [==============================] - 1s 535us/step - loss: 0.3098 - accuracy: 0.8859 - val_loss: 0.3468 - val_accuracy: 0.8737\n",
      "Epoch 6/20\n",
      "1688/1688 [==============================] - 1s 507us/step - loss: 0.2963 - accuracy: 0.8905 - val_loss: 0.3341 - val_accuracy: 0.8765\n",
      "Epoch 7/20\n",
      "1688/1688 [==============================] - 1s 459us/step - loss: 0.2837 - accuracy: 0.8951 - val_loss: 0.3347 - val_accuracy: 0.8793\n",
      "Epoch 8/20\n",
      "1688/1688 [==============================] - 1s 465us/step - loss: 0.2768 - accuracy: 0.8986 - val_loss: 0.3390 - val_accuracy: 0.8810\n",
      "Epoch 9/20\n",
      "1688/1688 [==============================] - 1s 482us/step - loss: 0.2681 - accuracy: 0.9008 - val_loss: 0.3440 - val_accuracy: 0.8768\n",
      "Epoch 10/20\n",
      "1688/1688 [==============================] - 1s 513us/step - loss: 0.2615 - accuracy: 0.9041 - val_loss: 0.3383 - val_accuracy: 0.8795\n",
      "Epoch 11/20\n",
      "1688/1688 [==============================] - 1s 478us/step - loss: 0.2531 - accuracy: 0.9053 - val_loss: 0.3408 - val_accuracy: 0.8767\n",
      "Epoch 12/20\n",
      "1688/1688 [==============================] - 1s 488us/step - loss: 0.2494 - accuracy: 0.9083 - val_loss: 0.3385 - val_accuracy: 0.8767\n",
      "Epoch 13/20\n",
      "1688/1688 [==============================] - 1s 486us/step - loss: 0.2431 - accuracy: 0.9097 - val_loss: 0.3272 - val_accuracy: 0.8877\n",
      "Epoch 14/20\n",
      "1688/1688 [==============================] - 1s 459us/step - loss: 0.2372 - accuracy: 0.9111 - val_loss: 0.3413 - val_accuracy: 0.8823\n",
      "Epoch 15/20\n",
      "1688/1688 [==============================] - 1s 460us/step - loss: 0.2320 - accuracy: 0.9135 - val_loss: 0.3474 - val_accuracy: 0.8790\n",
      "Epoch 16/20\n",
      "1688/1688 [==============================] - 1s 488us/step - loss: 0.2306 - accuracy: 0.9146 - val_loss: 0.3449 - val_accuracy: 0.8793\n",
      "Epoch 17/20\n",
      "1688/1688 [==============================] - 1s 456us/step - loss: 0.2240 - accuracy: 0.9171 - val_loss: 0.3581 - val_accuracy: 0.8773\n",
      "Epoch 18/20\n",
      "1688/1688 [==============================] - 1s 469us/step - loss: 0.2208 - accuracy: 0.9183 - val_loss: 0.3373 - val_accuracy: 0.8820\n",
      "Epoch 19/20\n",
      "1688/1688 [==============================] - 1s 457us/step - loss: 0.2168 - accuracy: 0.9206 - val_loss: 0.3440 - val_accuracy: 0.8820\n",
      "Epoch 20/20\n",
      "1688/1688 [==============================] - 1s 536us/step - loss: 0.2120 - accuracy: 0.9215 - val_loss: 0.3425 - val_accuracy: 0.8857\n"
     ]
    },
    {
     "name": "stdout",
     "output_type": "stream",
     "text": [
      "313/313 [==============================] - 0s 368us/step - loss: 0.3587 - accuracy: 0.8777\n",
      "Epoch 1/20\n",
      "1688/1688 [==============================] - 1s 575us/step - loss: 0.6086 - accuracy: 0.7855 - val_loss: 0.4457 - val_accuracy: 0.8430\n",
      "Epoch 2/20\n",
      "1688/1688 [==============================] - 1s 478us/step - loss: 0.4308 - accuracy: 0.8472 - val_loss: 0.4149 - val_accuracy: 0.8512\n",
      "Epoch 3/20\n",
      "1688/1688 [==============================] - 1s 487us/step - loss: 0.3977 - accuracy: 0.8571 - val_loss: 0.3980 - val_accuracy: 0.8562\n",
      "Epoch 4/20\n",
      "1688/1688 [==============================] - 1s 477us/step - loss: 0.3758 - accuracy: 0.8630 - val_loss: 0.3854 - val_accuracy: 0.8600\n",
      "Epoch 5/20\n",
      "1688/1688 [==============================] - 1s 454us/step - loss: 0.3617 - accuracy: 0.8695 - val_loss: 0.3924 - val_accuracy: 0.8572\n",
      "Epoch 6/20\n",
      "1688/1688 [==============================] - 1s 492us/step - loss: 0.3482 - accuracy: 0.8744 - val_loss: 0.3845 - val_accuracy: 0.8627\n",
      "Epoch 7/20\n",
      "1688/1688 [==============================] - 1s 478us/step - loss: 0.3386 - accuracy: 0.8762 - val_loss: 0.3736 - val_accuracy: 0.8688\n",
      "Epoch 8/20\n",
      "1688/1688 [==============================] - 1s 467us/step - loss: 0.3285 - accuracy: 0.8796 - val_loss: 0.3663 - val_accuracy: 0.8708\n",
      "Epoch 9/20\n",
      "1688/1688 [==============================] - 1s 456us/step - loss: 0.3214 - accuracy: 0.8815 - val_loss: 0.3791 - val_accuracy: 0.8687\n",
      "Epoch 10/20\n",
      "1688/1688 [==============================] - 1s 466us/step - loss: 0.3147 - accuracy: 0.8846 - val_loss: 0.3596 - val_accuracy: 0.8725\n",
      "Epoch 11/20\n",
      "1688/1688 [==============================] - 1s 457us/step - loss: 0.3076 - accuracy: 0.8858 - val_loss: 0.4195 - val_accuracy: 0.8527\n",
      "Epoch 12/20\n",
      "1688/1688 [==============================] - 1s 460us/step - loss: 0.3044 - accuracy: 0.8877 - val_loss: 0.3635 - val_accuracy: 0.8700\n",
      "Epoch 13/20\n",
      "1688/1688 [==============================] - 1s 459us/step - loss: 0.2991 - accuracy: 0.8895 - val_loss: 0.3669 - val_accuracy: 0.8715\n",
      "Epoch 14/20\n",
      "1688/1688 [==============================] - 1s 460us/step - loss: 0.2944 - accuracy: 0.8910 - val_loss: 0.3538 - val_accuracy: 0.8773\n",
      "Epoch 15/20\n",
      "1688/1688 [==============================] - 1s 458us/step - loss: 0.2894 - accuracy: 0.8933 - val_loss: 0.3697 - val_accuracy: 0.8710\n",
      "Epoch 16/20\n",
      "1688/1688 [==============================] - 1s 470us/step - loss: 0.2875 - accuracy: 0.8944 - val_loss: 0.3607 - val_accuracy: 0.8740\n",
      "Epoch 17/20\n",
      "1688/1688 [==============================] - 1s 481us/step - loss: 0.2838 - accuracy: 0.8948 - val_loss: 0.3622 - val_accuracy: 0.8728\n",
      "Epoch 18/20\n",
      "1688/1688 [==============================] - 1s 501us/step - loss: 0.2800 - accuracy: 0.8958 - val_loss: 0.3864 - val_accuracy: 0.8653\n",
      "Epoch 19/20\n",
      "1688/1688 [==============================] - 1s 489us/step - loss: 0.2758 - accuracy: 0.8979 - val_loss: 0.3555 - val_accuracy: 0.8758\n",
      "Epoch 20/20\n",
      "1688/1688 [==============================] - 1s 507us/step - loss: 0.2733 - accuracy: 0.8975 - val_loss: 0.3613 - val_accuracy: 0.8760\n",
      "313/313 [==============================] - 0s 291us/step - loss: 0.3949 - accuracy: 0.8689\n",
      "Epoch 1/20\n",
      "1688/1688 [==============================] - 1s 560us/step - loss: 0.5784 - accuracy: 0.7954 - val_loss: 0.4418 - val_accuracy: 0.8412\n",
      "Epoch 2/20\n",
      "1688/1688 [==============================] - 1s 514us/step - loss: 0.4157 - accuracy: 0.8509 - val_loss: 0.3939 - val_accuracy: 0.8593\n",
      "Epoch 3/20\n",
      "1688/1688 [==============================] - 1s 488us/step - loss: 0.3820 - accuracy: 0.8612 - val_loss: 0.3740 - val_accuracy: 0.8657\n",
      "Epoch 4/20\n",
      "1688/1688 [==============================] - 1s 511us/step - loss: 0.3617 - accuracy: 0.8678 - val_loss: 0.3777 - val_accuracy: 0.8615\n",
      "Epoch 5/20\n",
      "1688/1688 [==============================] - 1s 499us/step - loss: 0.3463 - accuracy: 0.8738 - val_loss: 0.3835 - val_accuracy: 0.8622\n",
      "Epoch 6/20\n",
      "1688/1688 [==============================] - 1s 488us/step - loss: 0.3337 - accuracy: 0.8773 - val_loss: 0.3880 - val_accuracy: 0.8608\n",
      "Epoch 7/20\n",
      "1688/1688 [==============================] - 1s 479us/step - loss: 0.3231 - accuracy: 0.8808 - val_loss: 0.3627 - val_accuracy: 0.8692\n",
      "Epoch 8/20\n",
      "1688/1688 [==============================] - 1s 492us/step - loss: 0.3130 - accuracy: 0.8856 - val_loss: 0.3590 - val_accuracy: 0.8732\n",
      "Epoch 9/20\n",
      "1688/1688 [==============================] - 1s 478us/step - loss: 0.3066 - accuracy: 0.8867 - val_loss: 0.3627 - val_accuracy: 0.8705\n",
      "Epoch 10/20\n",
      "1688/1688 [==============================] - 1s 476us/step - loss: 0.3004 - accuracy: 0.8912 - val_loss: 0.3399 - val_accuracy: 0.8757\n",
      "Epoch 11/20\n",
      "1688/1688 [==============================] - 1s 478us/step - loss: 0.2950 - accuracy: 0.8906 - val_loss: 0.3846 - val_accuracy: 0.8637\n",
      "Epoch 12/20\n",
      "1688/1688 [==============================] - 1s 487us/step - loss: 0.2881 - accuracy: 0.8938 - val_loss: 0.3503 - val_accuracy: 0.8728\n",
      "Epoch 13/20\n",
      "1688/1688 [==============================] - 1s 500us/step - loss: 0.2839 - accuracy: 0.8946 - val_loss: 0.3513 - val_accuracy: 0.8777\n",
      "Epoch 14/20\n",
      "1688/1688 [==============================] - 1s 509us/step - loss: 0.2789 - accuracy: 0.8967 - val_loss: 0.3380 - val_accuracy: 0.8822\n",
      "Epoch 15/20\n",
      "1688/1688 [==============================] - 1s 511us/step - loss: 0.2730 - accuracy: 0.8990 - val_loss: 0.3700 - val_accuracy: 0.8688\n",
      "Epoch 16/20\n",
      "1688/1688 [==============================] - 1s 507us/step - loss: 0.2723 - accuracy: 0.8997 - val_loss: 0.3484 - val_accuracy: 0.8795\n",
      "Epoch 17/20\n",
      "1688/1688 [==============================] - 1s 542us/step - loss: 0.2662 - accuracy: 0.9013 - val_loss: 0.3518 - val_accuracy: 0.8748\n",
      "Epoch 18/20\n",
      "1688/1688 [==============================] - 1s 565us/step - loss: 0.2635 - accuracy: 0.9021 - val_loss: 0.3517 - val_accuracy: 0.8785\n",
      "Epoch 19/20\n",
      "1688/1688 [==============================] - 1s 489us/step - loss: 0.2609 - accuracy: 0.9034 - val_loss: 0.3447 - val_accuracy: 0.8823\n",
      "Epoch 20/20\n",
      "1688/1688 [==============================] - 1s 482us/step - loss: 0.2558 - accuracy: 0.9061 - val_loss: 0.3478 - val_accuracy: 0.8802\n",
      "313/313 [==============================] - 0s 324us/step - loss: 0.3731 - accuracy: 0.8698\n",
      "Epoch 1/20\n",
      "1688/1688 [==============================] - 1s 522us/step - loss: 0.5734 - accuracy: 0.8046 - val_loss: 0.4389 - val_accuracy: 0.8492\n",
      "Epoch 2/20\n",
      "1688/1688 [==============================] - 1s 467us/step - loss: 0.4199 - accuracy: 0.8516 - val_loss: 0.3976 - val_accuracy: 0.8592\n",
      "Epoch 3/20\n",
      "1688/1688 [==============================] - 1s 470us/step - loss: 0.3817 - accuracy: 0.8649 - val_loss: 0.3785 - val_accuracy: 0.8655\n",
      "Epoch 4/20\n",
      "1688/1688 [==============================] - 1s 470us/step - loss: 0.3564 - accuracy: 0.8725 - val_loss: 0.3682 - val_accuracy: 0.8683\n",
      "Epoch 5/20\n",
      "1688/1688 [==============================] - 1s 499us/step - loss: 0.3397 - accuracy: 0.8770 - val_loss: 0.3808 - val_accuracy: 0.8645\n",
      "Epoch 6/20\n",
      "1688/1688 [==============================] - 1s 483us/step - loss: 0.3254 - accuracy: 0.8827 - val_loss: 0.3696 - val_accuracy: 0.8675\n",
      "Epoch 7/20\n",
      "1688/1688 [==============================] - 1s 467us/step - loss: 0.3110 - accuracy: 0.8863 - val_loss: 0.3729 - val_accuracy: 0.8707\n",
      "Epoch 8/20\n",
      "1688/1688 [==============================] - 1s 470us/step - loss: 0.3003 - accuracy: 0.8913 - val_loss: 0.3566 - val_accuracy: 0.8780\n",
      "Epoch 9/20\n",
      "1688/1688 [==============================] - 1s 478us/step - loss: 0.2935 - accuracy: 0.8915 - val_loss: 0.3715 - val_accuracy: 0.8723\n",
      "Epoch 10/20\n",
      "1688/1688 [==============================] - 1s 473us/step - loss: 0.2847 - accuracy: 0.8949 - val_loss: 0.3470 - val_accuracy: 0.8795\n",
      "Epoch 11/20\n",
      "1688/1688 [==============================] - 1s 493us/step - loss: 0.2779 - accuracy: 0.8970 - val_loss: 0.3930 - val_accuracy: 0.8642\n",
      "Epoch 12/20\n",
      "1688/1688 [==============================] - 1s 477us/step - loss: 0.2711 - accuracy: 0.8998 - val_loss: 0.3535 - val_accuracy: 0.8760\n",
      "Epoch 13/20\n",
      "1688/1688 [==============================] - 1s 480us/step - loss: 0.2664 - accuracy: 0.9011 - val_loss: 0.3425 - val_accuracy: 0.8807\n",
      "Epoch 14/20\n",
      "1688/1688 [==============================] - 1s 471us/step - loss: 0.2595 - accuracy: 0.9036 - val_loss: 0.3876 - val_accuracy: 0.8723\n",
      "Epoch 15/20\n"
     ]
    },
    {
     "name": "stdout",
     "output_type": "stream",
     "text": [
      "1688/1688 [==============================] - 1s 483us/step - loss: 0.2556 - accuracy: 0.9054 - val_loss: 0.3558 - val_accuracy: 0.8815\n",
      "Epoch 16/20\n",
      "1688/1688 [==============================] - 1s 501us/step - loss: 0.2500 - accuracy: 0.9070 - val_loss: 0.3791 - val_accuracy: 0.8753\n",
      "Epoch 17/20\n",
      "1688/1688 [==============================] - 1s 532us/step - loss: 0.2468 - accuracy: 0.9086 - val_loss: 0.3566 - val_accuracy: 0.8773\n",
      "Epoch 18/20\n",
      "1688/1688 [==============================] - 1s 473us/step - loss: 0.2425 - accuracy: 0.9095 - val_loss: 0.3602 - val_accuracy: 0.8787\n",
      "Epoch 19/20\n",
      "1688/1688 [==============================] - 1s 470us/step - loss: 0.2389 - accuracy: 0.9118 - val_loss: 0.3574 - val_accuracy: 0.8807\n",
      "Epoch 20/20\n",
      "1688/1688 [==============================] - 1s 491us/step - loss: 0.2347 - accuracy: 0.9125 - val_loss: 0.3591 - val_accuracy: 0.8823\n",
      "313/313 [==============================] - 0s 311us/step - loss: 0.3710 - accuracy: 0.8769\n",
      "Epoch 1/20\n",
      "1688/1688 [==============================] - 1s 514us/step - loss: 0.5307 - accuracy: 0.8140 - val_loss: 0.4301 - val_accuracy: 0.8455\n",
      "Epoch 2/20\n",
      "1688/1688 [==============================] - 1s 494us/step - loss: 0.3947 - accuracy: 0.8584 - val_loss: 0.3760 - val_accuracy: 0.8638\n",
      "Epoch 3/20\n",
      "1688/1688 [==============================] - 1s 470us/step - loss: 0.3576 - accuracy: 0.8701 - val_loss: 0.3586 - val_accuracy: 0.8705\n",
      "Epoch 4/20\n",
      "1688/1688 [==============================] - 1s 483us/step - loss: 0.3364 - accuracy: 0.8777 - val_loss: 0.3539 - val_accuracy: 0.8727\n",
      "Epoch 5/20\n",
      "1688/1688 [==============================] - 1s 471us/step - loss: 0.3231 - accuracy: 0.8819 - val_loss: 0.3487 - val_accuracy: 0.8750\n",
      "Epoch 6/20\n",
      "1688/1688 [==============================] - 1s 470us/step - loss: 0.3082 - accuracy: 0.8874 - val_loss: 0.3710 - val_accuracy: 0.8720\n",
      "Epoch 7/20\n",
      "1688/1688 [==============================] - 1s 464us/step - loss: 0.2968 - accuracy: 0.8900 - val_loss: 0.3458 - val_accuracy: 0.8763\n",
      "Epoch 8/20\n",
      "1688/1688 [==============================] - 1s 482us/step - loss: 0.2872 - accuracy: 0.8939 - val_loss: 0.3305 - val_accuracy: 0.8808\n",
      "Epoch 9/20\n",
      "1688/1688 [==============================] - 1s 475us/step - loss: 0.2817 - accuracy: 0.8950 - val_loss: 0.3309 - val_accuracy: 0.8817\n",
      "Epoch 10/20\n",
      "1688/1688 [==============================] - 1s 467us/step - loss: 0.2720 - accuracy: 0.8988 - val_loss: 0.3277 - val_accuracy: 0.8818\n",
      "Epoch 11/20\n",
      "1688/1688 [==============================] - 1s 469us/step - loss: 0.2654 - accuracy: 0.9016 - val_loss: 0.3966 - val_accuracy: 0.8642\n",
      "Epoch 12/20\n",
      "1688/1688 [==============================] - 1s 469us/step - loss: 0.2593 - accuracy: 0.9021 - val_loss: 0.3458 - val_accuracy: 0.8723\n",
      "Epoch 13/20\n",
      "1688/1688 [==============================] - 1s 457us/step - loss: 0.2531 - accuracy: 0.9052 - val_loss: 0.3450 - val_accuracy: 0.8797\n",
      "Epoch 14/20\n",
      "1688/1688 [==============================] - 1s 483us/step - loss: 0.2482 - accuracy: 0.9067 - val_loss: 0.3318 - val_accuracy: 0.8872\n",
      "Epoch 15/20\n",
      "1688/1688 [==============================] - 1s 523us/step - loss: 0.2426 - accuracy: 0.9093 - val_loss: 0.3396 - val_accuracy: 0.8838\n",
      "Epoch 16/20\n",
      "1688/1688 [==============================] - 1s 542us/step - loss: 0.2389 - accuracy: 0.9107 - val_loss: 0.3596 - val_accuracy: 0.8823\n",
      "Epoch 17/20\n",
      "1688/1688 [==============================] - 1s 470us/step - loss: 0.2342 - accuracy: 0.9125 - val_loss: 0.3359 - val_accuracy: 0.8852\n",
      "Epoch 18/20\n",
      "1688/1688 [==============================] - 1s 466us/step - loss: 0.2316 - accuracy: 0.9141 - val_loss: 0.3344 - val_accuracy: 0.8882\n",
      "Epoch 19/20\n",
      "1688/1688 [==============================] - 1s 467us/step - loss: 0.2249 - accuracy: 0.9151 - val_loss: 0.3386 - val_accuracy: 0.8833\n",
      "Epoch 20/20\n",
      "1688/1688 [==============================] - 1s 488us/step - loss: 0.2214 - accuracy: 0.9173 - val_loss: 0.3401 - val_accuracy: 0.8865\n",
      "313/313 [==============================] - 0s 317us/step - loss: 0.3637 - accuracy: 0.8800\n",
      "best accuracy is 0.8799999952316284\n",
      "act is relu, n1 is 40, n2 is 40\n"
     ]
    }
   ],
   "source": [
    "#Insert your code here. You can add more cells if necessary\n",
    "act = ['sigmoid','tanh','relu'] \n",
    "n1 = [20,40]\n",
    "n2 = [20,40]\n",
    "max_acc = 0\n",
    "best_para = {\"N\":None,\"n\":None,\"act\":None}\n",
    "for a in act:\n",
    "    for n in n1:\n",
    "        for N in n2:\n",
    "            dnn_model = Sequential()\n",
    "            dnn_model.add(Dense(units=n,  input_shape=(784,), activation= a ))\n",
    "            dnn_model.add(Dense(units=N, activation= a))\n",
    "            dnn_model.add(Dense(units=10, activation='softmax'))\n",
    "            dnn_model.build() \n",
    "            dnn_model.compile(optimizer='adam', loss='sparse_categorical_crossentropy', metrics=['accuracy'])\n",
    "            dnn_model.fit(x=X_train, y=y_train, batch_size=32, epochs=20, validation_data=(X_valid, y_valid))\n",
    "            acc = dnn_model.evaluate(X_test, y_test)[1]\n",
    "            if acc > max_acc:\n",
    "                max_acc = acc\n",
    "                best_para[\"n\"] = n\n",
    "                best_para[\"act\"] = a\n",
    "                best_para[\"N\"] = N\n",
    "print(f'best accuracy is {max_acc}')\n",
    "print(f'act is {best_para[\"act\"]}, n1 is {best_para[\"n\"]}, n2 is {best_para[\"N\"]}')"
   ]
  },
  {
   "cell_type": "markdown",
   "metadata": {},
   "source": [
    "####  <span style=\"color:red\">**Question 2.6**</span>. Experimenting with **the label smoothing** technique\n",
    "<div style=\"text-align: right\"> <span style=\"color:red\">[5 points]</span> </div>\n",
    "\n",
    "Implement the label smoothing technique (i.e., [link for main paper](https://papers.nips.cc/paper/2019/file/f1748d6b0fd9d439f71450117eba2725-Paper.pdf) from Goeff Hinton) by yourself. Note that you cannot use the built-in label-smoothing loss function in TF2.x. Try the label smoothing technique with $\\alpha =0.1, 0.15, 0.2$ and report the performances. You need to examine the label smoothing technique with the best architecture obtained in **Question 2.5**."
   ]
  },
  {
   "cell_type": "code",
   "execution_count": 28,
   "metadata": {},
   "outputs": [
    {
     "data": {
      "text/plain": [
       "array([[0.01      , 0.01      , 0.01      , ..., 0.01      , 0.01      ,\n",
       "        0.90999997],\n",
       "       [0.90999997, 0.01      , 0.01      , ..., 0.01      , 0.01      ,\n",
       "        0.01      ],\n",
       "       [0.90999997, 0.01      , 0.01      , ..., 0.01      , 0.01      ,\n",
       "        0.01      ],\n",
       "       ...,\n",
       "       [0.01      , 0.01      , 0.01      , ..., 0.01      , 0.01      ,\n",
       "        0.01      ],\n",
       "       [0.90999997, 0.01      , 0.01      , ..., 0.01      , 0.01      ,\n",
       "        0.01      ],\n",
       "       [0.01      , 0.01      , 0.01      , ..., 0.01      , 0.01      ,\n",
       "        0.01      ]], dtype=float32)"
      ]
     },
     "execution_count": 28,
     "metadata": {},
     "output_type": "execute_result"
    }
   ],
   "source": [
    "from keras.utils import to_categorical\n",
    " \n",
    "y_train_full = to_categorical(y_train_full)\n",
    "label_1=y_train_full*(1-0.1)+0.1/10\n",
    "label_1"
   ]
  },
  {
   "cell_type": "code",
   "execution_count": 29,
   "metadata": {},
   "outputs": [],
   "source": [
    "y_test = to_categorical(y_test)"
   ]
  },
  {
   "cell_type": "code",
   "execution_count": 30,
   "metadata": {},
   "outputs": [],
   "source": [
    "N = X_train_full.shape[0]\n",
    "i = math.floor(0.9*N)\n",
    "X_train, label_1_train = X_train_full[:i], label_1[:i]#Insert your code here\n",
    "X_valid, label_1_valid = X_train_full[i:], label_1[i:]#Insert your code here\n",
    "X_train, X_valid, X_test = X_train/255.0, X_valid/255.0, X_test/255.0#Insert your code here"
   ]
  },
  {
   "cell_type": "code",
   "execution_count": 32,
   "metadata": {},
   "outputs": [
    {
     "name": "stdout",
     "output_type": "stream",
     "text": [
      "Epoch 1/20\n",
      "1622/1688 [===========================>..] - ETA: 0s - loss: 0.9577 - accuracy: 0.8155WARNING:tensorflow:Callbacks method `on_test_batch_end` is slow compared to the batch time (batch time: 0.0000s vs `on_test_batch_end` time: 0.0010s). Check your callbacks.\n",
      "1688/1688 [==============================] - 1s 586us/step - loss: 0.9539 - accuracy: 0.8170 - val_loss: 0.8618 - val_accuracy: 0.8510\n",
      "Epoch 2/20\n",
      "1688/1688 [==============================] - 1s 508us/step - loss: 0.8343 - accuracy: 0.8613 - val_loss: 0.8126 - val_accuracy: 0.8707\n",
      "Epoch 3/20\n",
      "1688/1688 [==============================] - 1s 543us/step - loss: 0.8018 - accuracy: 0.8718 - val_loss: 0.7918 - val_accuracy: 0.8738\n",
      "Epoch 4/20\n",
      "1688/1688 [==============================] - 1s 483us/step - loss: 0.7802 - accuracy: 0.8796 - val_loss: 0.7929 - val_accuracy: 0.8727\n",
      "Epoch 5/20\n",
      "1688/1688 [==============================] - 1s 469us/step - loss: 0.7672 - accuracy: 0.8851 - val_loss: 0.7820 - val_accuracy: 0.8785\n",
      "Epoch 6/20\n",
      "1688/1688 [==============================] - 1s 476us/step - loss: 0.7552 - accuracy: 0.8899 - val_loss: 0.7817 - val_accuracy: 0.8727\n",
      "Epoch 7/20\n",
      "1688/1688 [==============================] - 1s 471us/step - loss: 0.7472 - accuracy: 0.8926 - val_loss: 0.7759 - val_accuracy: 0.8767\n",
      "Epoch 8/20\n",
      "1688/1688 [==============================] - 1s 469us/step - loss: 0.7395 - accuracy: 0.8969 - val_loss: 0.7715 - val_accuracy: 0.8790\n",
      "Epoch 9/20\n",
      "1688/1688 [==============================] - 1s 473us/step - loss: 0.7339 - accuracy: 0.8994 - val_loss: 0.7745 - val_accuracy: 0.8807\n",
      "Epoch 10/20\n",
      "1688/1688 [==============================] - 1s 473us/step - loss: 0.7291 - accuracy: 0.9004 - val_loss: 0.7637 - val_accuracy: 0.8820\n",
      "Epoch 11/20\n",
      "1688/1688 [==============================] - 1s 478us/step - loss: 0.7233 - accuracy: 0.9029 - val_loss: 0.7988 - val_accuracy: 0.8718\n",
      "Epoch 12/20\n",
      "1688/1688 [==============================] - 1s 474us/step - loss: 0.7190 - accuracy: 0.9043 - val_loss: 0.7732 - val_accuracy: 0.8758\n",
      "Epoch 13/20\n",
      "1688/1688 [==============================] - 1s 476us/step - loss: 0.7150 - accuracy: 0.9059 - val_loss: 0.7636 - val_accuracy: 0.8852\n",
      "Epoch 14/20\n",
      "1688/1688 [==============================] - 1s 497us/step - loss: 0.7109 - accuracy: 0.9089 - val_loss: 0.7585 - val_accuracy: 0.8848\n",
      "Epoch 15/20\n",
      "1688/1688 [==============================] - 1s 515us/step - loss: 0.7064 - accuracy: 0.9105 - val_loss: 0.7576 - val_accuracy: 0.8842\n",
      "Epoch 16/20\n",
      "1688/1688 [==============================] - 1s 497us/step - loss: 0.7052 - accuracy: 0.9107 - val_loss: 0.7596 - val_accuracy: 0.8822\n",
      "Epoch 17/20\n",
      "1688/1688 [==============================] - 1s 482us/step - loss: 0.7009 - accuracy: 0.9144 - val_loss: 0.7670 - val_accuracy: 0.8802\n",
      "Epoch 18/20\n",
      "1688/1688 [==============================] - 1s 483us/step - loss: 0.6987 - accuracy: 0.9139 - val_loss: 0.7579 - val_accuracy: 0.8812\n",
      "Epoch 19/20\n",
      "1688/1688 [==============================] - 1s 477us/step - loss: 0.6956 - accuracy: 0.9162 - val_loss: 0.7584 - val_accuracy: 0.8838\n",
      "Epoch 20/20\n",
      "1688/1688 [==============================] - 1s 478us/step - loss: 0.6923 - accuracy: 0.9171 - val_loss: 0.7543 - val_accuracy: 0.8807\n",
      "313/313 [==============================] - 0s 314us/step - loss: 2.8467 - accuracy: 0.1000\n",
      "best accuracy is 0.10000000149011612\n"
     ]
    }
   ],
   "source": [
    "#Insert your code here. You can add more cells if necessary\n",
    "max_acc = 0\n",
    "\n",
    "dnn_model = Sequential()\n",
    "dnn_model.add(Dense(units=40,  input_shape=(784,), activation= 'relu' ))\n",
    "dnn_model.add(Dense(units=40, activation= 'relu'))\n",
    "dnn_model.add(Dense(units=10, activation='softmax'))\n",
    "dnn_model.build() \n",
    "dnn_model.compile(optimizer='adam', loss='categorical_crossentropy', metrics=['accuracy'])\n",
    "dnn_model.fit(x=X_train, y=label_1_train, batch_size=32, epochs=20, validation_data=(X_valid, label_1_valid))\n",
    "acc = dnn_model.evaluate(X_test, y_test)[1]\n",
    "if acc > max_acc:\n",
    "    max_acc = acc\n",
    "print(f'best accuracy is {max_acc}')\n"
   ]
  },
  {
   "cell_type": "code",
   "execution_count": 33,
   "metadata": {},
   "outputs": [
    {
     "data": {
      "text/plain": [
       "array([[0.015, 0.015, 0.015, ..., 0.015, 0.015, 0.865],\n",
       "       [0.865, 0.015, 0.015, ..., 0.015, 0.015, 0.015],\n",
       "       [0.865, 0.015, 0.015, ..., 0.015, 0.015, 0.015],\n",
       "       ...,\n",
       "       [0.015, 0.015, 0.015, ..., 0.015, 0.015, 0.015],\n",
       "       [0.865, 0.015, 0.015, ..., 0.015, 0.015, 0.015],\n",
       "       [0.015, 0.015, 0.015, ..., 0.015, 0.015, 0.015]], dtype=float32)"
      ]
     },
     "execution_count": 33,
     "metadata": {},
     "output_type": "execute_result"
    }
   ],
   "source": [
    "label_2=y_train_full*(1-0.15)+0.15/10\n",
    "label_2"
   ]
  },
  {
   "cell_type": "code",
   "execution_count": 34,
   "metadata": {},
   "outputs": [],
   "source": [
    "N = X_train_full.shape[0]\n",
    "i = math.floor(0.9*N)\n",
    "X_train, label_2_train = X_train_full[:i], label_2[:i]#Insert your code here\n",
    "X_valid, label_2_valid = X_train_full[i:], label_2[i:]#Insert your code here\n",
    "X_train, X_valid, X_test = X_train/255.0, X_valid/255.0, X_test/255.0#Insert your code here"
   ]
  },
  {
   "cell_type": "code",
   "execution_count": 35,
   "metadata": {},
   "outputs": [
    {
     "name": "stdout",
     "output_type": "stream",
     "text": [
      "Epoch 1/20\n",
      "1688/1688 [==============================] - 1s 527us/step - loss: 1.1049 - accuracy: 0.8176 - val_loss: 1.0331 - val_accuracy: 0.8467\n",
      "Epoch 2/20\n",
      "1688/1688 [==============================] - 1s 468us/step - loss: 0.9970 - accuracy: 0.8603 - val_loss: 0.9943 - val_accuracy: 0.8582\n",
      "Epoch 3/20\n",
      "1688/1688 [==============================] - 1s 468us/step - loss: 0.9658 - accuracy: 0.8731 - val_loss: 0.9596 - val_accuracy: 0.8722\n",
      "Epoch 4/20\n",
      "1688/1688 [==============================] - 1s 473us/step - loss: 0.9470 - accuracy: 0.8807 - val_loss: 0.9530 - val_accuracy: 0.8730\n",
      "Epoch 5/20\n",
      "1688/1688 [==============================] - 1s 475us/step - loss: 0.9342 - accuracy: 0.8852 - val_loss: 0.9470 - val_accuracy: 0.8772\n",
      "Epoch 6/20\n",
      "1688/1688 [==============================] - 1s 472us/step - loss: 0.9230 - accuracy: 0.8909 - val_loss: 0.9478 - val_accuracy: 0.8772\n",
      "Epoch 7/20\n",
      "1688/1688 [==============================] - 1s 478us/step - loss: 0.9140 - accuracy: 0.8949 - val_loss: 0.9463 - val_accuracy: 0.8755\n",
      "Epoch 8/20\n",
      "1688/1688 [==============================] - 1s 469us/step - loss: 0.9069 - accuracy: 0.8972 - val_loss: 0.9372 - val_accuracy: 0.8798\n",
      "Epoch 9/20\n",
      "1688/1688 [==============================] - 1s 472us/step - loss: 0.9016 - accuracy: 0.8992 - val_loss: 0.9341 - val_accuracy: 0.8800\n",
      "Epoch 10/20\n",
      "1688/1688 [==============================] - 1s 476us/step - loss: 0.8950 - accuracy: 0.9031 - val_loss: 0.9268 - val_accuracy: 0.8843\n",
      "Epoch 11/20\n",
      "1688/1688 [==============================] - 1s 473us/step - loss: 0.8920 - accuracy: 0.9041 - val_loss: 0.9428 - val_accuracy: 0.8758\n",
      "Epoch 12/20\n",
      "1688/1688 [==============================] - 1s 470us/step - loss: 0.8869 - accuracy: 0.9064 - val_loss: 0.9472 - val_accuracy: 0.8718\n",
      "Epoch 13/20\n",
      "1688/1688 [==============================] - 1s 494us/step - loss: 0.8841 - accuracy: 0.9077 - val_loss: 0.9191 - val_accuracy: 0.8858\n",
      "Epoch 14/20\n",
      "1688/1688 [==============================] - 1s 524us/step - loss: 0.8796 - accuracy: 0.9109 - val_loss: 0.9248 - val_accuracy: 0.8850\n",
      "Epoch 15/20\n",
      "1688/1688 [==============================] - 1s 481us/step - loss: 0.8759 - accuracy: 0.9125 - val_loss: 0.9291 - val_accuracy: 0.8832\n",
      "Epoch 16/20\n",
      "1688/1688 [==============================] - 1s 473us/step - loss: 0.8740 - accuracy: 0.9129 - val_loss: 0.9245 - val_accuracy: 0.8835\n",
      "Epoch 17/20\n",
      "1688/1688 [==============================] - 1s 483us/step - loss: 0.8721 - accuracy: 0.9145 - val_loss: 0.9366 - val_accuracy: 0.8810\n",
      "Epoch 18/20\n",
      "1688/1688 [==============================] - 1s 473us/step - loss: 0.8685 - accuracy: 0.9164 - val_loss: 0.9241 - val_accuracy: 0.8872\n",
      "Epoch 19/20\n",
      "1688/1688 [==============================] - 1s 485us/step - loss: 0.8663 - accuracy: 0.9183 - val_loss: 0.9284 - val_accuracy: 0.8820\n",
      "Epoch 20/20\n",
      "1688/1688 [==============================] - 1s 473us/step - loss: 0.8645 - accuracy: 0.9182 - val_loss: 0.9252 - val_accuracy: 0.8845\n",
      "313/313 [==============================] - 0s 333us/step - loss: 3.5027 - accuracy: 0.1000\n",
      "best accuracy is 0.10000000149011612\n"
     ]
    }
   ],
   "source": [
    "#Insert your code here. You can add more cells if necessary\n",
    "max_acc = 0\n",
    "\n",
    "dnn_model = Sequential()\n",
    "dnn_model.add(Dense(units=40,  input_shape=(784,), activation= 'relu' ))\n",
    "dnn_model.add(Dense(units=40, activation= 'relu'))\n",
    "dnn_model.add(Dense(units=10, activation='softmax'))\n",
    "dnn_model.build() \n",
    "dnn_model.compile(optimizer='adam', loss='categorical_crossentropy', metrics=['accuracy'])\n",
    "dnn_model.fit(x=X_train, y=label_2_train, batch_size=32, epochs=20, validation_data=(X_valid, label_2_valid))\n",
    "acc = dnn_model.evaluate(X_test, y_test)[1]\n",
    "if acc > max_acc:\n",
    "    max_acc = acc\n",
    "print(f'best accuracy is {max_acc}')\n"
   ]
  },
  {
   "cell_type": "code",
   "execution_count": 36,
   "metadata": {},
   "outputs": [
    {
     "data": {
      "text/plain": [
       "array([[0.02, 0.02, 0.02, ..., 0.02, 0.02, 0.82],\n",
       "       [0.82, 0.02, 0.02, ..., 0.02, 0.02, 0.02],\n",
       "       [0.82, 0.02, 0.02, ..., 0.02, 0.02, 0.02],\n",
       "       ...,\n",
       "       [0.02, 0.02, 0.02, ..., 0.02, 0.02, 0.02],\n",
       "       [0.82, 0.02, 0.02, ..., 0.02, 0.02, 0.02],\n",
       "       [0.02, 0.02, 0.02, ..., 0.02, 0.02, 0.02]], dtype=float32)"
      ]
     },
     "execution_count": 36,
     "metadata": {},
     "output_type": "execute_result"
    }
   ],
   "source": [
    "label_3=y_train_full*(1-0.2)+0.2/10\n",
    "label_3"
   ]
  },
  {
   "cell_type": "code",
   "execution_count": 39,
   "metadata": {},
   "outputs": [],
   "source": [
    "N = X_train_full.shape[0]\n",
    "i = math.floor(0.9*N)\n",
    "X_train, label_3_train = X_train_full[:i], label_3[:i]#Insert your code here\n",
    "X_valid, label_3_valid = X_train_full[i:], label_3[i:]#Insert your code here\n",
    "X_train, X_valid, X_test = X_train/255.0, X_valid/255.0, X_test/255.0#Insert your code here"
   ]
  },
  {
   "cell_type": "code",
   "execution_count": 40,
   "metadata": {},
   "outputs": [
    {
     "name": "stdout",
     "output_type": "stream",
     "text": [
      "Epoch 1/20\n",
      "1688/1688 [==============================] - 1s 584us/step - loss: 1.2410 - accuracy: 0.8151 - val_loss: 1.1693 - val_accuracy: 0.8478\n",
      "Epoch 2/20\n",
      "1688/1688 [==============================] - 1s 552us/step - loss: 1.1429 - accuracy: 0.8600 - val_loss: 1.1374 - val_accuracy: 0.8578\n",
      "Epoch 3/20\n",
      "1688/1688 [==============================] - 1s 595us/step - loss: 1.1177 - accuracy: 0.8702 - val_loss: 1.1127 - val_accuracy: 0.8677\n",
      "Epoch 4/20\n",
      "1688/1688 [==============================] - 1s 513us/step - loss: 1.1008 - accuracy: 0.8784 - val_loss: 1.1055 - val_accuracy: 0.8743\n",
      "Epoch 5/20\n",
      "1688/1688 [==============================] - 1s 552us/step - loss: 1.0882 - accuracy: 0.8835 - val_loss: 1.1029 - val_accuracy: 0.8745\n",
      "Epoch 6/20\n",
      "1688/1688 [==============================] - 1s 513us/step - loss: 1.0796 - accuracy: 0.8889 - val_loss: 1.1025 - val_accuracy: 0.8713\n",
      "Epoch 7/20\n",
      "1688/1688 [==============================] - 1s 532us/step - loss: 1.0721 - accuracy: 0.8925 - val_loss: 1.1014 - val_accuracy: 0.8730\n",
      "Epoch 8/20\n",
      "1688/1688 [==============================] - 1s 485us/step - loss: 1.0656 - accuracy: 0.8956 - val_loss: 1.0922 - val_accuracy: 0.8782\n",
      "Epoch 9/20\n",
      "1688/1688 [==============================] - 1s 483us/step - loss: 1.0601 - accuracy: 0.8974 - val_loss: 1.1024 - val_accuracy: 0.8727\n",
      "Epoch 10/20\n",
      "1688/1688 [==============================] - 1s 479us/step - loss: 1.0552 - accuracy: 0.8998 - val_loss: 1.0815 - val_accuracy: 0.8848\n",
      "Epoch 11/20\n",
      "1688/1688 [==============================] - 1s 514us/step - loss: 1.0519 - accuracy: 0.9018 - val_loss: 1.1011 - val_accuracy: 0.8752\n",
      "Epoch 12/20\n",
      "1688/1688 [==============================] - 1s 516us/step - loss: 1.0469 - accuracy: 0.9050 - val_loss: 1.0926 - val_accuracy: 0.8782\n",
      "Epoch 13/20\n",
      "1688/1688 [==============================] - 1s 531us/step - loss: 1.0438 - accuracy: 0.9069 - val_loss: 1.0830 - val_accuracy: 0.8833\n",
      "Epoch 14/20\n",
      "1688/1688 [==============================] - 1s 502us/step - loss: 1.0397 - accuracy: 0.9089 - val_loss: 1.0790 - val_accuracy: 0.8835\n",
      "Epoch 15/20\n",
      "1688/1688 [==============================] - 1s 498us/step - loss: 1.0374 - accuracy: 0.9105 - val_loss: 1.0914 - val_accuracy: 0.8797\n",
      "Epoch 16/20\n",
      "1688/1688 [==============================] - 1s 491us/step - loss: 1.0364 - accuracy: 0.9114 - val_loss: 1.0835 - val_accuracy: 0.8805\n",
      "Epoch 17/20\n",
      "1688/1688 [==============================] - 1s 528us/step - loss: 1.0324 - accuracy: 0.9130 - val_loss: 1.0927 - val_accuracy: 0.8778\n",
      "Epoch 18/20\n",
      "1688/1688 [==============================] - 1s 552us/step - loss: 1.0304 - accuracy: 0.9133 - val_loss: 1.0829 - val_accuracy: 0.8825\n",
      "Epoch 19/20\n",
      "1688/1688 [==============================] - 1s 491us/step - loss: 1.0282 - accuracy: 0.9146 - val_loss: 1.0851 - val_accuracy: 0.8807\n",
      "Epoch 20/20\n",
      "1688/1688 [==============================] - 1s 486us/step - loss: 1.0257 - accuracy: 0.9155 - val_loss: 1.0768 - val_accuracy: 0.8847\n",
      "313/313 [==============================] - 0s 330us/step - loss: 3.0370 - accuracy: 0.1000\n",
      "best accuracy is 0.10000000149011612\n"
     ]
    }
   ],
   "source": [
    "#Insert your code here. You can add more cells if necessary\n",
    "max_acc = 0\n",
    "\n",
    "dnn_model = Sequential()\n",
    "dnn_model.add(Dense(units=40,  input_shape=(784,), activation= 'relu' ))\n",
    "dnn_model.add(Dense(units=40, activation= 'relu'))\n",
    "dnn_model.add(Dense(units=10, activation='softmax'))\n",
    "dnn_model.build() \n",
    "dnn_model.compile(optimizer='adam', loss='categorical_crossentropy', metrics=['accuracy'])\n",
    "dnn_model.fit(x=X_train, y=label_3_train, batch_size=32, epochs=20, validation_data=(X_valid, label_3_valid))\n",
    "acc = dnn_model.evaluate(X_test, y_test)[1]\n",
    "if acc > max_acc:\n",
    "    max_acc = acc\n",
    "print(f'best accuracy is {max_acc}')"
   ]
  }
 ],
 "metadata": {
  "kernelspec": {
   "display_name": "Python 3 (ipykernel)",
   "language": "python",
   "name": "python3"
  },
  "language_info": {
   "codemirror_mode": {
    "name": "ipython",
    "version": 3
   },
   "file_extension": ".py",
   "mimetype": "text/x-python",
   "name": "python",
   "nbconvert_exporter": "python",
   "pygments_lexer": "ipython3",
   "version": "3.8.13"
  }
 },
 "nbformat": 4,
 "nbformat_minor": 4
}
